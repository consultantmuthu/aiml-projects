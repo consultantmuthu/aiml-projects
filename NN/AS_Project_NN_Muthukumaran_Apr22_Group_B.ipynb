{
 "cells": [
  {
   "cell_type": "markdown",
   "id": "e1c0e8fe",
   "metadata": {},
   "source": [
    " # <span style=\"font-family: Trebuchet MS; font-weight:bold;font-size:1.5em;color:#00b3e5;\">  Project in Neural Network(NN)"
   ]
  },
  {
   "cell_type": "markdown",
   "id": "f8f736b6",
   "metadata": {},
   "source": [
    "## <span style=\"font-family: Trebuchet MS; font-weight:bold;font-size:1.5em;color:#00b3e5;\">  Import all required modules"
   ]
  },
  {
   "cell_type": "code",
   "execution_count": 125,
   "id": "1278153e",
   "metadata": {},
   "outputs": [],
   "source": [
    "%matplotlib inline\n",
    "\n",
    "import pandas as pd\n",
    "import numpy as np\n",
    "import seaborn as sns\n",
    "import math as math\n",
    "import matplotlib.pyplot as plt"
   ]
  },
  {
   "cell_type": "markdown",
   "id": "aebbe905",
   "metadata": {},
   "source": [
    "## <span style=\"font-family: Trebuchet MS; font-weight:bold;font-size:1.2em;color:#00b3e5;\"> Common Functions "
   ]
  },
  {
   "cell_type": "code",
   "execution_count": 126,
   "id": "8420c695",
   "metadata": {},
   "outputs": [],
   "source": [
    "# Function to print Dataframe details like as I like :)\n",
    "def print_df_details(df):\n",
    "    print(\"\\n****** Start Dataframe Details ******\")\n",
    "    print(\"Dataframe Shape is \")\n",
    "    print(df.shape)\n",
    "    print(\"Dataframe Info is \")\n",
    "    print(df.info())\n",
    "    print(\"Dataframe random records \")\n",
    "    display(df.sample(5) if len(df) > 5 else df.sample(1))\n",
    "    print(\"****** End Dataframe Details ******\\n\")"
   ]
  },
  {
   "cell_type": "code",
   "execution_count": 127,
   "id": "6bbc418d",
   "metadata": {},
   "outputs": [],
   "source": [
    "# Function to print Classification Matrix\n",
    "# TODO - ?\n",
    "def print_metrics(test, labels):\n",
    "    #print(f\"accuracy = {accuracy_score(test, labels)} \"\n",
    "          #f\"precision = {precision_score(test, labels, pos_label='Yes')} \"\n",
    "          #f\"recall = {recall_score(test, labels, pos_label='Yes')} \"\n",
    "          #f\"f1-score = {f1_score(test, labels, pos_label='Yes')}\")\n",
    "    print(\"classification  Matrix:\\n\",classification_report(test,labels))"
   ]
  },
  {
   "cell_type": "code",
   "execution_count": 128,
   "id": "e9a4a89c",
   "metadata": {},
   "outputs": [],
   "source": [
    "def print_inference(value, txt):    \n",
    "    if (type(value) == str):\n",
    "        print(f\"[{value}] {txt}\")\n",
    "    elif (isinstance(value, list) == True):\n",
    "        print(f\"{value} [{len(value)}] {txt}\")\n",
    "    else:\n",
    "        print(f\"{value} {txt}\")"
   ]
  },
  {
   "cell_type": "code",
   "execution_count": 129,
   "id": "ee5cfe11",
   "metadata": {},
   "outputs": [],
   "source": [
    "# Read file and convert it to Dataframe\n",
    "def file_to_df(fqfn, file_type='csv'):\n",
    "    df = 'None'\n",
    "    # We are only handling csv files. How about .dat\n",
    "    # We are also using \"skipinitialspace\" parameter so that we \n",
    "    # can save some time in preprocessing later (ie, otherwise should do strip)\n",
    "    if (file_type == 'csv'):\n",
    "        df = pd.read_csv(fqfn, skipinitialspace = True)\n",
    "    else:\n",
    "        raise ValueError('Unsupported filetype ', file_type)\n",
    "    print_df_details(df)\n",
    "    return df"
   ]
  },
  {
   "cell_type": "code",
   "execution_count": 130,
   "id": "ab111b51",
   "metadata": {},
   "outputs": [],
   "source": [
    "# To start with - tried using the formula. However later figured out\n",
    "# functions like 'skew' in dataframe which provides the skenwess for\n",
    "# all numeric data. Currently making use of the skew function later\n",
    "# we need to check if there is a more suitable way to get all the skewness.\n",
    "# Irrespective of that - we should find a better way to convey almost\n",
    "# normal, slightly left skewed, extreme right skewed, etc.\n",
    "def find_skeweness(data):\n",
    "    rt_skewed_col = []\n",
    "    lt_skewed_col = []\n",
    "    nl_skewed_col = []\n",
    "    #Skew = 3 * (Mean – Median) / Standard Deviation\n",
    "    series = data.skew(axis='index',skipna=True,numeric_only=True)\n",
    "    # print(series)\n",
    "    for column in data.select_dtypes(include=[np.number]).columns:\n",
    "        if (series[column] == float(0)):\n",
    "            #print_inference(column, \" is normally distributed\")\n",
    "            nl_skewed_col.append(column)\n",
    "        elif (series[column] < float(0)):\n",
    "            #print_inference(column, \" is left skewed\")\n",
    "            lt_skewed_col.append(column)\n",
    "        elif (series[column] > float(0)):\n",
    "            #print_inference(column, \" is right skewed\")\n",
    "            rt_skewed_col.append(column)\n",
    "            \n",
    "    return rt_skewed_col, lt_skewed_col, nl_skewed_col"
   ]
  },
  {
   "cell_type": "code",
   "execution_count": 131,
   "id": "1ec5aefa",
   "metadata": {},
   "outputs": [],
   "source": [
    "# Trying to analyse five point summary details and tyring for automation\n",
    "def five_point_summary(data):\n",
    "    # Summary Data and Index\n",
    "    sd = None\n",
    "    si = ['count','unique','top','freq','mean','std','min','25%','50%','75%','max']\n",
    "    \n",
    "    # Columns in dataframe\n",
    "    columns = data.columns\n",
    "    \n",
    "    # For now - let us use transposed describtion and print it\n",
    "    sd = data.describe(include='all').T\n",
    "    display(sd)\n",
    "    \n",
    "    # Number of rows and columns in the dataframe\n",
    "    nr = data.shape[0]\n",
    "    nc = data.shape[1]\n",
    "    \n",
    "    nl_columns = []\n",
    "    cat_columns = []\n",
    "   \n",
    "    # Inferences based out of count\n",
    "    # Do this for all column\n",
    "    for column in columns:\n",
    "        if (int(sd[si[0]][column]) != nr):\n",
    "            #print_inference(column, \"is having some null or empty row or missing value\")\n",
    "            nl_columns.append(column)\n",
    "        \n",
    "    # Inferences based out of unique\n",
    "    cc = []\n",
    "    for column in columns:\n",
    "        if (sd[si[1]][column] >= 2 and sd[si[1]][column] <= 5):\n",
    "             cc.append(column)\n",
    "    if (len(cc) > 0):\n",
    "        #print_inference(cc, \"can be a category column\")\n",
    "        cat_columns.append(column)\n",
    "        \n",
    "    # Inferences based out of top and freq\n",
    "    # Balanced column or not\n",
    "    id_c = []\n",
    "    nm_c = []\n",
    "    bl_c = []\n",
    "    imbl_c = []\n",
    "    tpercent = 15\n",
    "    for column in columns:\n",
    "        freq = sd[si[3]][column]\n",
    "        uv = sd[si[1]][column]\n",
    "        count = int(sd[si[0]][column])\n",
    "        top = sd[si[2]][column]\n",
    "        tval = round(tpercent * count/100)\n",
    "        #print_debug_msg(freq, uv, count, tval, column)\n",
    "        \n",
    "        if (math.isnan(freq)):\n",
    "            nm_c.append(column)\n",
    "        elif (freq == 1):\n",
    "            id_c.append(column)\n",
    "        else:           \n",
    "            # Freq value should ideally be less than or equal \n",
    "            # to (count/unique + tval). We need to check and find\n",
    "            # more closer formula\n",
    "            if (freq > abs(((count/uv) + tval))):\n",
    "                imbl_c.append(column)\n",
    "            else:\n",
    "                bl_c.append(column)\n",
    "    \n",
    "    if (len(nl_columns) > 0):\n",
    "        print_inference(nl_columns, \" Columns are having null or empty or missing value\")\n",
    "    if (len(cat_columns) > 0):\n",
    "        print_inference(cat_columns, \" Column can be a category column\")\n",
    "    if (len(id_c) > 0):\n",
    "        print_inference(id_c,\" is an index column - we can drop\")\n",
    "    if (len(nm_c) > 0):\n",
    "        print_inference(nm_c,\" is an numeric column\")\n",
    "    if (len(bl_c) > 0):\n",
    "        print_inference(bl_c,\" is an blanced column\")\n",
    "    if (len(imbl_c) > 0):\n",
    "        print_inference(imbl_c,\" is an imbalanced column\")\n",
    "    \n",
    "    # Infereance based out of mean, median, etc\n",
    "    # Skewness\n",
    "    rt_skewed_col, lt_skewed_col, nl_skewed_col = find_skeweness(data)\n",
    "    \n",
    "    if (len(rt_skewed_col) > 0):\n",
    "        print_inference(rt_skewed_col,\" Columns are right skewed\")\n",
    "    if (len(lt_skewed_col) > 0):\n",
    "        print_inference(lt_skewed_col, \" Columns are left skewed\")\n",
    "    if (len(nl_skewed_col) > 0):\n",
    "        print_inference(nl_skewed_col, \" Normally distributed\")\n",
    "\n",
    "#five_point_summary(data)"
   ]
  },
  {
   "cell_type": "code",
   "execution_count": 132,
   "id": "6370dd85",
   "metadata": {},
   "outputs": [],
   "source": [
    "# NN - common functions which plots the accuracy vs val_accuracy, loss vs val_loss\n",
    "# Today it takes result of the fit history and assumes it has history as needed\n",
    "# TODO - We should generalize it\n",
    "def plot_NN_accuracy(history):\n",
    "    plt.plot(history.history['accuracy'])\n",
    "    plt.plot(history.history['val_accuracy'])\n",
    "    plt.title('model accuracy')\n",
    "    plt.ylabel('accuracy')\n",
    "    plt.xlabel('epoch')\n",
    "    plt.legend(['training', 'validation'], loc='best')\n",
    "    plt.show()\n",
    "\n",
    "def plot_NN_loss(history):\n",
    "    print(val_loss)\n",
    "    plt.plot(history.history['loss'])\n",
    "    plt.plot(history.history['val_loss'])\n",
    "    plt.title('Loss value')\n",
    "    plt.ylabel('loss')\n",
    "    plt.xlabel('epoch')\n",
    "    plt.legend(['training', 'validation'], loc='best')\n",
    "    plt.show()"
   ]
  },
  {
   "cell_type": "markdown",
   "id": "e83ae2df",
   "metadata": {},
   "source": [
    "## <span style=\"font-family: Trebuchet MS; font-weight:bold;font-size:1.2em;color:#00b3e5;\"> Electronics and Telecommunication"
   ]
  },
  {
   "cell_type": "markdown",
   "id": "bc6e4193",
   "metadata": {},
   "source": [
    "## <span style=\"font-family: Trebuchet MS; font-weight:bold;font-size:0.7em;color:darkorange;\">  Part A - Q1 A - Read the ‘Signals.csv’ as DatFrame and import required libraries."
   ]
  },
  {
   "cell_type": "code",
   "execution_count": 133,
   "id": "b9f8194e",
   "metadata": {},
   "outputs": [
    {
     "name": "stdout",
     "output_type": "stream",
     "text": [
      "\n",
      "****** Start Dataframe Details ******\n",
      "Dataframe Shape is \n",
      "(1599, 12)\n",
      "Dataframe Info is \n",
      "<class 'pandas.core.frame.DataFrame'>\n",
      "RangeIndex: 1599 entries, 0 to 1598\n",
      "Data columns (total 12 columns):\n",
      " #   Column           Non-Null Count  Dtype  \n",
      "---  ------           --------------  -----  \n",
      " 0   Parameter 1      1599 non-null   float64\n",
      " 1   Parameter 2      1599 non-null   float64\n",
      " 2   Parameter 3      1599 non-null   float64\n",
      " 3   Parameter 4      1599 non-null   float64\n",
      " 4   Parameter 5      1599 non-null   float64\n",
      " 5   Parameter 6      1599 non-null   float64\n",
      " 6   Parameter 7      1599 non-null   float64\n",
      " 7   Parameter 8      1599 non-null   float64\n",
      " 8   Parameter 9      1599 non-null   float64\n",
      " 9   Parameter 10     1599 non-null   float64\n",
      " 10  Parameter 11     1599 non-null   float64\n",
      " 11  Signal_Strength  1599 non-null   int64  \n",
      "dtypes: float64(11), int64(1)\n",
      "memory usage: 150.0 KB\n",
      "None\n",
      "Dataframe random records \n"
     ]
    },
    {
     "data": {
      "text/html": [
       "<div>\n",
       "<style scoped>\n",
       "    .dataframe tbody tr th:only-of-type {\n",
       "        vertical-align: middle;\n",
       "    }\n",
       "\n",
       "    .dataframe tbody tr th {\n",
       "        vertical-align: top;\n",
       "    }\n",
       "\n",
       "    .dataframe thead th {\n",
       "        text-align: right;\n",
       "    }\n",
       "</style>\n",
       "<table border=\"1\" class=\"dataframe\">\n",
       "  <thead>\n",
       "    <tr style=\"text-align: right;\">\n",
       "      <th></th>\n",
       "      <th>Parameter 1</th>\n",
       "      <th>Parameter 2</th>\n",
       "      <th>Parameter 3</th>\n",
       "      <th>Parameter 4</th>\n",
       "      <th>Parameter 5</th>\n",
       "      <th>Parameter 6</th>\n",
       "      <th>Parameter 7</th>\n",
       "      <th>Parameter 8</th>\n",
       "      <th>Parameter 9</th>\n",
       "      <th>Parameter 10</th>\n",
       "      <th>Parameter 11</th>\n",
       "      <th>Signal_Strength</th>\n",
       "    </tr>\n",
       "  </thead>\n",
       "  <tbody>\n",
       "    <tr>\n",
       "      <th>1266</th>\n",
       "      <td>7.2</td>\n",
       "      <td>0.57</td>\n",
       "      <td>0.05</td>\n",
       "      <td>2.3</td>\n",
       "      <td>0.081</td>\n",
       "      <td>16.0</td>\n",
       "      <td>36.0</td>\n",
       "      <td>0.99564</td>\n",
       "      <td>3.38</td>\n",
       "      <td>0.60</td>\n",
       "      <td>10.3</td>\n",
       "      <td>6</td>\n",
       "    </tr>\n",
       "    <tr>\n",
       "      <th>1183</th>\n",
       "      <td>6.8</td>\n",
       "      <td>0.66</td>\n",
       "      <td>0.07</td>\n",
       "      <td>1.6</td>\n",
       "      <td>0.070</td>\n",
       "      <td>16.0</td>\n",
       "      <td>61.0</td>\n",
       "      <td>0.99572</td>\n",
       "      <td>3.29</td>\n",
       "      <td>0.60</td>\n",
       "      <td>9.3</td>\n",
       "      <td>5</td>\n",
       "    </tr>\n",
       "    <tr>\n",
       "      <th>641</th>\n",
       "      <td>9.5</td>\n",
       "      <td>0.59</td>\n",
       "      <td>0.44</td>\n",
       "      <td>2.3</td>\n",
       "      <td>0.071</td>\n",
       "      <td>21.0</td>\n",
       "      <td>68.0</td>\n",
       "      <td>0.99920</td>\n",
       "      <td>3.46</td>\n",
       "      <td>0.63</td>\n",
       "      <td>9.5</td>\n",
       "      <td>5</td>\n",
       "    </tr>\n",
       "    <tr>\n",
       "      <th>512</th>\n",
       "      <td>10.7</td>\n",
       "      <td>0.40</td>\n",
       "      <td>0.48</td>\n",
       "      <td>2.1</td>\n",
       "      <td>0.125</td>\n",
       "      <td>15.0</td>\n",
       "      <td>49.0</td>\n",
       "      <td>0.99800</td>\n",
       "      <td>3.03</td>\n",
       "      <td>0.81</td>\n",
       "      <td>9.7</td>\n",
       "      <td>6</td>\n",
       "    </tr>\n",
       "    <tr>\n",
       "      <th>962</th>\n",
       "      <td>6.6</td>\n",
       "      <td>0.57</td>\n",
       "      <td>0.02</td>\n",
       "      <td>2.1</td>\n",
       "      <td>0.115</td>\n",
       "      <td>6.0</td>\n",
       "      <td>16.0</td>\n",
       "      <td>0.99654</td>\n",
       "      <td>3.38</td>\n",
       "      <td>0.69</td>\n",
       "      <td>9.5</td>\n",
       "      <td>5</td>\n",
       "    </tr>\n",
       "  </tbody>\n",
       "</table>\n",
       "</div>"
      ],
      "text/plain": [
       "      Parameter 1  Parameter 2  Parameter 3  Parameter 4  Parameter 5  \\\n",
       "1266          7.2         0.57         0.05          2.3        0.081   \n",
       "1183          6.8         0.66         0.07          1.6        0.070   \n",
       "641           9.5         0.59         0.44          2.3        0.071   \n",
       "512          10.7         0.40         0.48          2.1        0.125   \n",
       "962           6.6         0.57         0.02          2.1        0.115   \n",
       "\n",
       "      Parameter 6  Parameter 7  Parameter 8  Parameter 9  Parameter 10  \\\n",
       "1266         16.0         36.0      0.99564         3.38          0.60   \n",
       "1183         16.0         61.0      0.99572         3.29          0.60   \n",
       "641          21.0         68.0      0.99920         3.46          0.63   \n",
       "512          15.0         49.0      0.99800         3.03          0.81   \n",
       "962           6.0         16.0      0.99654         3.38          0.69   \n",
       "\n",
       "      Parameter 11  Signal_Strength  \n",
       "1266          10.3                6  \n",
       "1183           9.3                5  \n",
       "641            9.5                5  \n",
       "512            9.7                6  \n",
       "962            9.5                5  "
      ]
     },
     "metadata": {},
     "output_type": "display_data"
    },
    {
     "name": "stdout",
     "output_type": "stream",
     "text": [
      "****** End Dataframe Details ******\n",
      "\n"
     ]
    },
    {
     "data": {
      "text/plain": [
       "Parameter 1        float64\n",
       "Parameter 2        float64\n",
       "Parameter 3        float64\n",
       "Parameter 4        float64\n",
       "Parameter 5        float64\n",
       "Parameter 6        float64\n",
       "Parameter 7        float64\n",
       "Parameter 8        float64\n",
       "Parameter 9        float64\n",
       "Parameter 10       float64\n",
       "Parameter 11       float64\n",
       "Signal_Strength      int64\n",
       "dtype: object"
      ]
     },
     "metadata": {},
     "output_type": "display_data"
    }
   ],
   "source": [
    "df = file_to_df('signal.csv')\n",
    "display(df.dtypes)"
   ]
  },
  {
   "cell_type": "markdown",
   "id": "3f148638",
   "metadata": {},
   "source": [
    "## <span style=\"font-family: Trebuchet MS; font-weight:bold;font-size:0.8em;color:green;\"> <li> We have 11 feature and one target variable </li> <li> The target can be multilevel category column </li> <li> Features are numeric and not nullable </li>"
   ]
  },
  {
   "cell_type": "markdown",
   "id": "2c541576",
   "metadata": {},
   "source": [
    "## <span style=\"font-family: Trebuchet MS; font-weight:bold;font-size:0.7em;color:darkorange;\"> Part A - Q1 B - Check for missing values and print percentage for each attribute."
   ]
  },
  {
   "cell_type": "code",
   "execution_count": 134,
   "id": "60e7060f",
   "metadata": {},
   "outputs": [
    {
     "data": {
      "text/html": [
       "<div>\n",
       "<style scoped>\n",
       "    .dataframe tbody tr th:only-of-type {\n",
       "        vertical-align: middle;\n",
       "    }\n",
       "\n",
       "    .dataframe tbody tr th {\n",
       "        vertical-align: top;\n",
       "    }\n",
       "\n",
       "    .dataframe thead th {\n",
       "        text-align: right;\n",
       "    }\n",
       "</style>\n",
       "<table border=\"1\" class=\"dataframe\">\n",
       "  <thead>\n",
       "    <tr style=\"text-align: right;\">\n",
       "      <th></th>\n",
       "      <th>Parameter 1</th>\n",
       "      <th>Parameter 2</th>\n",
       "      <th>Parameter 3</th>\n",
       "      <th>Parameter 4</th>\n",
       "      <th>Parameter 5</th>\n",
       "      <th>Parameter 6</th>\n",
       "      <th>Parameter 7</th>\n",
       "      <th>Parameter 8</th>\n",
       "      <th>Parameter 9</th>\n",
       "      <th>Parameter 10</th>\n",
       "      <th>Parameter 11</th>\n",
       "      <th>Signal_Strength</th>\n",
       "    </tr>\n",
       "  </thead>\n",
       "  <tbody>\n",
       "    <tr>\n",
       "      <th>count</th>\n",
       "      <td>1599.000000</td>\n",
       "      <td>1599.000000</td>\n",
       "      <td>1599.000000</td>\n",
       "      <td>1599.000000</td>\n",
       "      <td>1599.000000</td>\n",
       "      <td>1599.000000</td>\n",
       "      <td>1599.000000</td>\n",
       "      <td>1599.000000</td>\n",
       "      <td>1599.000000</td>\n",
       "      <td>1599.000000</td>\n",
       "      <td>1599.000000</td>\n",
       "      <td>1599.000000</td>\n",
       "    </tr>\n",
       "    <tr>\n",
       "      <th>mean</th>\n",
       "      <td>8.319637</td>\n",
       "      <td>0.527821</td>\n",
       "      <td>0.270976</td>\n",
       "      <td>2.538806</td>\n",
       "      <td>0.087467</td>\n",
       "      <td>15.874922</td>\n",
       "      <td>46.467792</td>\n",
       "      <td>0.996747</td>\n",
       "      <td>3.311113</td>\n",
       "      <td>0.658149</td>\n",
       "      <td>10.422983</td>\n",
       "      <td>5.636023</td>\n",
       "    </tr>\n",
       "    <tr>\n",
       "      <th>std</th>\n",
       "      <td>1.741096</td>\n",
       "      <td>0.179060</td>\n",
       "      <td>0.194801</td>\n",
       "      <td>1.409928</td>\n",
       "      <td>0.047065</td>\n",
       "      <td>10.460157</td>\n",
       "      <td>32.895324</td>\n",
       "      <td>0.001887</td>\n",
       "      <td>0.154386</td>\n",
       "      <td>0.169507</td>\n",
       "      <td>1.065668</td>\n",
       "      <td>0.807569</td>\n",
       "    </tr>\n",
       "    <tr>\n",
       "      <th>min</th>\n",
       "      <td>4.600000</td>\n",
       "      <td>0.120000</td>\n",
       "      <td>0.000000</td>\n",
       "      <td>0.900000</td>\n",
       "      <td>0.012000</td>\n",
       "      <td>1.000000</td>\n",
       "      <td>6.000000</td>\n",
       "      <td>0.990070</td>\n",
       "      <td>2.740000</td>\n",
       "      <td>0.330000</td>\n",
       "      <td>8.400000</td>\n",
       "      <td>3.000000</td>\n",
       "    </tr>\n",
       "    <tr>\n",
       "      <th>25%</th>\n",
       "      <td>7.100000</td>\n",
       "      <td>0.390000</td>\n",
       "      <td>0.090000</td>\n",
       "      <td>1.900000</td>\n",
       "      <td>0.070000</td>\n",
       "      <td>7.000000</td>\n",
       "      <td>22.000000</td>\n",
       "      <td>0.995600</td>\n",
       "      <td>3.210000</td>\n",
       "      <td>0.550000</td>\n",
       "      <td>9.500000</td>\n",
       "      <td>5.000000</td>\n",
       "    </tr>\n",
       "    <tr>\n",
       "      <th>50%</th>\n",
       "      <td>7.900000</td>\n",
       "      <td>0.520000</td>\n",
       "      <td>0.260000</td>\n",
       "      <td>2.200000</td>\n",
       "      <td>0.079000</td>\n",
       "      <td>14.000000</td>\n",
       "      <td>38.000000</td>\n",
       "      <td>0.996750</td>\n",
       "      <td>3.310000</td>\n",
       "      <td>0.620000</td>\n",
       "      <td>10.200000</td>\n",
       "      <td>6.000000</td>\n",
       "    </tr>\n",
       "    <tr>\n",
       "      <th>75%</th>\n",
       "      <td>9.200000</td>\n",
       "      <td>0.640000</td>\n",
       "      <td>0.420000</td>\n",
       "      <td>2.600000</td>\n",
       "      <td>0.090000</td>\n",
       "      <td>21.000000</td>\n",
       "      <td>62.000000</td>\n",
       "      <td>0.997835</td>\n",
       "      <td>3.400000</td>\n",
       "      <td>0.730000</td>\n",
       "      <td>11.100000</td>\n",
       "      <td>6.000000</td>\n",
       "    </tr>\n",
       "    <tr>\n",
       "      <th>max</th>\n",
       "      <td>15.900000</td>\n",
       "      <td>1.580000</td>\n",
       "      <td>1.000000</td>\n",
       "      <td>15.500000</td>\n",
       "      <td>0.611000</td>\n",
       "      <td>72.000000</td>\n",
       "      <td>289.000000</td>\n",
       "      <td>1.003690</td>\n",
       "      <td>4.010000</td>\n",
       "      <td>2.000000</td>\n",
       "      <td>14.900000</td>\n",
       "      <td>8.000000</td>\n",
       "    </tr>\n",
       "  </tbody>\n",
       "</table>\n",
       "</div>"
      ],
      "text/plain": [
       "       Parameter 1  Parameter 2  Parameter 3  Parameter 4  Parameter 5  \\\n",
       "count  1599.000000  1599.000000  1599.000000  1599.000000  1599.000000   \n",
       "mean      8.319637     0.527821     0.270976     2.538806     0.087467   \n",
       "std       1.741096     0.179060     0.194801     1.409928     0.047065   \n",
       "min       4.600000     0.120000     0.000000     0.900000     0.012000   \n",
       "25%       7.100000     0.390000     0.090000     1.900000     0.070000   \n",
       "50%       7.900000     0.520000     0.260000     2.200000     0.079000   \n",
       "75%       9.200000     0.640000     0.420000     2.600000     0.090000   \n",
       "max      15.900000     1.580000     1.000000    15.500000     0.611000   \n",
       "\n",
       "       Parameter 6  Parameter 7  Parameter 8  Parameter 9  Parameter 10  \\\n",
       "count  1599.000000  1599.000000  1599.000000  1599.000000   1599.000000   \n",
       "mean     15.874922    46.467792     0.996747     3.311113      0.658149   \n",
       "std      10.460157    32.895324     0.001887     0.154386      0.169507   \n",
       "min       1.000000     6.000000     0.990070     2.740000      0.330000   \n",
       "25%       7.000000    22.000000     0.995600     3.210000      0.550000   \n",
       "50%      14.000000    38.000000     0.996750     3.310000      0.620000   \n",
       "75%      21.000000    62.000000     0.997835     3.400000      0.730000   \n",
       "max      72.000000   289.000000     1.003690     4.010000      2.000000   \n",
       "\n",
       "       Parameter 11  Signal_Strength  \n",
       "count   1599.000000      1599.000000  \n",
       "mean      10.422983         5.636023  \n",
       "std        1.065668         0.807569  \n",
       "min        8.400000         3.000000  \n",
       "25%        9.500000         5.000000  \n",
       "50%       10.200000         6.000000  \n",
       "75%       11.100000         6.000000  \n",
       "max       14.900000         8.000000  "
      ]
     },
     "metadata": {},
     "output_type": "display_data"
    },
    {
     "data": {
      "text/plain": [
       "Parameter 1        0.0\n",
       "Parameter 2        0.0\n",
       "Parameter 3        0.0\n",
       "Parameter 4        0.0\n",
       "Parameter 5        0.0\n",
       "Parameter 6        0.0\n",
       "Parameter 7        0.0\n",
       "Parameter 8        0.0\n",
       "Parameter 9        0.0\n",
       "Parameter 10       0.0\n",
       "Parameter 11       0.0\n",
       "Signal_Strength    0.0\n",
       "dtype: float64"
      ]
     },
     "metadata": {},
     "output_type": "display_data"
    }
   ],
   "source": [
    "display(df.describe(include='all'))\n",
    "display(df.isnull().sum()/100)"
   ]
  },
  {
   "cell_type": "markdown",
   "id": "e71f9434",
   "metadata": {},
   "source": [
    "## <span style=\"font-family: Trebuchet MS; font-weight:bold;font-size:0.8em;color:green;\"> <li> We have 1599 records </li> <li>Except Parameter-3 feature every other feature is having non-zero value for all the sample </li>"
   ]
  },
  {
   "cell_type": "code",
   "execution_count": 135,
   "id": "821550a3",
   "metadata": {},
   "outputs": [
    {
     "name": "stdout",
     "output_type": "stream",
     "text": [
      "<class 'pandas.core.frame.DataFrame'>\n",
      "RangeIndex: 1599 entries, 0 to 1598\n",
      "Data columns (total 12 columns):\n",
      " #   Column           Non-Null Count  Dtype   \n",
      "---  ------           --------------  -----   \n",
      " 0   Parameter 1      1599 non-null   float64 \n",
      " 1   Parameter 2      1599 non-null   float64 \n",
      " 2   Parameter 3      1599 non-null   float64 \n",
      " 3   Parameter 4      1599 non-null   float64 \n",
      " 4   Parameter 5      1599 non-null   float64 \n",
      " 5   Parameter 6      1599 non-null   float64 \n",
      " 6   Parameter 7      1599 non-null   float64 \n",
      " 7   Parameter 8      1599 non-null   float64 \n",
      " 8   Parameter 9      1599 non-null   float64 \n",
      " 9   Parameter 10     1599 non-null   float64 \n",
      " 10  Parameter 11     1599 non-null   float64 \n",
      " 11  Signal_Strength  1599 non-null   category\n",
      "dtypes: category(1), float64(11)\n",
      "memory usage: 139.3 KB\n"
     ]
    }
   ],
   "source": [
    "# Convert target column as category type\n",
    "# How about writing a generic functions for type conversions\n",
    "df['Signal_Strength']=df['Signal_Strength'].astype('category')\n",
    "df.info()"
   ]
  },
  {
   "cell_type": "markdown",
   "id": "7f8b2c76",
   "metadata": {},
   "source": [
    "## <span style=\"font-family: Trebuchet MS; font-weight:bold;font-size:0.7em;color:darkorange;\">  Part A - Q1 C - Check for presence of duplicate records in the dataset and impute with appropriate method."
   ]
  },
  {
   "cell_type": "code",
   "execution_count": 136,
   "id": "61df9823",
   "metadata": {},
   "outputs": [
    {
     "data": {
      "text/html": [
       "<div>\n",
       "<style scoped>\n",
       "    .dataframe tbody tr th:only-of-type {\n",
       "        vertical-align: middle;\n",
       "    }\n",
       "\n",
       "    .dataframe tbody tr th {\n",
       "        vertical-align: top;\n",
       "    }\n",
       "\n",
       "    .dataframe thead th {\n",
       "        text-align: right;\n",
       "    }\n",
       "</style>\n",
       "<table border=\"1\" class=\"dataframe\">\n",
       "  <thead>\n",
       "    <tr style=\"text-align: right;\">\n",
       "      <th></th>\n",
       "      <th>Parameter 1</th>\n",
       "      <th>Parameter 2</th>\n",
       "      <th>Parameter 3</th>\n",
       "      <th>Parameter 4</th>\n",
       "      <th>Parameter 5</th>\n",
       "      <th>Parameter 6</th>\n",
       "      <th>Parameter 7</th>\n",
       "      <th>Parameter 8</th>\n",
       "      <th>Parameter 9</th>\n",
       "      <th>Parameter 10</th>\n",
       "      <th>Parameter 11</th>\n",
       "      <th>Signal_Strength</th>\n",
       "    </tr>\n",
       "  </thead>\n",
       "  <tbody>\n",
       "    <tr>\n",
       "      <th>4</th>\n",
       "      <td>7.4</td>\n",
       "      <td>0.700</td>\n",
       "      <td>0.00</td>\n",
       "      <td>1.90</td>\n",
       "      <td>0.076</td>\n",
       "      <td>11.0</td>\n",
       "      <td>34.0</td>\n",
       "      <td>0.99780</td>\n",
       "      <td>3.51</td>\n",
       "      <td>0.56</td>\n",
       "      <td>9.4</td>\n",
       "      <td>5</td>\n",
       "    </tr>\n",
       "    <tr>\n",
       "      <th>11</th>\n",
       "      <td>7.5</td>\n",
       "      <td>0.500</td>\n",
       "      <td>0.36</td>\n",
       "      <td>6.10</td>\n",
       "      <td>0.071</td>\n",
       "      <td>17.0</td>\n",
       "      <td>102.0</td>\n",
       "      <td>0.99780</td>\n",
       "      <td>3.35</td>\n",
       "      <td>0.80</td>\n",
       "      <td>10.5</td>\n",
       "      <td>5</td>\n",
       "    </tr>\n",
       "    <tr>\n",
       "      <th>27</th>\n",
       "      <td>7.9</td>\n",
       "      <td>0.430</td>\n",
       "      <td>0.21</td>\n",
       "      <td>1.60</td>\n",
       "      <td>0.106</td>\n",
       "      <td>10.0</td>\n",
       "      <td>37.0</td>\n",
       "      <td>0.99660</td>\n",
       "      <td>3.17</td>\n",
       "      <td>0.91</td>\n",
       "      <td>9.5</td>\n",
       "      <td>5</td>\n",
       "    </tr>\n",
       "    <tr>\n",
       "      <th>40</th>\n",
       "      <td>7.3</td>\n",
       "      <td>0.450</td>\n",
       "      <td>0.36</td>\n",
       "      <td>5.90</td>\n",
       "      <td>0.074</td>\n",
       "      <td>12.0</td>\n",
       "      <td>87.0</td>\n",
       "      <td>0.99780</td>\n",
       "      <td>3.33</td>\n",
       "      <td>0.83</td>\n",
       "      <td>10.5</td>\n",
       "      <td>5</td>\n",
       "    </tr>\n",
       "    <tr>\n",
       "      <th>65</th>\n",
       "      <td>7.2</td>\n",
       "      <td>0.725</td>\n",
       "      <td>0.05</td>\n",
       "      <td>4.65</td>\n",
       "      <td>0.086</td>\n",
       "      <td>4.0</td>\n",
       "      <td>11.0</td>\n",
       "      <td>0.99620</td>\n",
       "      <td>3.41</td>\n",
       "      <td>0.39</td>\n",
       "      <td>10.9</td>\n",
       "      <td>5</td>\n",
       "    </tr>\n",
       "    <tr>\n",
       "      <th>...</th>\n",
       "      <td>...</td>\n",
       "      <td>...</td>\n",
       "      <td>...</td>\n",
       "      <td>...</td>\n",
       "      <td>...</td>\n",
       "      <td>...</td>\n",
       "      <td>...</td>\n",
       "      <td>...</td>\n",
       "      <td>...</td>\n",
       "      <td>...</td>\n",
       "      <td>...</td>\n",
       "      <td>...</td>\n",
       "    </tr>\n",
       "    <tr>\n",
       "      <th>1563</th>\n",
       "      <td>7.2</td>\n",
       "      <td>0.695</td>\n",
       "      <td>0.13</td>\n",
       "      <td>2.00</td>\n",
       "      <td>0.076</td>\n",
       "      <td>12.0</td>\n",
       "      <td>20.0</td>\n",
       "      <td>0.99546</td>\n",
       "      <td>3.29</td>\n",
       "      <td>0.54</td>\n",
       "      <td>10.1</td>\n",
       "      <td>5</td>\n",
       "    </tr>\n",
       "    <tr>\n",
       "      <th>1564</th>\n",
       "      <td>7.2</td>\n",
       "      <td>0.695</td>\n",
       "      <td>0.13</td>\n",
       "      <td>2.00</td>\n",
       "      <td>0.076</td>\n",
       "      <td>12.0</td>\n",
       "      <td>20.0</td>\n",
       "      <td>0.99546</td>\n",
       "      <td>3.29</td>\n",
       "      <td>0.54</td>\n",
       "      <td>10.1</td>\n",
       "      <td>5</td>\n",
       "    </tr>\n",
       "    <tr>\n",
       "      <th>1567</th>\n",
       "      <td>7.2</td>\n",
       "      <td>0.695</td>\n",
       "      <td>0.13</td>\n",
       "      <td>2.00</td>\n",
       "      <td>0.076</td>\n",
       "      <td>12.0</td>\n",
       "      <td>20.0</td>\n",
       "      <td>0.99546</td>\n",
       "      <td>3.29</td>\n",
       "      <td>0.54</td>\n",
       "      <td>10.1</td>\n",
       "      <td>5</td>\n",
       "    </tr>\n",
       "    <tr>\n",
       "      <th>1581</th>\n",
       "      <td>6.2</td>\n",
       "      <td>0.560</td>\n",
       "      <td>0.09</td>\n",
       "      <td>1.70</td>\n",
       "      <td>0.053</td>\n",
       "      <td>24.0</td>\n",
       "      <td>32.0</td>\n",
       "      <td>0.99402</td>\n",
       "      <td>3.54</td>\n",
       "      <td>0.60</td>\n",
       "      <td>11.3</td>\n",
       "      <td>5</td>\n",
       "    </tr>\n",
       "    <tr>\n",
       "      <th>1596</th>\n",
       "      <td>6.3</td>\n",
       "      <td>0.510</td>\n",
       "      <td>0.13</td>\n",
       "      <td>2.30</td>\n",
       "      <td>0.076</td>\n",
       "      <td>29.0</td>\n",
       "      <td>40.0</td>\n",
       "      <td>0.99574</td>\n",
       "      <td>3.42</td>\n",
       "      <td>0.75</td>\n",
       "      <td>11.0</td>\n",
       "      <td>6</td>\n",
       "    </tr>\n",
       "  </tbody>\n",
       "</table>\n",
       "<p>240 rows × 12 columns</p>\n",
       "</div>"
      ],
      "text/plain": [
       "      Parameter 1  Parameter 2  Parameter 3  Parameter 4  Parameter 5  \\\n",
       "4             7.4        0.700         0.00         1.90        0.076   \n",
       "11            7.5        0.500         0.36         6.10        0.071   \n",
       "27            7.9        0.430         0.21         1.60        0.106   \n",
       "40            7.3        0.450         0.36         5.90        0.074   \n",
       "65            7.2        0.725         0.05         4.65        0.086   \n",
       "...           ...          ...          ...          ...          ...   \n",
       "1563          7.2        0.695         0.13         2.00        0.076   \n",
       "1564          7.2        0.695         0.13         2.00        0.076   \n",
       "1567          7.2        0.695         0.13         2.00        0.076   \n",
       "1581          6.2        0.560         0.09         1.70        0.053   \n",
       "1596          6.3        0.510         0.13         2.30        0.076   \n",
       "\n",
       "      Parameter 6  Parameter 7  Parameter 8  Parameter 9  Parameter 10  \\\n",
       "4            11.0         34.0      0.99780         3.51          0.56   \n",
       "11           17.0        102.0      0.99780         3.35          0.80   \n",
       "27           10.0         37.0      0.99660         3.17          0.91   \n",
       "40           12.0         87.0      0.99780         3.33          0.83   \n",
       "65            4.0         11.0      0.99620         3.41          0.39   \n",
       "...           ...          ...          ...          ...           ...   \n",
       "1563         12.0         20.0      0.99546         3.29          0.54   \n",
       "1564         12.0         20.0      0.99546         3.29          0.54   \n",
       "1567         12.0         20.0      0.99546         3.29          0.54   \n",
       "1581         24.0         32.0      0.99402         3.54          0.60   \n",
       "1596         29.0         40.0      0.99574         3.42          0.75   \n",
       "\n",
       "      Parameter 11 Signal_Strength  \n",
       "4              9.4               5  \n",
       "11            10.5               5  \n",
       "27             9.5               5  \n",
       "40            10.5               5  \n",
       "65            10.9               5  \n",
       "...            ...             ...  \n",
       "1563          10.1               5  \n",
       "1564          10.1               5  \n",
       "1567          10.1               5  \n",
       "1581          11.3               5  \n",
       "1596          11.0               6  \n",
       "\n",
       "[240 rows x 12 columns]"
      ]
     },
     "execution_count": 136,
     "metadata": {},
     "output_type": "execute_result"
    }
   ],
   "source": [
    "df[df.duplicated(keep='first')]"
   ]
  },
  {
   "cell_type": "markdown",
   "id": "23e52f70",
   "metadata": {},
   "source": [
    "## <span style=\"font-family: Trebuchet MS; font-weight:bold;font-size:0.8em;color:green;\"> The duplicate records will give high accuracy during in sample testing, will perform poor in out of sample. We have 240 duplicate records which we should remove."
   ]
  },
  {
   "cell_type": "code",
   "execution_count": 137,
   "id": "71b7043a",
   "metadata": {},
   "outputs": [
    {
     "data": {
      "text/html": [
       "<div>\n",
       "<style scoped>\n",
       "    .dataframe tbody tr th:only-of-type {\n",
       "        vertical-align: middle;\n",
       "    }\n",
       "\n",
       "    .dataframe tbody tr th {\n",
       "        vertical-align: top;\n",
       "    }\n",
       "\n",
       "    .dataframe thead th {\n",
       "        text-align: right;\n",
       "    }\n",
       "</style>\n",
       "<table border=\"1\" class=\"dataframe\">\n",
       "  <thead>\n",
       "    <tr style=\"text-align: right;\">\n",
       "      <th></th>\n",
       "      <th>Parameter 1</th>\n",
       "      <th>Parameter 2</th>\n",
       "      <th>Parameter 3</th>\n",
       "      <th>Parameter 4</th>\n",
       "      <th>Parameter 5</th>\n",
       "      <th>Parameter 6</th>\n",
       "      <th>Parameter 7</th>\n",
       "      <th>Parameter 8</th>\n",
       "      <th>Parameter 9</th>\n",
       "      <th>Parameter 10</th>\n",
       "      <th>Parameter 11</th>\n",
       "    </tr>\n",
       "  </thead>\n",
       "  <tbody>\n",
       "    <tr>\n",
       "      <th>count</th>\n",
       "      <td>1359.000000</td>\n",
       "      <td>1359.000000</td>\n",
       "      <td>1359.000000</td>\n",
       "      <td>1359.000000</td>\n",
       "      <td>1359.000000</td>\n",
       "      <td>1359.000000</td>\n",
       "      <td>1359.000000</td>\n",
       "      <td>1359.000000</td>\n",
       "      <td>1359.000000</td>\n",
       "      <td>1359.000000</td>\n",
       "      <td>1359.000000</td>\n",
       "    </tr>\n",
       "    <tr>\n",
       "      <th>mean</th>\n",
       "      <td>8.310596</td>\n",
       "      <td>0.529478</td>\n",
       "      <td>0.272333</td>\n",
       "      <td>2.523400</td>\n",
       "      <td>0.088124</td>\n",
       "      <td>15.893304</td>\n",
       "      <td>46.825975</td>\n",
       "      <td>0.996709</td>\n",
       "      <td>3.309787</td>\n",
       "      <td>0.658705</td>\n",
       "      <td>10.432315</td>\n",
       "    </tr>\n",
       "    <tr>\n",
       "      <th>std</th>\n",
       "      <td>1.736990</td>\n",
       "      <td>0.183031</td>\n",
       "      <td>0.195537</td>\n",
       "      <td>1.352314</td>\n",
       "      <td>0.049377</td>\n",
       "      <td>10.447270</td>\n",
       "      <td>33.408946</td>\n",
       "      <td>0.001869</td>\n",
       "      <td>0.155036</td>\n",
       "      <td>0.170667</td>\n",
       "      <td>1.082065</td>\n",
       "    </tr>\n",
       "    <tr>\n",
       "      <th>min</th>\n",
       "      <td>4.600000</td>\n",
       "      <td>0.120000</td>\n",
       "      <td>0.000000</td>\n",
       "      <td>0.900000</td>\n",
       "      <td>0.012000</td>\n",
       "      <td>1.000000</td>\n",
       "      <td>6.000000</td>\n",
       "      <td>0.990070</td>\n",
       "      <td>2.740000</td>\n",
       "      <td>0.330000</td>\n",
       "      <td>8.400000</td>\n",
       "    </tr>\n",
       "    <tr>\n",
       "      <th>25%</th>\n",
       "      <td>7.100000</td>\n",
       "      <td>0.390000</td>\n",
       "      <td>0.090000</td>\n",
       "      <td>1.900000</td>\n",
       "      <td>0.070000</td>\n",
       "      <td>7.000000</td>\n",
       "      <td>22.000000</td>\n",
       "      <td>0.995600</td>\n",
       "      <td>3.210000</td>\n",
       "      <td>0.550000</td>\n",
       "      <td>9.500000</td>\n",
       "    </tr>\n",
       "    <tr>\n",
       "      <th>50%</th>\n",
       "      <td>7.900000</td>\n",
       "      <td>0.520000</td>\n",
       "      <td>0.260000</td>\n",
       "      <td>2.200000</td>\n",
       "      <td>0.079000</td>\n",
       "      <td>14.000000</td>\n",
       "      <td>38.000000</td>\n",
       "      <td>0.996700</td>\n",
       "      <td>3.310000</td>\n",
       "      <td>0.620000</td>\n",
       "      <td>10.200000</td>\n",
       "    </tr>\n",
       "    <tr>\n",
       "      <th>75%</th>\n",
       "      <td>9.200000</td>\n",
       "      <td>0.640000</td>\n",
       "      <td>0.430000</td>\n",
       "      <td>2.600000</td>\n",
       "      <td>0.091000</td>\n",
       "      <td>21.000000</td>\n",
       "      <td>63.000000</td>\n",
       "      <td>0.997820</td>\n",
       "      <td>3.400000</td>\n",
       "      <td>0.730000</td>\n",
       "      <td>11.100000</td>\n",
       "    </tr>\n",
       "    <tr>\n",
       "      <th>max</th>\n",
       "      <td>15.900000</td>\n",
       "      <td>1.580000</td>\n",
       "      <td>1.000000</td>\n",
       "      <td>15.500000</td>\n",
       "      <td>0.611000</td>\n",
       "      <td>72.000000</td>\n",
       "      <td>289.000000</td>\n",
       "      <td>1.003690</td>\n",
       "      <td>4.010000</td>\n",
       "      <td>2.000000</td>\n",
       "      <td>14.900000</td>\n",
       "    </tr>\n",
       "  </tbody>\n",
       "</table>\n",
       "</div>"
      ],
      "text/plain": [
       "       Parameter 1  Parameter 2  Parameter 3  Parameter 4  Parameter 5  \\\n",
       "count  1359.000000  1359.000000  1359.000000  1359.000000  1359.000000   \n",
       "mean      8.310596     0.529478     0.272333     2.523400     0.088124   \n",
       "std       1.736990     0.183031     0.195537     1.352314     0.049377   \n",
       "min       4.600000     0.120000     0.000000     0.900000     0.012000   \n",
       "25%       7.100000     0.390000     0.090000     1.900000     0.070000   \n",
       "50%       7.900000     0.520000     0.260000     2.200000     0.079000   \n",
       "75%       9.200000     0.640000     0.430000     2.600000     0.091000   \n",
       "max      15.900000     1.580000     1.000000    15.500000     0.611000   \n",
       "\n",
       "       Parameter 6  Parameter 7  Parameter 8  Parameter 9  Parameter 10  \\\n",
       "count  1359.000000  1359.000000  1359.000000  1359.000000   1359.000000   \n",
       "mean     15.893304    46.825975     0.996709     3.309787      0.658705   \n",
       "std      10.447270    33.408946     0.001869     0.155036      0.170667   \n",
       "min       1.000000     6.000000     0.990070     2.740000      0.330000   \n",
       "25%       7.000000    22.000000     0.995600     3.210000      0.550000   \n",
       "50%      14.000000    38.000000     0.996700     3.310000      0.620000   \n",
       "75%      21.000000    63.000000     0.997820     3.400000      0.730000   \n",
       "max      72.000000   289.000000     1.003690     4.010000      2.000000   \n",
       "\n",
       "       Parameter 11  \n",
       "count   1359.000000  \n",
       "mean      10.432315  \n",
       "std        1.082065  \n",
       "min        8.400000  \n",
       "25%        9.500000  \n",
       "50%       10.200000  \n",
       "75%       11.100000  \n",
       "max       14.900000  "
      ]
     },
     "execution_count": 137,
     "metadata": {},
     "output_type": "execute_result"
    }
   ],
   "source": [
    "# Remove duplicate using inplace=True\n",
    "df.drop_duplicates(keep='first', inplace=True)\n",
    "df.describe()"
   ]
  },
  {
   "cell_type": "code",
   "execution_count": 138,
   "id": "9fe57662",
   "metadata": {},
   "outputs": [
    {
     "data": {
      "text/plain": [
       "118"
      ]
     },
     "execution_count": 138,
     "metadata": {},
     "output_type": "execute_result"
    }
   ],
   "source": [
    "# Get the count of Zeros in column 'C' \n",
    "(df['Parameter 3'] == 0).sum()"
   ]
  },
  {
   "cell_type": "markdown",
   "id": "a7a16291",
   "metadata": {},
   "source": [
    "## <span style=\"font-family: Trebuchet MS; font-weight:bold;font-size:0.8em;color:green;\"> We are not handling parameter-3 having zero"
   ]
  },
  {
   "cell_type": "markdown",
   "id": "edc53a55",
   "metadata": {},
   "source": [
    "## <span style=\"font-family: Trebuchet MS; font-weight:bold;font-size:0.7em;color:darkorange;\">   Part A - Q1 D - Visualise distribution of the target variable.\n"
   ]
  },
  {
   "cell_type": "code",
   "execution_count": 139,
   "id": "c8145765",
   "metadata": {},
   "outputs": [
    {
     "data": {
      "text/plain": [
       "<seaborn.axisgrid.FacetGrid at 0x23daf9c7490>"
      ]
     },
     "execution_count": 139,
     "metadata": {},
     "output_type": "execute_result"
    },
    {
     "data": {
      "image/png": "[encoded data removed]",
      "text/plain": [
       "<Figure size 500x500 with 1 Axes>"
      ]
     },
     "metadata": {},
     "output_type": "display_data"
    }
   ],
   "source": [
    "sns.displot(df, x=\"Signal_Strength\", discrete=True)"
   ]
  },
  {
   "cell_type": "markdown",
   "id": "cdb79e7e",
   "metadata": {},
   "source": [
    "## <span style=\"font-family: Trebuchet MS; font-weight:bold;font-size:0.8em;color:green;\"> Not an balanced data sample where target 6 and 7 have almost 75% of records "
   ]
  },
  {
   "cell_type": "markdown",
   "id": "63f661fe",
   "metadata": {},
   "source": [
    "## <span style=\"font-family: Trebuchet MS; font-weight:bold;font-size:0.7em;color:darkorange;\">   Part A - Q1 E - Share insights from the initial data analysis (at least 2)."
   ]
  },
  {
   "cell_type": "code",
   "execution_count": 140,
   "id": "f32a2151",
   "metadata": {},
   "outputs": [
    {
     "data": {
      "text/html": [
       "<div>\n",
       "<style scoped>\n",
       "    .dataframe tbody tr th:only-of-type {\n",
       "        vertical-align: middle;\n",
       "    }\n",
       "\n",
       "    .dataframe tbody tr th {\n",
       "        vertical-align: top;\n",
       "    }\n",
       "\n",
       "    .dataframe thead th {\n",
       "        text-align: right;\n",
       "    }\n",
       "</style>\n",
       "<table border=\"1\" class=\"dataframe\">\n",
       "  <thead>\n",
       "    <tr style=\"text-align: right;\">\n",
       "      <th></th>\n",
       "      <th>count</th>\n",
       "      <th>unique</th>\n",
       "      <th>top</th>\n",
       "      <th>freq</th>\n",
       "      <th>mean</th>\n",
       "      <th>std</th>\n",
       "      <th>min</th>\n",
       "      <th>25%</th>\n",
       "      <th>50%</th>\n",
       "      <th>75%</th>\n",
       "      <th>max</th>\n",
       "    </tr>\n",
       "  </thead>\n",
       "  <tbody>\n",
       "    <tr>\n",
       "      <th>Parameter 1</th>\n",
       "      <td>1359.0</td>\n",
       "      <td>NaN</td>\n",
       "      <td>NaN</td>\n",
       "      <td>NaN</td>\n",
       "      <td>8.310596</td>\n",
       "      <td>1.736990</td>\n",
       "      <td>4.60000</td>\n",
       "      <td>7.1000</td>\n",
       "      <td>7.9000</td>\n",
       "      <td>9.20000</td>\n",
       "      <td>15.90000</td>\n",
       "    </tr>\n",
       "    <tr>\n",
       "      <th>Parameter 2</th>\n",
       "      <td>1359.0</td>\n",
       "      <td>NaN</td>\n",
       "      <td>NaN</td>\n",
       "      <td>NaN</td>\n",
       "      <td>0.529478</td>\n",
       "      <td>0.183031</td>\n",
       "      <td>0.12000</td>\n",
       "      <td>0.3900</td>\n",
       "      <td>0.5200</td>\n",
       "      <td>0.64000</td>\n",
       "      <td>1.58000</td>\n",
       "    </tr>\n",
       "    <tr>\n",
       "      <th>Parameter 3</th>\n",
       "      <td>1359.0</td>\n",
       "      <td>NaN</td>\n",
       "      <td>NaN</td>\n",
       "      <td>NaN</td>\n",
       "      <td>0.272333</td>\n",
       "      <td>0.195537</td>\n",
       "      <td>0.00000</td>\n",
       "      <td>0.0900</td>\n",
       "      <td>0.2600</td>\n",
       "      <td>0.43000</td>\n",
       "      <td>1.00000</td>\n",
       "    </tr>\n",
       "    <tr>\n",
       "      <th>Parameter 4</th>\n",
       "      <td>1359.0</td>\n",
       "      <td>NaN</td>\n",
       "      <td>NaN</td>\n",
       "      <td>NaN</td>\n",
       "      <td>2.523400</td>\n",
       "      <td>1.352314</td>\n",
       "      <td>0.90000</td>\n",
       "      <td>1.9000</td>\n",
       "      <td>2.2000</td>\n",
       "      <td>2.60000</td>\n",
       "      <td>15.50000</td>\n",
       "    </tr>\n",
       "    <tr>\n",
       "      <th>Parameter 5</th>\n",
       "      <td>1359.0</td>\n",
       "      <td>NaN</td>\n",
       "      <td>NaN</td>\n",
       "      <td>NaN</td>\n",
       "      <td>0.088124</td>\n",
       "      <td>0.049377</td>\n",
       "      <td>0.01200</td>\n",
       "      <td>0.0700</td>\n",
       "      <td>0.0790</td>\n",
       "      <td>0.09100</td>\n",
       "      <td>0.61100</td>\n",
       "    </tr>\n",
       "    <tr>\n",
       "      <th>Parameter 6</th>\n",
       "      <td>1359.0</td>\n",
       "      <td>NaN</td>\n",
       "      <td>NaN</td>\n",
       "      <td>NaN</td>\n",
       "      <td>15.893304</td>\n",
       "      <td>10.447270</td>\n",
       "      <td>1.00000</td>\n",
       "      <td>7.0000</td>\n",
       "      <td>14.0000</td>\n",
       "      <td>21.00000</td>\n",
       "      <td>72.00000</td>\n",
       "    </tr>\n",
       "    <tr>\n",
       "      <th>Parameter 7</th>\n",
       "      <td>1359.0</td>\n",
       "      <td>NaN</td>\n",
       "      <td>NaN</td>\n",
       "      <td>NaN</td>\n",
       "      <td>46.825975</td>\n",
       "      <td>33.408946</td>\n",
       "      <td>6.00000</td>\n",
       "      <td>22.0000</td>\n",
       "      <td>38.0000</td>\n",
       "      <td>63.00000</td>\n",
       "      <td>289.00000</td>\n",
       "    </tr>\n",
       "    <tr>\n",
       "      <th>Parameter 8</th>\n",
       "      <td>1359.0</td>\n",
       "      <td>NaN</td>\n",
       "      <td>NaN</td>\n",
       "      <td>NaN</td>\n",
       "      <td>0.996709</td>\n",
       "      <td>0.001869</td>\n",
       "      <td>0.99007</td>\n",
       "      <td>0.9956</td>\n",
       "      <td>0.9967</td>\n",
       "      <td>0.99782</td>\n",
       "      <td>1.00369</td>\n",
       "    </tr>\n",
       "    <tr>\n",
       "      <th>Parameter 9</th>\n",
       "      <td>1359.0</td>\n",
       "      <td>NaN</td>\n",
       "      <td>NaN</td>\n",
       "      <td>NaN</td>\n",
       "      <td>3.309787</td>\n",
       "      <td>0.155036</td>\n",
       "      <td>2.74000</td>\n",
       "      <td>3.2100</td>\n",
       "      <td>3.3100</td>\n",
       "      <td>3.40000</td>\n",
       "      <td>4.01000</td>\n",
       "    </tr>\n",
       "    <tr>\n",
       "      <th>Parameter 10</th>\n",
       "      <td>1359.0</td>\n",
       "      <td>NaN</td>\n",
       "      <td>NaN</td>\n",
       "      <td>NaN</td>\n",
       "      <td>0.658705</td>\n",
       "      <td>0.170667</td>\n",
       "      <td>0.33000</td>\n",
       "      <td>0.5500</td>\n",
       "      <td>0.6200</td>\n",
       "      <td>0.73000</td>\n",
       "      <td>2.00000</td>\n",
       "    </tr>\n",
       "    <tr>\n",
       "      <th>Parameter 11</th>\n",
       "      <td>1359.0</td>\n",
       "      <td>NaN</td>\n",
       "      <td>NaN</td>\n",
       "      <td>NaN</td>\n",
       "      <td>10.432315</td>\n",
       "      <td>1.082065</td>\n",
       "      <td>8.40000</td>\n",
       "      <td>9.5000</td>\n",
       "      <td>10.2000</td>\n",
       "      <td>11.10000</td>\n",
       "      <td>14.90000</td>\n",
       "    </tr>\n",
       "    <tr>\n",
       "      <th>Signal_Strength</th>\n",
       "      <td>1359.0</td>\n",
       "      <td>6.0</td>\n",
       "      <td>5.0</td>\n",
       "      <td>577.0</td>\n",
       "      <td>NaN</td>\n",
       "      <td>NaN</td>\n",
       "      <td>NaN</td>\n",
       "      <td>NaN</td>\n",
       "      <td>NaN</td>\n",
       "      <td>NaN</td>\n",
       "      <td>NaN</td>\n",
       "    </tr>\n",
       "  </tbody>\n",
       "</table>\n",
       "</div>"
      ],
      "text/plain": [
       "                  count  unique  top   freq       mean        std      min  \\\n",
       "Parameter 1      1359.0     NaN  NaN    NaN   8.310596   1.736990  4.60000   \n",
       "Parameter 2      1359.0     NaN  NaN    NaN   0.529478   0.183031  0.12000   \n",
       "Parameter 3      1359.0     NaN  NaN    NaN   0.272333   0.195537  0.00000   \n",
       "Parameter 4      1359.0     NaN  NaN    NaN   2.523400   1.352314  0.90000   \n",
       "Parameter 5      1359.0     NaN  NaN    NaN   0.088124   0.049377  0.01200   \n",
       "Parameter 6      1359.0     NaN  NaN    NaN  15.893304  10.447270  1.00000   \n",
       "Parameter 7      1359.0     NaN  NaN    NaN  46.825975  33.408946  6.00000   \n",
       "Parameter 8      1359.0     NaN  NaN    NaN   0.996709   0.001869  0.99007   \n",
       "Parameter 9      1359.0     NaN  NaN    NaN   3.309787   0.155036  2.74000   \n",
       "Parameter 10     1359.0     NaN  NaN    NaN   0.658705   0.170667  0.33000   \n",
       "Parameter 11     1359.0     NaN  NaN    NaN  10.432315   1.082065  8.40000   \n",
       "Signal_Strength  1359.0     6.0  5.0  577.0        NaN        NaN      NaN   \n",
       "\n",
       "                     25%      50%       75%        max  \n",
       "Parameter 1       7.1000   7.9000   9.20000   15.90000  \n",
       "Parameter 2       0.3900   0.5200   0.64000    1.58000  \n",
       "Parameter 3       0.0900   0.2600   0.43000    1.00000  \n",
       "Parameter 4       1.9000   2.2000   2.60000   15.50000  \n",
       "Parameter 5       0.0700   0.0790   0.09100    0.61100  \n",
       "Parameter 6       7.0000  14.0000  21.00000   72.00000  \n",
       "Parameter 7      22.0000  38.0000  63.00000  289.00000  \n",
       "Parameter 8       0.9956   0.9967   0.99782    1.00369  \n",
       "Parameter 9       3.2100   3.3100   3.40000    4.01000  \n",
       "Parameter 10      0.5500   0.6200   0.73000    2.00000  \n",
       "Parameter 11      9.5000  10.2000  11.10000   14.90000  \n",
       "Signal_Strength      NaN      NaN       NaN        NaN  "
      ]
     },
     "metadata": {},
     "output_type": "display_data"
    },
    {
     "name": "stdout",
     "output_type": "stream",
     "text": [
      "['Parameter 1', 'Parameter 2', 'Parameter 3', 'Parameter 4', 'Parameter 5', 'Parameter 6', 'Parameter 7', 'Parameter 8', 'Parameter 9', 'Parameter 10', 'Parameter 11'] [11]  is an numeric column\n",
      "['Signal_Strength'] [1]  is an imbalanced column\n",
      "['Parameter 1', 'Parameter 2', 'Parameter 3', 'Parameter 4', 'Parameter 5', 'Parameter 6', 'Parameter 7', 'Parameter 8', 'Parameter 9', 'Parameter 10', 'Parameter 11'] [11]  Columns are right skewed\n"
     ]
    }
   ],
   "source": [
    "five_point_summary(df)"
   ]
  },
  {
   "cell_type": "code",
   "execution_count": 141,
   "id": "459e58c4",
   "metadata": {},
   "outputs": [],
   "source": [
    "#sns.pairplot(df,hue='Signal_Strength',diag_kind='kde')"
   ]
  },
  {
   "cell_type": "code",
   "execution_count": 142,
   "id": "91c9b7f3",
   "metadata": {},
   "outputs": [
    {
     "data": {
      "text/plain": [
       "<AxesSubplot:>"
      ]
     },
     "execution_count": 142,
     "metadata": {},
     "output_type": "execute_result"
    },
    {
     "data": {
      "image/png": "[encoded data removed]",
      "text/plain": [
       "<Figure size 1700x1000 with 1 Axes>"
      ]
     },
     "metadata": {},
     "output_type": "display_data"
    }
   ],
   "source": [
    "plt.figure(figsize=(17,10))\n",
    "sns.boxplot(data=df)"
   ]
  },
  {
   "cell_type": "markdown",
   "id": "4219090e",
   "metadata": {},
   "source": [
    "## <span style=\"font-family: Trebuchet MS; font-weight:bold;font-size:0.8em;color:green;\"> <li> Target Column is not balanced </li><li> All the features are having outlier and we are not treating them here</li> <li> All the features (1-11) are right skewed</li> <li>We have handled duplicates and not handling outliers</li>"
   ]
  },
  {
   "cell_type": "markdown",
   "id": "3e92007e",
   "metadata": {},
   "source": [
    "## <span style=\"font-family: Trebuchet MS; font-weight:bold;font-size:0.7em;color:darkorange;\">   Part A - Q2 A - Split the data into X & Y"
   ]
  },
  {
   "cell_type": "code",
   "execution_count": 143,
   "id": "a705d8f0",
   "metadata": {},
   "outputs": [
    {
     "data": {
      "text/html": [
       "<div>\n",
       "<style scoped>\n",
       "    .dataframe tbody tr th:only-of-type {\n",
       "        vertical-align: middle;\n",
       "    }\n",
       "\n",
       "    .dataframe tbody tr th {\n",
       "        vertical-align: top;\n",
       "    }\n",
       "\n",
       "    .dataframe thead th {\n",
       "        text-align: right;\n",
       "    }\n",
       "</style>\n",
       "<table border=\"1\" class=\"dataframe\">\n",
       "  <thead>\n",
       "    <tr style=\"text-align: right;\">\n",
       "      <th></th>\n",
       "      <th>Parameter 1</th>\n",
       "      <th>Parameter 2</th>\n",
       "      <th>Parameter 3</th>\n",
       "      <th>Parameter 4</th>\n",
       "      <th>Parameter 5</th>\n",
       "      <th>Parameter 6</th>\n",
       "      <th>Parameter 7</th>\n",
       "      <th>Parameter 8</th>\n",
       "      <th>Parameter 9</th>\n",
       "      <th>Parameter 10</th>\n",
       "      <th>Parameter 11</th>\n",
       "    </tr>\n",
       "  </thead>\n",
       "  <tbody>\n",
       "    <tr>\n",
       "      <th>1593</th>\n",
       "      <td>6.8</td>\n",
       "      <td>0.62</td>\n",
       "      <td>0.08</td>\n",
       "      <td>1.9</td>\n",
       "      <td>0.068</td>\n",
       "      <td>28.0</td>\n",
       "      <td>38.0</td>\n",
       "      <td>0.99651</td>\n",
       "      <td>3.42</td>\n",
       "      <td>0.82</td>\n",
       "      <td>9.5</td>\n",
       "    </tr>\n",
       "    <tr>\n",
       "      <th>227</th>\n",
       "      <td>9.0</td>\n",
       "      <td>0.82</td>\n",
       "      <td>0.14</td>\n",
       "      <td>2.6</td>\n",
       "      <td>0.089</td>\n",
       "      <td>9.0</td>\n",
       "      <td>23.0</td>\n",
       "      <td>0.99840</td>\n",
       "      <td>3.39</td>\n",
       "      <td>0.63</td>\n",
       "      <td>9.8</td>\n",
       "    </tr>\n",
       "  </tbody>\n",
       "</table>\n",
       "</div>"
      ],
      "text/plain": [
       "      Parameter 1  Parameter 2  Parameter 3  Parameter 4  Parameter 5  \\\n",
       "1593          6.8         0.62         0.08          1.9        0.068   \n",
       "227           9.0         0.82         0.14          2.6        0.089   \n",
       "\n",
       "      Parameter 6  Parameter 7  Parameter 8  Parameter 9  Parameter 10  \\\n",
       "1593         28.0         38.0      0.99651         3.42          0.82   \n",
       "227           9.0         23.0      0.99840         3.39          0.63   \n",
       "\n",
       "      Parameter 11  \n",
       "1593           9.5  \n",
       "227            9.8  "
      ]
     },
     "metadata": {},
     "output_type": "display_data"
    },
    {
     "data": {
      "text/plain": [
       "1171    6\n",
       "586     7\n",
       "Name: Signal_Strength, dtype: category\n",
       "Categories (6, int64): [3, 4, 5, 6, 7, 8]"
      ]
     },
     "metadata": {},
     "output_type": "display_data"
    }
   ],
   "source": [
    "X = df.drop('Signal_Strength',axis=1)     \n",
    "Y = df['Signal_Strength']\n",
    "\n",
    "display(X.sample(2))\n",
    "display(Y.sample(2))"
   ]
  },
  {
   "cell_type": "markdown",
   "id": "834711d9",
   "metadata": {},
   "source": [
    "## <span style=\"font-family: Trebuchet MS; font-weight:bold;font-size:0.7em;color:darkorange;\">  Part A - Q2 B - Split the data into train & test with 70:30 proportion."
   ]
  },
  {
   "cell_type": "code",
   "execution_count": 144,
   "id": "fc9da59c",
   "metadata": {},
   "outputs": [],
   "source": [
    "from sklearn.model_selection import train_test_split\n",
    "x_train, x_test, y_train, y_test = train_test_split(X, Y, test_size=0.3, random_state=143)\n",
    "# 143 is just any random seed number"
   ]
  },
  {
   "cell_type": "markdown",
   "id": "f9c18798",
   "metadata": {},
   "source": [
    "## <span style=\"font-family: Trebuchet MS; font-weight:bold;font-size:0.7em;color:darkorange;\">  Part A - Q2 C - Print shape of all the 4 variables and verify if train and test data is in sync."
   ]
  },
  {
   "cell_type": "code",
   "execution_count": 145,
   "id": "693af187",
   "metadata": {},
   "outputs": [
    {
     "name": "stdout",
     "output_type": "stream",
     "text": [
      "(951, 11) is X_train shape, (408, 11) X_test shape, (951,) is y_train shape, (408,) y_test shape\n"
     ]
    }
   ],
   "source": [
    "print(f\"{x_train.shape} is X_train shape, {x_test.shape} X_test shape, {y_train.shape} is y_train shape, {y_test.shape} y_test shape\")"
   ]
  },
  {
   "cell_type": "markdown",
   "id": "067753c3",
   "metadata": {},
   "source": [
    "## <span style=\"font-family: Trebuchet MS; font-weight:bold;font-size:0.8em;color:green;\"> Split looks good"
   ]
  },
  {
   "cell_type": "code",
   "execution_count": 146,
   "id": "230f6d24",
   "metadata": {},
   "outputs": [
    {
     "data": {
      "text/html": [
       "<div>\n",
       "<style scoped>\n",
       "    .dataframe tbody tr th:only-of-type {\n",
       "        vertical-align: middle;\n",
       "    }\n",
       "\n",
       "    .dataframe tbody tr th {\n",
       "        vertical-align: top;\n",
       "    }\n",
       "\n",
       "    .dataframe thead th {\n",
       "        text-align: right;\n",
       "    }\n",
       "</style>\n",
       "<table border=\"1\" class=\"dataframe\">\n",
       "  <thead>\n",
       "    <tr style=\"text-align: right;\">\n",
       "      <th></th>\n",
       "      <th>Parameter 1</th>\n",
       "      <th>Parameter 2</th>\n",
       "      <th>Parameter 3</th>\n",
       "      <th>Parameter 4</th>\n",
       "      <th>Parameter 5</th>\n",
       "      <th>Parameter 6</th>\n",
       "      <th>Parameter 7</th>\n",
       "      <th>Parameter 8</th>\n",
       "      <th>Parameter 9</th>\n",
       "      <th>Parameter 10</th>\n",
       "      <th>Parameter 11</th>\n",
       "    </tr>\n",
       "  </thead>\n",
       "  <tbody>\n",
       "    <tr>\n",
       "      <th>1493</th>\n",
       "      <td>7.7</td>\n",
       "      <td>0.54</td>\n",
       "      <td>0.26</td>\n",
       "      <td>1.9</td>\n",
       "      <td>0.089</td>\n",
       "      <td>23.0</td>\n",
       "      <td>147.0</td>\n",
       "      <td>0.99636</td>\n",
       "      <td>3.26</td>\n",
       "      <td>0.59</td>\n",
       "      <td>9.7</td>\n",
       "    </tr>\n",
       "    <tr>\n",
       "      <th>110</th>\n",
       "      <td>7.8</td>\n",
       "      <td>0.56</td>\n",
       "      <td>0.19</td>\n",
       "      <td>1.8</td>\n",
       "      <td>0.104</td>\n",
       "      <td>12.0</td>\n",
       "      <td>47.0</td>\n",
       "      <td>0.99640</td>\n",
       "      <td>3.19</td>\n",
       "      <td>0.93</td>\n",
       "      <td>9.5</td>\n",
       "    </tr>\n",
       "    <tr>\n",
       "      <th>146</th>\n",
       "      <td>5.8</td>\n",
       "      <td>0.68</td>\n",
       "      <td>0.02</td>\n",
       "      <td>1.8</td>\n",
       "      <td>0.087</td>\n",
       "      <td>21.0</td>\n",
       "      <td>94.0</td>\n",
       "      <td>0.99440</td>\n",
       "      <td>3.54</td>\n",
       "      <td>0.52</td>\n",
       "      <td>10.0</td>\n",
       "    </tr>\n",
       "    <tr>\n",
       "      <th>408</th>\n",
       "      <td>10.4</td>\n",
       "      <td>0.34</td>\n",
       "      <td>0.58</td>\n",
       "      <td>3.7</td>\n",
       "      <td>0.174</td>\n",
       "      <td>6.0</td>\n",
       "      <td>16.0</td>\n",
       "      <td>0.99700</td>\n",
       "      <td>3.19</td>\n",
       "      <td>0.70</td>\n",
       "      <td>11.3</td>\n",
       "    </tr>\n",
       "    <tr>\n",
       "      <th>978</th>\n",
       "      <td>7.0</td>\n",
       "      <td>0.40</td>\n",
       "      <td>0.32</td>\n",
       "      <td>3.6</td>\n",
       "      <td>0.061</td>\n",
       "      <td>9.0</td>\n",
       "      <td>29.0</td>\n",
       "      <td>0.99416</td>\n",
       "      <td>3.28</td>\n",
       "      <td>0.49</td>\n",
       "      <td>11.3</td>\n",
       "    </tr>\n",
       "  </tbody>\n",
       "</table>\n",
       "</div>"
      ],
      "text/plain": [
       "      Parameter 1  Parameter 2  Parameter 3  Parameter 4  Parameter 5  \\\n",
       "1493          7.7         0.54         0.26          1.9        0.089   \n",
       "110           7.8         0.56         0.19          1.8        0.104   \n",
       "146           5.8         0.68         0.02          1.8        0.087   \n",
       "408          10.4         0.34         0.58          3.7        0.174   \n",
       "978           7.0         0.40         0.32          3.6        0.061   \n",
       "\n",
       "      Parameter 6  Parameter 7  Parameter 8  Parameter 9  Parameter 10  \\\n",
       "1493         23.0        147.0      0.99636         3.26          0.59   \n",
       "110          12.0         47.0      0.99640         3.19          0.93   \n",
       "146          21.0         94.0      0.99440         3.54          0.52   \n",
       "408           6.0         16.0      0.99700         3.19          0.70   \n",
       "978           9.0         29.0      0.99416         3.28          0.49   \n",
       "\n",
       "      Parameter 11  \n",
       "1493           9.7  \n",
       "110            9.5  \n",
       "146           10.0  \n",
       "408           11.3  \n",
       "978           11.3  "
      ]
     },
     "metadata": {},
     "output_type": "display_data"
    }
   ],
   "source": [
    "display(x_train.head())"
   ]
  },
  {
   "cell_type": "code",
   "execution_count": 147,
   "id": "f2af9316",
   "metadata": {},
   "outputs": [
    {
     "data": {
      "text/html": [
       "<div>\n",
       "<style scoped>\n",
       "    .dataframe tbody tr th:only-of-type {\n",
       "        vertical-align: middle;\n",
       "    }\n",
       "\n",
       "    .dataframe tbody tr th {\n",
       "        vertical-align: top;\n",
       "    }\n",
       "\n",
       "    .dataframe thead th {\n",
       "        text-align: right;\n",
       "    }\n",
       "</style>\n",
       "<table border=\"1\" class=\"dataframe\">\n",
       "  <thead>\n",
       "    <tr style=\"text-align: right;\">\n",
       "      <th></th>\n",
       "      <th>Parameter 1</th>\n",
       "      <th>Parameter 2</th>\n",
       "      <th>Parameter 3</th>\n",
       "      <th>Parameter 4</th>\n",
       "      <th>Parameter 5</th>\n",
       "      <th>Parameter 6</th>\n",
       "      <th>Parameter 7</th>\n",
       "      <th>Parameter 8</th>\n",
       "      <th>Parameter 9</th>\n",
       "      <th>Parameter 10</th>\n",
       "      <th>Parameter 11</th>\n",
       "    </tr>\n",
       "  </thead>\n",
       "  <tbody>\n",
       "    <tr>\n",
       "      <th>533</th>\n",
       "      <td>10.3</td>\n",
       "      <td>0.27</td>\n",
       "      <td>0.24</td>\n",
       "      <td>2.1</td>\n",
       "      <td>0.072</td>\n",
       "      <td>15.0</td>\n",
       "      <td>33.0</td>\n",
       "      <td>0.99560</td>\n",
       "      <td>3.22</td>\n",
       "      <td>0.66</td>\n",
       "      <td>12.8</td>\n",
       "    </tr>\n",
       "    <tr>\n",
       "      <th>108</th>\n",
       "      <td>8.0</td>\n",
       "      <td>0.33</td>\n",
       "      <td>0.53</td>\n",
       "      <td>2.5</td>\n",
       "      <td>0.091</td>\n",
       "      <td>18.0</td>\n",
       "      <td>80.0</td>\n",
       "      <td>0.99760</td>\n",
       "      <td>3.37</td>\n",
       "      <td>0.80</td>\n",
       "      <td>9.6</td>\n",
       "    </tr>\n",
       "    <tr>\n",
       "      <th>693</th>\n",
       "      <td>9.0</td>\n",
       "      <td>0.48</td>\n",
       "      <td>0.32</td>\n",
       "      <td>2.8</td>\n",
       "      <td>0.084</td>\n",
       "      <td>21.0</td>\n",
       "      <td>122.0</td>\n",
       "      <td>0.99840</td>\n",
       "      <td>3.32</td>\n",
       "      <td>0.62</td>\n",
       "      <td>9.4</td>\n",
       "    </tr>\n",
       "    <tr>\n",
       "      <th>1377</th>\n",
       "      <td>5.2</td>\n",
       "      <td>0.49</td>\n",
       "      <td>0.26</td>\n",
       "      <td>2.3</td>\n",
       "      <td>0.090</td>\n",
       "      <td>23.0</td>\n",
       "      <td>74.0</td>\n",
       "      <td>0.99530</td>\n",
       "      <td>3.71</td>\n",
       "      <td>0.62</td>\n",
       "      <td>12.2</td>\n",
       "    </tr>\n",
       "    <tr>\n",
       "      <th>1149</th>\n",
       "      <td>10.0</td>\n",
       "      <td>0.35</td>\n",
       "      <td>0.47</td>\n",
       "      <td>2.0</td>\n",
       "      <td>0.061</td>\n",
       "      <td>6.0</td>\n",
       "      <td>11.0</td>\n",
       "      <td>0.99585</td>\n",
       "      <td>3.23</td>\n",
       "      <td>0.52</td>\n",
       "      <td>12.0</td>\n",
       "    </tr>\n",
       "  </tbody>\n",
       "</table>\n",
       "</div>"
      ],
      "text/plain": [
       "      Parameter 1  Parameter 2  Parameter 3  Parameter 4  Parameter 5  \\\n",
       "533          10.3         0.27         0.24          2.1        0.072   \n",
       "108           8.0         0.33         0.53          2.5        0.091   \n",
       "693           9.0         0.48         0.32          2.8        0.084   \n",
       "1377          5.2         0.49         0.26          2.3        0.090   \n",
       "1149         10.0         0.35         0.47          2.0        0.061   \n",
       "\n",
       "      Parameter 6  Parameter 7  Parameter 8  Parameter 9  Parameter 10  \\\n",
       "533          15.0         33.0      0.99560         3.22          0.66   \n",
       "108          18.0         80.0      0.99760         3.37          0.80   \n",
       "693          21.0        122.0      0.99840         3.32          0.62   \n",
       "1377         23.0         74.0      0.99530         3.71          0.62   \n",
       "1149          6.0         11.0      0.99585         3.23          0.52   \n",
       "\n",
       "      Parameter 11  \n",
       "533           12.8  \n",
       "108            9.6  \n",
       "693            9.4  \n",
       "1377          12.2  \n",
       "1149          12.0  "
      ]
     },
     "metadata": {},
     "output_type": "display_data"
    }
   ],
   "source": [
    "display(x_test.head())"
   ]
  },
  {
   "cell_type": "markdown",
   "id": "d4ff76f7",
   "metadata": {},
   "source": [
    "## <span style=\"font-family: Trebuchet MS; font-weight:bold;font-size:0.8em;color:green;\"> The data is not normalized and they are on completely different scale. Since the data is not normalized we can use MinMaxScaler "
   ]
  },
  {
   "cell_type": "code",
   "execution_count": 148,
   "id": "cd35d36d",
   "metadata": {},
   "outputs": [
    {
     "data": {
      "text/plain": [
       "[5, 6, 7, 4, 8, 3]\n",
       "Categories (6, int64): [3, 4, 5, 6, 7, 8]"
      ]
     },
     "metadata": {},
     "output_type": "display_data"
    },
    {
     "data": {
      "text/plain": [
       "[6, 5, 4, 7, 3, 8]\n",
       "Categories (6, int64): [3, 4, 5, 6, 7, 8]"
      ]
     },
     "metadata": {},
     "output_type": "display_data"
    }
   ],
   "source": [
    "# How many target values are possible\n",
    "display(y_train.unique())\n",
    "display(y_test.unique())"
   ]
  },
  {
   "cell_type": "markdown",
   "id": "464da810",
   "metadata": {},
   "source": [
    "## <span style=\"font-family: Trebuchet MS; font-weight:bold;font-size:0.7em;color:darkorange;\">  Part A - Q2 D - Normalise the train and test data with appropriate method.\n"
   ]
  },
  {
   "cell_type": "code",
   "execution_count": 149,
   "id": "7baae4b7",
   "metadata": {},
   "outputs": [],
   "source": [
    "from sklearn.preprocessing import MinMaxScaler"
   ]
  },
  {
   "cell_type": "code",
   "execution_count": 150,
   "id": "40171d72",
   "metadata": {},
   "outputs": [
    {
     "data": {
      "text/html": [
       "<div>\n",
       "<style scoped>\n",
       "    .dataframe tbody tr th:only-of-type {\n",
       "        vertical-align: middle;\n",
       "    }\n",
       "\n",
       "    .dataframe tbody tr th {\n",
       "        vertical-align: top;\n",
       "    }\n",
       "\n",
       "    .dataframe thead th {\n",
       "        text-align: right;\n",
       "    }\n",
       "</style>\n",
       "<table border=\"1\" class=\"dataframe\">\n",
       "  <thead>\n",
       "    <tr style=\"text-align: right;\">\n",
       "      <th></th>\n",
       "      <th>Parameter 1</th>\n",
       "      <th>Parameter 2</th>\n",
       "      <th>Parameter 3</th>\n",
       "      <th>Parameter 4</th>\n",
       "      <th>Parameter 5</th>\n",
       "      <th>Parameter 6</th>\n",
       "      <th>Parameter 7</th>\n",
       "      <th>Parameter 8</th>\n",
       "      <th>Parameter 9</th>\n",
       "      <th>Parameter 10</th>\n",
       "      <th>Parameter 11</th>\n",
       "    </tr>\n",
       "  </thead>\n",
       "  <tbody>\n",
       "    <tr>\n",
       "      <th>486</th>\n",
       "      <td>0.273585</td>\n",
       "      <td>0.281690</td>\n",
       "      <td>0.19</td>\n",
       "      <td>0.075342</td>\n",
       "      <td>0.081597</td>\n",
       "      <td>0.238806</td>\n",
       "      <td>0.360424</td>\n",
       "      <td>0.450073</td>\n",
       "      <td>0.456693</td>\n",
       "      <td>0.104294</td>\n",
       "      <td>0.196429</td>\n",
       "    </tr>\n",
       "    <tr>\n",
       "      <th>448</th>\n",
       "      <td>0.264151</td>\n",
       "      <td>0.563380</td>\n",
       "      <td>0.20</td>\n",
       "      <td>0.075342</td>\n",
       "      <td>0.022569</td>\n",
       "      <td>0.208955</td>\n",
       "      <td>0.190813</td>\n",
       "      <td>0.398678</td>\n",
       "      <td>0.488189</td>\n",
       "      <td>0.042945</td>\n",
       "      <td>0.446429</td>\n",
       "    </tr>\n",
       "    <tr>\n",
       "      <th>123</th>\n",
       "      <td>0.339623</td>\n",
       "      <td>0.035211</td>\n",
       "      <td>0.52</td>\n",
       "      <td>0.068493</td>\n",
       "      <td>0.097222</td>\n",
       "      <td>0.119403</td>\n",
       "      <td>0.060071</td>\n",
       "      <td>0.470631</td>\n",
       "      <td>0.488189</td>\n",
       "      <td>0.184049</td>\n",
       "      <td>0.357143</td>\n",
       "    </tr>\n",
       "  </tbody>\n",
       "</table>\n",
       "</div>"
      ],
      "text/plain": [
       "     Parameter 1  Parameter 2  Parameter 3  Parameter 4  Parameter 5  \\\n",
       "486     0.273585     0.281690         0.19     0.075342     0.081597   \n",
       "448     0.264151     0.563380         0.20     0.075342     0.022569   \n",
       "123     0.339623     0.035211         0.52     0.068493     0.097222   \n",
       "\n",
       "     Parameter 6  Parameter 7  Parameter 8  Parameter 9  Parameter 10  \\\n",
       "486     0.238806     0.360424     0.450073     0.456693      0.104294   \n",
       "448     0.208955     0.190813     0.398678     0.488189      0.042945   \n",
       "123     0.119403     0.060071     0.470631     0.488189      0.184049   \n",
       "\n",
       "     Parameter 11  \n",
       "486      0.196429  \n",
       "448      0.446429  \n",
       "123      0.357143  "
      ]
     },
     "metadata": {},
     "output_type": "display_data"
    },
    {
     "data": {
      "text/html": [
       "<div>\n",
       "<style scoped>\n",
       "    .dataframe tbody tr th:only-of-type {\n",
       "        vertical-align: middle;\n",
       "    }\n",
       "\n",
       "    .dataframe tbody tr th {\n",
       "        vertical-align: top;\n",
       "    }\n",
       "\n",
       "    .dataframe thead th {\n",
       "        text-align: right;\n",
       "    }\n",
       "</style>\n",
       "<table border=\"1\" class=\"dataframe\">\n",
       "  <thead>\n",
       "    <tr style=\"text-align: right;\">\n",
       "      <th></th>\n",
       "      <th>Parameter 1</th>\n",
       "      <th>Parameter 2</th>\n",
       "      <th>Parameter 3</th>\n",
       "      <th>Parameter 4</th>\n",
       "      <th>Parameter 5</th>\n",
       "      <th>Parameter 6</th>\n",
       "      <th>Parameter 7</th>\n",
       "      <th>Parameter 8</th>\n",
       "      <th>Parameter 9</th>\n",
       "      <th>Parameter 10</th>\n",
       "      <th>Parameter 11</th>\n",
       "    </tr>\n",
       "  </thead>\n",
       "  <tbody>\n",
       "    <tr>\n",
       "      <th>100</th>\n",
       "      <td>0.415929</td>\n",
       "      <td>0.404959</td>\n",
       "      <td>0.342105</td>\n",
       "      <td>0.180328</td>\n",
       "      <td>0.130217</td>\n",
       "      <td>0.318841</td>\n",
       "      <td>0.509434</td>\n",
       "      <td>0.725318</td>\n",
       "      <td>0.352941</td>\n",
       "      <td>0.179012</td>\n",
       "      <td>0.200000</td>\n",
       "    </tr>\n",
       "    <tr>\n",
       "      <th>3</th>\n",
       "      <td>0.053097</td>\n",
       "      <td>0.305785</td>\n",
       "      <td>0.342105</td>\n",
       "      <td>0.090164</td>\n",
       "      <td>0.130217</td>\n",
       "      <td>0.289855</td>\n",
       "      <td>0.427673</td>\n",
       "      <td>0.371019</td>\n",
       "      <td>0.813725</td>\n",
       "      <td>0.179012</td>\n",
       "      <td>0.584615</td>\n",
       "    </tr>\n",
       "    <tr>\n",
       "      <th>151</th>\n",
       "      <td>0.176991</td>\n",
       "      <td>0.314050</td>\n",
       "      <td>0.052632</td>\n",
       "      <td>0.073770</td>\n",
       "      <td>0.093489</td>\n",
       "      <td>0.043478</td>\n",
       "      <td>0.050314</td>\n",
       "      <td>0.386943</td>\n",
       "      <td>0.500000</td>\n",
       "      <td>0.191358</td>\n",
       "      <td>0.153846</td>\n",
       "    </tr>\n",
       "  </tbody>\n",
       "</table>\n",
       "</div>"
      ],
      "text/plain": [
       "     Parameter 1  Parameter 2  Parameter 3  Parameter 4  Parameter 5  \\\n",
       "100     0.415929     0.404959     0.342105     0.180328     0.130217   \n",
       "3       0.053097     0.305785     0.342105     0.090164     0.130217   \n",
       "151     0.176991     0.314050     0.052632     0.073770     0.093489   \n",
       "\n",
       "     Parameter 6  Parameter 7  Parameter 8  Parameter 9  Parameter 10  \\\n",
       "100     0.318841     0.509434     0.725318     0.352941      0.179012   \n",
       "3       0.289855     0.427673     0.371019     0.813725      0.179012   \n",
       "151     0.043478     0.050314     0.386943     0.500000      0.191358   \n",
       "\n",
       "     Parameter 11  \n",
       "100      0.200000  \n",
       "3        0.584615  \n",
       "151      0.153846  "
      ]
     },
     "metadata": {},
     "output_type": "display_data"
    }
   ],
   "source": [
    "scaler = MinMaxScaler()\n",
    "normalized_x_train = pd.DataFrame(\n",
    "    scaler.fit_transform(x_train),\n",
    "    columns = x_train.columns\n",
    ")\n",
    "display(normalized_x_train.sample(3))\n",
    "\n",
    "# perform a robust scaler transform of the dataset\n",
    "scaler = MinMaxScaler()\n",
    "normalized_x_test = pd.DataFrame(\n",
    "    scaler.fit_transform(x_test),\n",
    "    columns = x_test.columns\n",
    ")\n",
    "display(normalized_x_test.sample(3))"
   ]
  },
  {
   "cell_type": "markdown",
   "id": "bcdd308e",
   "metadata": {},
   "source": [
    "## <span style=\"font-family: Trebuchet MS; font-weight:bold;font-size:0.7em;color:darkorange;\">  Part A - Q2 E - Transform Labels into format acceptable by Neural Network\n"
   ]
  },
  {
   "cell_type": "code",
   "execution_count": 151,
   "id": "801eb07b",
   "metadata": {},
   "outputs": [],
   "source": [
    "from tensorflow import keras"
   ]
  },
  {
   "cell_type": "code",
   "execution_count": 152,
   "id": "48a49565",
   "metadata": {},
   "outputs": [
    {
     "data": {
      "text/plain": [
       "array([[0, 0, 0, 0, 0, 1, 0, 0, 0],\n",
       "       [0, 0, 0, 0, 0, 1, 0, 0, 0],\n",
       "       [0, 0, 0, 0, 0, 1, 0, 0, 0]], dtype=uint8)"
      ]
     },
     "execution_count": 152,
     "metadata": {},
     "output_type": "execute_result"
    }
   ],
   "source": [
    "#Perform one hot encoding\n",
    "y_train_1h = keras.utils.to_categorical(y_train, num_classes=9, dtype='uint8')\n",
    "y_train_1h[:3]"
   ]
  },
  {
   "cell_type": "code",
   "execution_count": 153,
   "id": "7b6d8810",
   "metadata": {},
   "outputs": [
    {
     "data": {
      "text/plain": [
       "array([[0, 0, 0, 0, 0, 0, 1, 0, 0],\n",
       "       [0, 0, 0, 0, 0, 0, 1, 0, 0],\n",
       "       [0, 0, 0, 0, 0, 1, 0, 0, 0]], dtype=uint8)"
      ]
     },
     "execution_count": 153,
     "metadata": {},
     "output_type": "execute_result"
    }
   ],
   "source": [
    "y_test_1h = keras.utils.to_categorical(y_test, num_classes=9, dtype='uint8')\n",
    "y_test_1h[:3]"
   ]
  },
  {
   "cell_type": "markdown",
   "id": "f1eb96f2",
   "metadata": {},
   "source": [
    "## <span style=\"font-family: Trebuchet MS; font-weight:bold;font-size:0.7em;color:darkorange;\">  Part A - Q3 A - Design a Neural Network to train a classifier.\n"
   ]
  },
  {
   "cell_type": "code",
   "execution_count": 154,
   "id": "589d673b",
   "metadata": {},
   "outputs": [],
   "source": [
    "from tensorflow.keras.models import Sequential\n",
    "from tensorflow.keras.layers import Activation, Dense,LeakyReLU\n",
    "from tensorflow.keras import optimizers"
   ]
  },
  {
   "cell_type": "code",
   "execution_count": 155,
   "id": "ccacdb23",
   "metadata": {},
   "outputs": [],
   "source": [
    "# The model which will 1 input and output layer with 3-hidden layer\n",
    "# We will have 'relu' activation function for all hidden layer\n",
    "# We will have softmax in output layer as we have multi-class target\n",
    "def mlp_default_model():\n",
    "    model = Sequential()\n",
    "    model.add(Dense(144, input_shape = (normalized_x_train.shape[1], )))\n",
    "    model.add(Activation('relu'))\n",
    "    model.add(Dense(72))\n",
    "    model.add(Activation('relu'))\n",
    "    model.add(Dense(36))\n",
    "    model.add(Activation('relu'))\n",
    "    model.add(Dense(18))\n",
    "    model.add(Activation('relu'))\n",
    "    model.add(Dense(9))\n",
    "    model.add(Activation('softmax'))\n",
    "    my_optimizer = optimizers.SGD(learning_rate=0.01)      # Default Learning Rate\n",
    "    model.compile(loss = 'categorical_crossentropy', optimizer=my_optimizer, metrics = ['accuracy'])\n",
    "    return model"
   ]
  },
  {
   "cell_type": "markdown",
   "id": "2e096917",
   "metadata": {},
   "source": [
    "## <span style=\"font-family: Trebuchet MS; font-weight:bold;font-size:0.7em;color:darkorange;\">  Part A - Q3 B - Train the classifier using previously designed Architecture\n"
   ]
  },
  {
   "cell_type": "code",
   "execution_count": 156,
   "id": "07fb8293",
   "metadata": {},
   "outputs": [],
   "source": [
    "model=mlp_default_model()\n",
    "history = model.fit(normalized_x_train, y_train_1h, validation_data=(normalized_x_test,y_test_1h),  batch_size = 200, epochs=100, verbose = 0)"
   ]
  },
  {
   "cell_type": "code",
   "execution_count": 157,
   "id": "92d7328b",
   "metadata": {},
   "outputs": [
    {
     "name": "stdout",
     "output_type": "stream",
     "text": [
      "13/13 [==============================] - 0s 2ms/step\n"
     ]
    },
    {
     "data": {
      "text/plain": [
       "array([0.00760909, 0.00765467, 0.00242046, 0.00734902, 0.02638392,\n",
       "       0.39052415, 0.39727816, 0.15163895, 0.00914148], dtype=float32)"
      ]
     },
     "execution_count": 157,
     "metadata": {},
     "output_type": "execute_result"
    }
   ],
   "source": [
    "y_pred=model.predict(normalized_x_test)\n",
    "y_pred[0]"
   ]
  },
  {
   "cell_type": "markdown",
   "id": "7f406a6e",
   "metadata": {},
   "source": [
    "## <span style=\"font-family: Trebuchet MS; font-weight:bold;font-size:0.7em;color:darkorange;\">  Part A - Q3 C - Plot 2 separate visuals. i. Training Loss and Validation Loss ii. Training Accuracy and Validation Accuracy\n"
   ]
  },
  {
   "cell_type": "code",
   "execution_count": 158,
   "id": "e872247e",
   "metadata": {},
   "outputs": [
    {
     "name": "stdout",
     "output_type": "stream",
     "text": [
      "13/13 [==============================] - 0s 2ms/step - loss: 1.2003 - accuracy: 0.4608\n",
      "0.46078431606292725\n"
     ]
    },
    {
     "data": {
      "image/png": "[encoded data removed]",
      "text/plain": [
       "<Figure size 640x480 with 1 Axes>"
      ]
     },
     "metadata": {},
     "output_type": "display_data"
    }
   ],
   "source": [
    "val_loss, val_accuracy  = model.evaluate(normalized_x_test, y_test_1h, verbose=True)\n",
    "print(val_accuracy)\n",
    "plot_NN_accuracy(history)"
   ]
  },
  {
   "cell_type": "markdown",
   "id": "0af759a8",
   "metadata": {},
   "source": [
    "## <span style=\"font-family: Trebuchet MS; font-weight:bold;font-size:0.8em;color:green;\"> Accuracy for out of sample test which is close to in-sample performance. We should find a way to improve over all model performance\n"
   ]
  },
  {
   "cell_type": "code",
   "execution_count": 159,
   "id": "3422113c",
   "metadata": {},
   "outputs": [
    {
     "name": "stdout",
     "output_type": "stream",
     "text": [
      "1.2003213167190552\n"
     ]
    },
    {
     "data": {
      "image/png": "[encoded data removed]",
      "text/plain": [
       "<Figure size 640x480 with 1 Axes>"
      ]
     },
     "metadata": {},
     "output_type": "display_data"
    }
   ],
   "source": [
    "plot_NN_loss(history)"
   ]
  },
  {
   "cell_type": "markdown",
   "id": "3c6351e2",
   "metadata": {},
   "source": [
    "## <span style=\"font-family: Trebuchet MS; font-weight:bold;font-size:0.8em;color:green;\"> The loss is almost same between train and test sample. The Testing loss is little of higher side"
   ]
  },
  {
   "cell_type": "markdown",
   "id": "68f3ee13",
   "metadata": {},
   "source": [
    "## <span style=\"font-family: Trebuchet MS; font-weight:bold;font-size:0.7em;color:darkorange;\">  Part A - Q3 D - Design new architecture/update existing architecture in attempt to improve the performance of the model.\n"
   ]
  },
  {
   "cell_type": "code",
   "execution_count": 160,
   "id": "7583ca93",
   "metadata": {},
   "outputs": [],
   "source": [
    "from tensorflow.keras.layers import BatchNormalization, Dropout"
   ]
  },
  {
   "cell_type": "code",
   "execution_count": 161,
   "id": "7646f0b1",
   "metadata": {},
   "outputs": [],
   "source": [
    "# Default model updated with Batch Normalization\n",
    "def mlp_updated_model(plot=0):\n",
    "    model = Sequential()\n",
    "    model.add(Dense(100, input_shape = (normalized_x_train.shape[1], )))\n",
    "    model.add(BatchNormalization())                    \n",
    "    model.add(Activation('relu'))\n",
    "    model.add(Dense(50))\n",
    "    model.add(BatchNormalization())\n",
    "    model.add(Activation('relu'))\n",
    "    model.add(Dense(25))\n",
    "    model.add(BatchNormalization())\n",
    "    model.add(Activation('relu'))\n",
    "    model.add(Dense(9))\n",
    "    model.add(BatchNormalization())\n",
    "    model.add(Activation('softmax'))\n",
    "    \n",
    "    my_optimizer = optimizers.SGD(learning_rate = 0.01)\n",
    "    model.compile(optimizer = my_optimizer, loss = 'categorical_crossentropy', metrics = ['accuracy'])\n",
    "    \n",
    "    history = model.fit(normalized_x_train, y_train_1h, validation_data=(normalized_x_test,y_test_1h), \n",
    "                        batch_size = 200, epochs = 100, verbose = 0)\n",
    "    \n",
    "    val_loss, val_accuracy  = model.evaluate(normalized_x_test, y_test_1h, verbose=True)\n",
    "    \n",
    "    display(\"Validation loss with BatchNormalization and SGD\", val_loss)\n",
    "    display(\"Validation Accuracy with BatchNormalization and SGD\", val_accuracy)\n",
    "    \n",
    "    if (plot > 0):\n",
    "        plot_NN_accuracy(history)\n",
    "        plot_NN_loss(history)"
   ]
  },
  {
   "cell_type": "code",
   "execution_count": 162,
   "id": "193dd9d0",
   "metadata": {},
   "outputs": [
    {
     "name": "stdout",
     "output_type": "stream",
     "text": [
      "13/13 [==============================] - 0s 3ms/step - loss: 1.4262 - accuracy: 0.5343\n"
     ]
    },
    {
     "data": {
      "text/plain": [
       "'Validation loss with BatchNormalization and SGD'"
      ]
     },
     "metadata": {},
     "output_type": "display_data"
    },
    {
     "data": {
      "text/plain": [
       "1.4261744022369385"
      ]
     },
     "metadata": {},
     "output_type": "display_data"
    },
    {
     "data": {
      "text/plain": [
       "'Validation Accuracy with BatchNormalization and SGD'"
      ]
     },
     "metadata": {},
     "output_type": "display_data"
    },
    {
     "data": {
      "text/plain": [
       "0.5343137383460999"
      ]
     },
     "metadata": {},
     "output_type": "display_data"
    }
   ],
   "source": [
    "mlp_updated_model(0)"
   ]
  },
  {
   "cell_type": "markdown",
   "id": "b0dcca46",
   "metadata": {},
   "source": [
    "## <span style=\"font-family: Trebuchet MS; font-weight:bold;font-size:0.8em;color:green;\"> BatchNormalization and SGD is improving accuracy by 2% which is 52% accuracy"
   ]
  },
  {
   "cell_type": "code",
   "execution_count": 163,
   "id": "72870dee",
   "metadata": {},
   "outputs": [],
   "source": [
    "def mlp_update_model_with_adam(plot=0):\n",
    "    model = Sequential()\n",
    "    model.add(Dense(50, input_shape = (normalized_x_train.shape[1], ),kernel_initializer='he_normal'))\n",
    "    model.add(BatchNormalization())                    \n",
    "    model.add(Activation('relu'))\n",
    "    model.add(Dense(50,kernel_initializer='he_normal'))\n",
    "    model.add(BatchNormalization())                    \n",
    "    model.add(Activation('relu'))\n",
    "    model.add(Dense(50,kernel_initializer='he_normal'))\n",
    "    model.add(BatchNormalization())                    \n",
    "    model.add(Activation('relu'))\n",
    "    model.add(Dense(50,kernel_initializer='he_normal'))\n",
    "    model.add(BatchNormalization())                    \n",
    "    model.add(Activation('relu'))\n",
    "    model.add(Dense(9,kernel_initializer='he_normal'))\n",
    "    model.add(Activation('softmax'))\n",
    "    \n",
    "    my_optimizer = optimizers.Adam(0.001)\n",
    "    model.compile(optimizer = my_optimizer, loss = 'categorical_crossentropy', metrics = ['accuracy'])\n",
    "    \n",
    "    history = model.fit(normalized_x_train, y_train_1h, validation_data=(normalized_x_test,y_test_1h), \n",
    "                        batch_size = 200, epochs = 100, verbose = 0)\n",
    "    \n",
    "    val_loss, val_accuracy  = model.evaluate(normalized_x_test, y_test_1h, verbose=False)\n",
    "    \n",
    "    display(\"Validation loss with BN and Adam\", val_loss)\n",
    "    display(\"Validation Accuracy with BN and Adam\", val_accuracy)\n",
    "    \n",
    "    if (plot > 0):\n",
    "        plot_NN_accuracy(history)\n",
    "        plot_NN_loss(history)"
   ]
  },
  {
   "cell_type": "code",
   "execution_count": 164,
   "id": "7e121f8f",
   "metadata": {},
   "outputs": [
    {
     "data": {
      "text/plain": [
       "'Validation loss with BN and Adam'"
      ]
     },
     "metadata": {},
     "output_type": "display_data"
    },
    {
     "data": {
      "text/plain": [
       "1.6281626224517822"
      ]
     },
     "metadata": {},
     "output_type": "display_data"
    },
    {
     "data": {
      "text/plain": [
       "'Validation Accuracy with BN and Adam'"
      ]
     },
     "metadata": {},
     "output_type": "display_data"
    },
    {
     "data": {
      "text/plain": [
       "0.5024510025978088"
      ]
     },
     "metadata": {},
     "output_type": "display_data"
    }
   ],
   "source": [
    "mlp_update_model_with_adam()"
   ]
  },
  {
   "cell_type": "markdown",
   "id": "bc386a7e",
   "metadata": {},
   "source": [
    "## <span style=\"font-family: Trebuchet MS; font-weight:bold;font-size:0.8em;color:green;\"> Adam optimizer is giving the same accuracy and  loss"
   ]
  },
  {
   "cell_type": "code",
   "execution_count": 165,
   "id": "09114e6b",
   "metadata": {},
   "outputs": [],
   "source": [
    "def mlp_update_model_with_sgd_dropout(plot=0):\n",
    "    model = Sequential()\n",
    "    model.add(Dense(100, input_shape = (normalized_x_train.shape[1], ), kernel_initializer='he_normal'))\n",
    "    model.add(Dropout(0.5))\n",
    "    model.add(BatchNormalization())                    \n",
    "    model.add(Activation('relu'))\n",
    "    model.add(Dense(75, kernel_initializer='he_normal'))\n",
    "    model.add(Dropout(0.5))\n",
    "    model.add(BatchNormalization())                    \n",
    "    model.add(Activation('relu'))\n",
    "    model.add(Dense(50, kernel_initializer='he_normal'))\n",
    "    model.add(Dropout(0.5))\n",
    "    model.add(BatchNormalization())                    \n",
    "    model.add(Activation('relu'))\n",
    "    model.add(Dense(25, kernel_initializer='he_normal'))\n",
    "    model.add(Dropout(0.5))\n",
    "    model.add(BatchNormalization())                    \n",
    "    model.add(Activation('relu'))\n",
    "    model.add(Dense(9, kernel_initializer='he_normal'))\n",
    "    model.add(Dropout(0.5))\n",
    "    model.add(BatchNormalization()) \n",
    "    model.add(Activation('softmax'))\n",
    "    \n",
    "    sgd = optimizers.SGD(learning_rate = 0.001)\n",
    "    model.compile(optimizer = sgd, loss = 'categorical_crossentropy', metrics = ['accuracy'])\n",
    "    \n",
    "    history = model.fit(normalized_x_train, y_train_1h, validation_data=(normalized_x_test,y_test_1h), \n",
    "                        batch_size = 100, epochs = 200, verbose = 0)\n",
    "    \n",
    "    val_loss, val_accuracy  = model.evaluate(normalized_x_test, y_test_1h, verbose=False)\n",
    "    \n",
    "    display(\"Validation loss with Relu as activation function with Batch Normalization and Dropout\", val_loss)\n",
    "    display(\"Validation Accuracy \", val_accuracy)\n",
    "    \n",
    "    if (plot > 0):\n",
    "        plot_NN_accuracy(history)\n",
    "        plot_NN_loss(history)"
   ]
  },
  {
   "cell_type": "code",
   "execution_count": 166,
   "id": "22a62bf5",
   "metadata": {},
   "outputs": [
    {
     "data": {
      "text/plain": [
       "'Validation loss with Relu as activation function with Batch Normalization and Dropout'"
      ]
     },
     "metadata": {},
     "output_type": "display_data"
    },
    {
     "data": {
      "text/plain": [
       "1.8622007369995117"
      ]
     },
     "metadata": {},
     "output_type": "display_data"
    },
    {
     "data": {
      "text/plain": [
       "'Validation Accuracy '"
      ]
     },
     "metadata": {},
     "output_type": "display_data"
    },
    {
     "data": {
      "text/plain": [
       "0.3897058963775635"
      ]
     },
     "metadata": {},
     "output_type": "display_data"
    }
   ],
   "source": [
    "mlp_update_model_with_sgd_dropout()"
   ]
  },
  {
   "cell_type": "code",
   "execution_count": 167,
   "id": "3606e190",
   "metadata": {},
   "outputs": [],
   "source": [
    "def mlp_update_model_with_adam_dropout(plot=0):\n",
    "    model = Sequential()\n",
    "    model.add(Dense(100, input_shape = (normalized_x_train.shape[1], ), kernel_initializer='he_normal'))\n",
    "    model.add(Dropout(0.5))\n",
    "    model.add(BatchNormalization())                    \n",
    "    model.add(Activation('relu'))\n",
    "    model.add(Dense(75, kernel_initializer='he_normal'))\n",
    "    model.add(BatchNormalization())                    \n",
    "    model.add(Activation('relu'))\n",
    "    model.add(Dropout(0.5))\n",
    "    model.add(Dense(50, kernel_initializer='he_normal'))\n",
    "    model.add(BatchNormalization())                    \n",
    "    model.add(Activation('relu'))\n",
    "    model.add(Dropout(0.5))\n",
    "    model.add(Dense(25, kernel_initializer='he_normal'))\n",
    "    model.add(BatchNormalization())                    \n",
    "    model.add(Activation('relu'))\n",
    "    model.add(Dropout(0.5))\n",
    "    model.add(Dense(9, kernel_initializer='he_normal'))\n",
    "    model.add(Activation('softmax'))\n",
    "    \n",
    "    sgd = optimizers.Adam(learning_rate = 0.1)\n",
    "    model.compile(optimizer = sgd, loss = 'categorical_crossentropy', metrics = ['accuracy'])\n",
    "    \n",
    "    history = model.fit(normalized_x_train, y_train_1h, validation_data=(normalized_x_test,y_test_1h), \n",
    "                        batch_size = 100, epochs = 200, verbose = 0)\n",
    "    \n",
    "    val_loss, val_accuracy  = model.evaluate(normalized_x_test, y_test_1h, verbose=False)\n",
    "    \n",
    "    display(\"Validation loss with Relu as activation function with Batch Normalization and Dropout\", val_loss)\n",
    "    display(\"Validation Accuracy \", val_accuracy)\n",
    "    \n",
    "    if (plot > 0):\n",
    "        plot_NN_accuracy(history)\n",
    "        plot_NN_loss(history)"
   ]
  },
  {
   "cell_type": "code",
   "execution_count": 168,
   "id": "51094527",
   "metadata": {},
   "outputs": [
    {
     "data": {
      "text/plain": [
       "'Validation loss with Relu as activation function with Batch Normalization and Dropout'"
      ]
     },
     "metadata": {},
     "output_type": "display_data"
    },
    {
     "data": {
      "text/plain": [
       "1.043391466140747"
      ]
     },
     "metadata": {},
     "output_type": "display_data"
    },
    {
     "data": {
      "text/plain": [
       "'Validation Accuracy '"
      ]
     },
     "metadata": {},
     "output_type": "display_data"
    },
    {
     "data": {
      "text/plain": [
       "0.5539215803146362"
      ]
     },
     "metadata": {},
     "output_type": "display_data"
    }
   ],
   "source": [
    "mlp_update_model_with_adam_dropout()"
   ]
  },
  {
   "cell_type": "markdown",
   "id": "f9fec360",
   "metadata": {},
   "source": [
    "## <span style=\"font-family: Trebuchet MS; font-weight:bold;font-size:0.8em;color:green;\"> The best possible accuracy we can get is between 50 to 55 both SGD and Adam optimizer using Batch Normalization and Dropout"
   ]
  },
  {
   "cell_type": "markdown",
   "id": "37b665b5",
   "metadata": {},
   "source": [
    "## <span style=\"font-family: Trebuchet MS; font-weight:bold;font-size:0.8em;color:green;\"> Let us play around with batch and epochs and learning rate while using optimizer as Adam and having BN and Dropout in hidden layers."
   ]
  },
  {
   "cell_type": "code",
   "execution_count": 169,
   "id": "e1e86c23",
   "metadata": {},
   "outputs": [],
   "source": [
    "def mlp_update_model_with_adam_dropout_update(plot=0):\n",
    "    model = Sequential()\n",
    "    model.add(Dense(100, input_shape = (normalized_x_train.shape[1], ), kernel_initializer='he_normal'))\n",
    "    model.add(Dropout(0.5))\n",
    "    model.add(BatchNormalization())                    \n",
    "    model.add(Activation('relu'))\n",
    "    model.add(Dense(75, kernel_initializer='he_normal'))\n",
    "    model.add(BatchNormalization())                    \n",
    "    model.add(Activation('relu'))\n",
    "    model.add(Dropout(0.5))\n",
    "    model.add(Dense(50, kernel_initializer='he_normal'))\n",
    "    model.add(BatchNormalization())                    \n",
    "    model.add(Activation('relu'))\n",
    "    model.add(Dropout(0.5))\n",
    "    model.add(Dense(25, kernel_initializer='he_normal'))\n",
    "    model.add(BatchNormalization())                    \n",
    "    model.add(Activation('relu'))\n",
    "    model.add(Dropout(0.5))\n",
    "    model.add(Dense(9, kernel_initializer='he_normal'))\n",
    "    model.add(Activation('softmax'))\n",
    "    \n",
    "    sgd = optimizers.Adam()\n",
    "    model.compile(optimizer = sgd, loss = 'categorical_crossentropy', metrics = ['accuracy'])\n",
    "    \n",
    "    history = model.fit(normalized_x_train, y_train_1h, validation_data=(normalized_x_test,y_test_1h), \n",
    "                        batch_size = 100, epochs = 400, verbose = 0)\n",
    "    \n",
    "    val_loss, val_accuracy  = model.evaluate(normalized_x_test, y_test_1h, verbose=False)\n",
    "    \n",
    "    display(\"Validation loss with Relu as activation function with Batch Normalization and Dropout\", val_loss)\n",
    "    display(\"Validation Accuracy \", val_accuracy)\n",
    "    \n",
    "    if (plot > 0):\n",
    "        plot_NN_accuracy(history)\n",
    "        plot_NN_loss(history)"
   ]
  },
  {
   "cell_type": "code",
   "execution_count": 170,
   "id": "384da744",
   "metadata": {},
   "outputs": [
    {
     "data": {
      "text/plain": [
       "'Validation loss with Relu as activation function with Batch Normalization and Dropout'"
      ]
     },
     "metadata": {},
     "output_type": "display_data"
    },
    {
     "data": {
      "text/plain": [
       "1.1562848091125488"
      ]
     },
     "metadata": {},
     "output_type": "display_data"
    },
    {
     "data": {
      "text/plain": [
       "'Validation Accuracy '"
      ]
     },
     "metadata": {},
     "output_type": "display_data"
    },
    {
     "data": {
      "text/plain": [
       "0.5343137383460999"
      ]
     },
     "metadata": {},
     "output_type": "display_data"
    }
   ],
   "source": [
    "mlp_update_model_with_adam_dropout_update()"
   ]
  },
  {
   "cell_type": "markdown",
   "id": "39217c51",
   "metadata": {},
   "source": [
    "## <span style=\"font-family: Trebuchet MS; font-weight:bold;font-size:0.7em;color:darkorange;\">  Part A - Q3 E - Plot visuals as in Q3.C and share insights about difference observed in both the models.\n"
   ]
  },
  {
   "cell_type": "code",
   "execution_count": 171,
   "id": "ff3f7a22",
   "metadata": {},
   "outputs": [
    {
     "data": {
      "text/plain": [
       "'Validation loss with Relu as activation function with Batch Normalization and Dropout'"
      ]
     },
     "metadata": {},
     "output_type": "display_data"
    },
    {
     "data": {
      "text/plain": [
       "1.1676422357559204"
      ]
     },
     "metadata": {},
     "output_type": "display_data"
    },
    {
     "data": {
      "text/plain": [
       "'Validation Accuracy '"
      ]
     },
     "metadata": {},
     "output_type": "display_data"
    },
    {
     "data": {
      "text/plain": [
       "0.5245097875595093"
      ]
     },
     "metadata": {},
     "output_type": "display_data"
    },
    {
     "data": {
      "image/png": "[encoded data removed]",
      "text/plain": [
       "<Figure size 640x480 with 1 Axes>"
      ]
     },
     "metadata": {},
     "output_type": "display_data"
    },
    {
     "name": "stdout",
     "output_type": "stream",
     "text": [
      "1.2003213167190552\n"
     ]
    },
    {
     "data": {
      "image/png": "[encoded data removed]",
      "text/plain": [
       "<Figure size 640x480 with 1 Axes>"
      ]
     },
     "metadata": {},
     "output_type": "display_data"
    }
   ],
   "source": [
    "mlp_update_model_with_adam_dropout_update(1)"
   ]
  },
  {
   "cell_type": "markdown",
   "id": "558df49a",
   "metadata": {},
   "source": [
    "## <span style=\"font-family: Trebuchet MS; font-weight:bold;font-size:0.8em;color:green;\"> Lowering learning rate (Default=0.001) with batch size of 100 and epoch as 400 gives consistent accuracy and loss. THe accuracy is still under lowest beanch mark which is around 50%"
   ]
  },
  {
   "cell_type": "markdown",
   "id": "29058308",
   "metadata": {},
   "source": [
    "## <span style=\"font-family: Trebuchet MS; font-weight:bold;font-size:1.2em;color:#00b3e5;\"> Autonomous Vehicles"
   ]
  },
  {
   "cell_type": "markdown",
   "id": "ff7a6b15",
   "metadata": {},
   "source": [
    "## <span style=\"font-family: Trebuchet MS; font-weight:bold;font-size:0.7em;color:darkorange;\">  Part B - Q1 A - Read the .h5 file and assign to a variable.\n"
   ]
  },
  {
   "cell_type": "code",
   "execution_count": 172,
   "id": "8934c27d",
   "metadata": {},
   "outputs": [],
   "source": [
    "import h5py\n",
    "input = \"Autonomous_Vehicles_SVHN_single_grey1.h5\"\n",
    "\n",
    "hf = h5py.File(input, \"r\") "
   ]
  },
  {
   "cell_type": "markdown",
   "id": "8856d628",
   "metadata": {},
   "source": [
    "## <span style=\"font-family: Trebuchet MS; font-weight:bold;font-size:0.7em;color:darkorange;\">  Part B - Q1 B - Print all the keys from the .h5 file.\n"
   ]
  },
  {
   "cell_type": "code",
   "execution_count": 173,
   "id": "0fa0b753",
   "metadata": {},
   "outputs": [
    {
     "name": "stdout",
     "output_type": "stream",
     "text": [
      "Keys: <KeysViewHDF5 ['X_test', 'X_train', 'X_val', 'y_test', 'y_train', 'y_val']>\n"
     ]
    }
   ],
   "source": [
    "# Print all root level object names (aka keys) \n",
    "# these can be group or dataset names \n",
    "print(\"Keys: %s\" % hf.keys())"
   ]
  },
  {
   "cell_type": "code",
   "execution_count": 174,
   "id": "966e5444",
   "metadata": {},
   "outputs": [],
   "source": [
    "# get first object name/key; may or may NOT be a group\n",
    "#a_group_key = list(hf.keys())[0]\n",
    "\n",
    "# get the object type for a_group_key: usually group or dataset\n",
    "#print(type(hf[a_group_key])) \n",
    "\n",
    "# If a_group_key is a group name, \n",
    "# this gets the object names in the group and returns as a list\n",
    "#data = list(hf[a_group_key])\n",
    "\n",
    "# If a_group_key is a dataset name, \n",
    "# this gets the dataset values and returns as a list\n",
    "#data = list(hf[a_group_key])\n",
    "# preferred methods to get dataset values:\n",
    "#ds_obj = hf[a_group_key]      # returns as a h5py dataset object\n",
    "#ds_arr = hf[a_group_key][()]  # returns as a numpy array"
   ]
  },
  {
   "cell_type": "markdown",
   "id": "761a20c3",
   "metadata": {},
   "source": [
    "## <span style=\"font-family: Trebuchet MS; font-weight:bold;font-size:0.7em;color:darkorange;\">  Part B - Q1 C - Split the data into X_train, X_test, Y_train, Y_test\n"
   ]
  },
  {
   "cell_type": "code",
   "execution_count": 175,
   "id": "73cf6d6c",
   "metadata": {},
   "outputs": [],
   "source": [
    "X_train = np.array(hf.get('X_train'))\n",
    "X_test = np.array(hf.get('X_test'))\n",
    "X_val = np.array(hf.get('X_val'))\n",
    "Y_train = np.array(hf.get('y_train'))\n",
    "Y_test = np.array(hf.get('y_test'))\n",
    "Y_val = np.array(hf.get('y_val'))"
   ]
  },
  {
   "cell_type": "markdown",
   "id": "13616035",
   "metadata": {},
   "source": [
    "## <span style=\"font-family: Trebuchet MS; font-weight:bold;font-size:0.7em;color:darkorange;\">  Part B - Q2 A - Print shape of all the 4 data split into x, y, train, test to verify if x & y is in sync.\n"
   ]
  },
  {
   "cell_type": "code",
   "execution_count": 176,
   "id": "be7d5d69",
   "metadata": {},
   "outputs": [
    {
     "name": "stdout",
     "output_type": "stream",
     "text": [
      "XTrain shape is (42000, 32, 32) and XTest shape is (18000, 32, 32) and validation shape is (60000, 32, 32) \n",
      "YTrain shape is (42000,) and YTest shape is (18000,) and validation shape is (60000,) \n"
     ]
    }
   ],
   "source": [
    "print(f\"XTrain shape is {X_train.shape} and XTest shape is {X_test.shape} and validation shape is {X_val.shape} \")\n",
    "print(f\"YTrain shape is {Y_train.shape} and YTest shape is {Y_test.shape} and validation shape is {Y_val.shape} \")"
   ]
  },
  {
   "cell_type": "markdown",
   "id": "5f9f8865",
   "metadata": {},
   "source": [
    "## <span style=\"font-family: Trebuchet MS; font-weight:bold;font-size:0.7em;color:darkorange;\">  Part B - Q2 B - Visualise first 10 images in train data and print its corresponding labels.\n"
   ]
  },
  {
   "cell_type": "code",
   "execution_count": 177,
   "id": "6aeed925",
   "metadata": {},
   "outputs": [
    {
     "data": {
      "image/png": "[encoded data removed]",
      "text/plain": [
       "<Figure size 1000x100 with 10 Axes>"
      ]
     },
     "metadata": {},
     "output_type": "display_data"
    },
    {
     "name": "stdout",
     "output_type": "stream",
     "text": [
      "label for each of the above image: [2 6 7 4 4 0 3 0 7 3]\n"
     ]
    }
   ],
   "source": [
    "# visualizing the first 10 images in the dataset and their labels\n",
    "plt.figure(figsize=(10, 1))\n",
    "for i in range(10):\n",
    "    plt.subplot(1, 10, i+1)\n",
    "    plt.imshow(X_train[i],cmap=\"gray\")\n",
    "    plt.axis('off')\n",
    "plt.show()\n",
    "print('label for each of the above image: %s' % (Y_train[0:10]))"
   ]
  },
  {
   "cell_type": "markdown",
   "id": "ba98173a",
   "metadata": {},
   "source": [
    "## <span style=\"font-family: Trebuchet MS; font-weight:bold;font-size:0.7em;color:darkorange;\">  Part B - Q2 C -Reshape all the images with appropriate shape update the data in same variable.\n"
   ]
  },
  {
   "cell_type": "code",
   "execution_count": 178,
   "id": "b63cf068",
   "metadata": {},
   "outputs": [],
   "source": [
    "# Flatten the images\n",
    "image_vector_size = 32*32\n",
    "X_train = X_train.reshape(X_train.shape[0], image_vector_size)\n",
    "X_test = X_test.reshape(X_test.shape[0], image_vector_size)\n",
    "X_val = X_val.reshape(X_val.shape[0], image_vector_size)"
   ]
  },
  {
   "cell_type": "markdown",
   "id": "db400a09",
   "metadata": {},
   "source": [
    "## <span style=\"font-family: Trebuchet MS; font-weight:bold;font-size:0.7em;color:darkorange;\">  Part B - Q2 D - Normalise the images i.e. Normalise the pixel values.\n"
   ]
  },
  {
   "cell_type": "code",
   "execution_count": 179,
   "id": "7de0f2e9",
   "metadata": {},
   "outputs": [
    {
     "name": "stdout",
     "output_type": "stream",
     "text": [
      "Training set (42000, 1024) (42000,)\n",
      "Test set (18000, 1024) (18000,)\n",
      "Val set (60000, 1024) (60000,)\n"
     ]
    }
   ],
   "source": [
    "# # normalize inputs from 0-255 to 0-1\n",
    "X_train = X_train / 255.0\n",
    "X_test = X_test / 255.0\n",
    "X_val = X_val / 255.0\n",
    "\n",
    "print('Training set', X_train.shape, Y_train.shape)\n",
    "print('Test set', X_test.shape, Y_test.shape)\n",
    "print('Val set', X_val.shape, Y_val.shape)"
   ]
  },
  {
   "cell_type": "code",
   "execution_count": 180,
   "id": "5c6cbddd",
   "metadata": {},
   "outputs": [
    {
     "data": {
      "text/plain": [
       "array([[0.12968785, 0.11866706, 0.10530196, ..., 0.19477727, 0.19942354,\n",
       "        0.20799099],\n",
       "       [0.34101608, 0.3414451 , 0.34656274, ..., 0.29498273, 0.30054745,\n",
       "        0.31092745],\n",
       "       [0.48284313, 0.49356118, 0.47872823, ..., 0.36837214, 0.41093138,\n",
       "        0.44637334],\n",
       "       ...,\n",
       "       [0.6042902 , 0.61100274, 0.6149663 , ..., 0.52993256, 0.53592   ,\n",
       "        0.5398412 ],\n",
       "       [0.8137075 , 0.8176286 , 0.8353796 , ..., 0.83974785, 0.8319055 ,\n",
       "        0.820142  ],\n",
       "       [0.37285647, 0.37677765, 0.39246237, ..., 0.5414914 , 0.5509529 ,\n",
       "        0.5509529 ]], dtype=float32)"
      ]
     },
     "metadata": {},
     "output_type": "display_data"
    }
   ],
   "source": [
    "display(X_train)"
   ]
  },
  {
   "cell_type": "markdown",
   "id": "8ee495c6",
   "metadata": {},
   "source": [
    "## <span style=\"font-family: Trebuchet MS; font-weight:bold;font-size:0.7em;color:darkorange;\">  Part B - Q2 E - Transform Labels into format acceptable by Neural Network\n"
   ]
  },
  {
   "cell_type": "code",
   "execution_count": 181,
   "id": "a0cace3c",
   "metadata": {},
   "outputs": [],
   "source": [
    "# Convert to \"one-hot\" vectors using the to_categorical function\n",
    "num_classes = 10\n",
    "Y_train_1h = keras.utils.to_categorical(Y_train, num_classes)\n",
    "Y_test_1h = keras.utils.to_categorical(Y_test,num_classes)"
   ]
  },
  {
   "cell_type": "markdown",
   "id": "2073b987",
   "metadata": {},
   "source": [
    "## <span style=\"font-family: Trebuchet MS; font-weight:bold;font-size:0.7em;color:darkorange;\">  Part B - Q2 F - Print total Number of classes in the Dataset.\n"
   ]
  },
  {
   "cell_type": "code",
   "execution_count": 182,
   "id": "5c213719",
   "metadata": {},
   "outputs": [
    {
     "name": "stdout",
     "output_type": "stream",
     "text": [
      "Total number of classes \n",
      " [0 1 2 3 4 5 6 7 8 9]\n",
      "Total number of classes \n",
      " [0 1 2 3 4 5 6 7 8 9]\n"
     ]
    }
   ],
   "source": [
    "print(\"Total number of classes \\n\", np.unique(Y_train))\n",
    "print(\"Total number of classes \\n\", np.unique(Y_test))"
   ]
  },
  {
   "cell_type": "markdown",
   "id": "42b781ee",
   "metadata": {},
   "source": [
    "## <span style=\"font-family: Trebuchet MS; font-weight:bold;font-size:0.7em;color:darkorange;\">  Part B - Q3 A - Design a Neural Network to train a classifier.\n"
   ]
  },
  {
   "cell_type": "code",
   "execution_count": 183,
   "id": "d3409e5d",
   "metadata": {},
   "outputs": [],
   "source": [
    "from tensorflow.keras.callbacks import ModelCheckpoint, ReduceLROnPlateau\n",
    "from sklearn.metrics import classification_report"
   ]
  },
  {
   "cell_type": "code",
   "execution_count": 184,
   "id": "7dec6d34",
   "metadata": {},
   "outputs": [],
   "source": [
    "# we will use all default optimizer RMSProp, learning rate with 1 input and 1 output layer with 3 hidden layers\n",
    "# However we will use relu in input and hidden layer. Softmax activiation function in output layer.\n",
    "def get_default_sequential_model():\n",
    "    # create model\n",
    "    model = Sequential()  \n",
    "    model.add(Dense(256, activation='relu',input_shape=(image_vector_size,)))\n",
    "    model.add(Dense(148, activation='relu'))\n",
    "    model.add(Dense(64, activation='relu'))\n",
    "    model.add(Dense(32, activation='relu'))\n",
    "    model.add(Dense(num_classes, activation='softmax'))\n",
    "    my_optimizer = optimizers.RMSprop(learning_rate=0.001)\n",
    "    model.compile(loss='categorical_crossentropy', optimizer=my_optimizer, metrics=['accuracy'])\n",
    "    return model"
   ]
  },
  {
   "cell_type": "code",
   "execution_count": 185,
   "id": "ccc6e877",
   "metadata": {},
   "outputs": [],
   "source": [
    "# All are same as default except we are using Adam optimizer with LR as 0.01 and Kernel_initializer as 'he_uniform'\n",
    "def get_optimized_model_1():\n",
    "    model = Sequential()  \n",
    "    model.add(Dense(256, activation='relu',kernel_initializer='he_uniform',input_shape=(image_vector_size,)))\n",
    "    model.add(Dense(148, activation='relu',kernel_initializer='he_uniform'))\n",
    "    model.add(Dense(64, activation='relu',kernel_initializer='he_uniform'))\n",
    "    model.add(Dense(32, activation='relu',kernel_initializer='he_uniform'))\n",
    "    model.add(Dense(num_classes, activation='softmax'))\n",
    "    my_optimizer = optimizers.Adam(learning_rate=0.01)\n",
    "    model.compile(loss='categorical_crossentropy', optimizer=my_optimizer, metrics=['accuracy'])\n",
    "    return model"
   ]
  },
  {
   "cell_type": "code",
   "execution_count": 186,
   "id": "338b06e9",
   "metadata": {},
   "outputs": [],
   "source": [
    "# All are same as default except we are using Adam optimizer with LR as 0.01, We will have dropout and Batch Normalization\n",
    "def get_optimized_model_2():\n",
    "    model = Sequential()  \n",
    "    model.add(Dense(256, activation='relu',kernel_initializer='he_uniform',input_shape=(image_vector_size,)))\n",
    "    model.add(Dropout(0.5))\n",
    "    model.add(BatchNormalization())\n",
    "    model.add(Dense(148, activation='relu',kernel_initializer='he_uniform'))\n",
    "    model.add(Dropout(0.5))\n",
    "    model.add(BatchNormalization())\n",
    "    model.add(Dense(64, activation='relu',kernel_initializer='he_uniform'))\n",
    "    model.add(Dropout(0.5))\n",
    "    model.add(BatchNormalization())\n",
    "    model.add(Dense(32, activation='relu',kernel_initializer='he_uniform'))\n",
    "    model.add(Dropout(0.5))\n",
    "    model.add(BatchNormalization())\n",
    "    model.add(Dense(num_classes, activation='softmax'))\n",
    "    my_optimizer = optimizers.Adam(learning_rate=0.01)\n",
    "    model.compile(loss='categorical_crossentropy', optimizer=my_optimizer, metrics=['accuracy'])\n",
    "    return model"
   ]
  },
  {
   "cell_type": "code",
   "execution_count": 187,
   "id": "56ae8e67",
   "metadata": {},
   "outputs": [],
   "source": [
    "# Let us change the optimizer to SGD\n",
    "def get_optimized_model_3():\n",
    "    model = Sequential()  \n",
    "    model.add(Dense(256, activation='relu',kernel_initializer='he_uniform',input_shape=(image_vector_size,)))\n",
    "    model.add(Dropout(0.5))\n",
    "    model.add(BatchNormalization())\n",
    "    model.add(Dense(148, activation='relu',kernel_initializer='he_uniform'))\n",
    "    model.add(Dropout(0.5))\n",
    "    model.add(BatchNormalization())\n",
    "    model.add(Dense(64, activation='relu',kernel_initializer='he_uniform'))\n",
    "    model.add(Dropout(0.5))\n",
    "    model.add(BatchNormalization())\n",
    "    model.add(Dense(32, activation='relu',kernel_initializer='he_uniform'))\n",
    "    model.add(Dropout(0.5))\n",
    "    model.add(BatchNormalization())\n",
    "    model.add(Dense(num_classes, activation='softmax'))\n",
    "    my_optimizer = optimizers.SGD(learning_rate=0.01)\n",
    "    model.compile(loss='categorical_crossentropy', optimizer=my_optimizer, metrics=['accuracy'])\n",
    "    return model"
   ]
  },
  {
   "cell_type": "code",
   "execution_count": 188,
   "id": "46caef2c",
   "metadata": {},
   "outputs": [],
   "source": [
    "# Let us add more hidden layers\n",
    "def get_optimized_model_4():\n",
    "    model = Sequential()  \n",
    "    model.add(Dense(256, activation='relu',kernel_initializer='he_uniform',input_shape=(image_vector_size,)))\n",
    "    model.add(Dropout(0.5))\n",
    "    model.add(BatchNormalization())\n",
    "    model.add(Dense(148, activation='relu',kernel_initializer='he_uniform'))\n",
    "    model.add(Dropout(0.5))\n",
    "    model.add(BatchNormalization())\n",
    "    model.add(Dense(148, activation='relu',kernel_initializer='he_uniform'))\n",
    "    model.add(Dropout(0.5))\n",
    "    model.add(BatchNormalization())\n",
    "    model.add(Dense(64, activation='relu',kernel_initializer='he_uniform'))\n",
    "    model.add(Dropout(0.5))\n",
    "    model.add(BatchNormalization())\n",
    "    model.add(Dense(64, activation='relu',kernel_initializer='he_uniform'))\n",
    "    model.add(Dropout(0.5))\n",
    "    model.add(BatchNormalization())\n",
    "    model.add(Dense(32, activation='relu',kernel_initializer='he_uniform'))\n",
    "    model.add(Dropout(0.5))\n",
    "    model.add(BatchNormalization())\n",
    "    model.add(Dense(num_classes, activation='softmax'))\n",
    "    my_optimizer = optimizers.SGD(learning_rate=0.1)\n",
    "    model.compile(loss='categorical_crossentropy', optimizer=my_optimizer, metrics=['accuracy'])\n",
    "    return model"
   ]
  },
  {
   "cell_type": "code",
   "execution_count": 189,
   "id": "1512d3e8",
   "metadata": {},
   "outputs": [],
   "source": [
    "# Let us use he_normal as kernel_initializer with Adam\n",
    "def get_optimized_model_5():\n",
    "    model = Sequential()\n",
    "    \n",
    "    model.add(Dense(256, input_shape = (image_vector_size, ), kernel_initializer='he_normal'))\n",
    "    model.add(Activation('relu'))\n",
    "    model.add(Dense(148, kernel_initializer='he_normal'))\n",
    "    model.add(Activation('relu'))\n",
    "    model.add(Dense(64, kernel_initializer='he_normal'))\n",
    "    model.add(Activation('relu'))\n",
    "    model.add(Dense(32, kernel_initializer='he_normal'))\n",
    "    model.add(Activation('relu'))\n",
    "    model.add(Dense(num_classes, kernel_initializer='he_normal'))\n",
    "    model.add(Activation('softmax'))\n",
    "    my_optimizer = optimizers.Adam(learning_rate=0.1)\n",
    "    model.compile(optimizer = my_optimizer, loss = 'categorical_crossentropy', metrics = ['accuracy'])\n",
    "    \n",
    "    return model"
   ]
  },
  {
   "cell_type": "code",
   "execution_count": 190,
   "id": "b468cdf0",
   "metadata": {},
   "outputs": [],
   "source": [
    "# Let us use he_normal as kernel_initializer with Adam + Batch Normalization\n",
    "def get_optimized_model_6():\n",
    "    model = Sequential()\n",
    "    \n",
    "    model.add(Dense(256, input_shape = (image_vector_size, ), kernel_initializer='he_normal'))\n",
    "    model.add(Activation('relu'))\n",
    "    model.add(BatchNormalization())\n",
    "    model.add(Dense(148, kernel_initializer='he_normal'))\n",
    "    model.add(Activation('relu'))\n",
    "    model.add(BatchNormalization())\n",
    "    model.add(Dense(64, kernel_initializer='he_normal'))\n",
    "    model.add(Activation('relu'))\n",
    "    model.add(BatchNormalization())\n",
    "    model.add(Dense(32, kernel_initializer='he_normal'))\n",
    "    model.add(Activation('relu'))\n",
    "    model.add(BatchNormalization())\n",
    "    model.add(Dense(num_classes, kernel_initializer='he_normal'))\n",
    "    model.add(Activation('softmax'))\n",
    "    my_optimizer = optimizers.Adam(learning_rate=0.001)\n",
    "    model.compile(optimizer = my_optimizer, loss = 'categorical_crossentropy', metrics = ['accuracy'])\n",
    "    \n",
    "    return model"
   ]
  },
  {
   "cell_type": "code",
   "execution_count": 191,
   "id": "e3a08353",
   "metadata": {},
   "outputs": [],
   "source": [
    "# Let us use he_normal as kernel_initializer with Adam + Batch Normalization + Dropout\n",
    "def get_optimized_model_7():\n",
    "    model = Sequential()\n",
    "    \n",
    "    model.add(Dense(256, input_shape = (image_vector_size, ), kernel_initializer='he_normal'))\n",
    "    model.add(Activation('relu'))\n",
    "    model.add(Dropout(0.5))\n",
    "    model.add(BatchNormalization())\n",
    "    model.add(Dense(148, kernel_initializer='he_normal'))\n",
    "    model.add(Activation('relu'))\n",
    "    model.add(Dropout(0.5))\n",
    "    model.add(BatchNormalization())\n",
    "    model.add(Dense(64, kernel_initializer='he_normal'))\n",
    "    model.add(Activation('relu'))\n",
    "    model.add(Dropout(0.5))\n",
    "    model.add(BatchNormalization())\n",
    "    model.add(Dense(32, kernel_initializer='he_normal'))\n",
    "    model.add(Activation('relu'))\n",
    "    model.add(Dropout(0.5))\n",
    "    model.add(BatchNormalization())\n",
    "    model.add(Dense(num_classes, kernel_initializer='he_normal'))\n",
    "    model.add(Activation('softmax'))\n",
    "    my_optimizer = optimizers.Adam(learning_rate=0.001)\n",
    "    model.compile(optimizer = my_optimizer, loss = 'categorical_crossentropy', metrics = ['accuracy'])\n",
    "    \n",
    "    return model"
   ]
  },
  {
   "cell_type": "markdown",
   "id": "eed187cf",
   "metadata": {},
   "source": [
    "## <span style=\"font-family: Trebuchet MS; font-weight:bold;font-size:0.7em;color:darkorange;\">  Part B - Q3 B - Train the classifier using previously designed Architecture (Use best suitable parameters).\n"
   ]
  },
  {
   "cell_type": "code",
   "execution_count": 192,
   "id": "2f70d639",
   "metadata": {},
   "outputs": [],
   "source": [
    "#checkpoint = ModelCheckpoint(\"model_weights_1.h5\",monitor='val_accuracy',\n",
    "#                            save_weights_only=True, model='max',verbose=1)\n",
    "#reduce_lr = ReduceLROnPlateau(monitor='val_loss',factor=0.1,patience=2,min_lr=0.00001,model='auto')\n",
    "\n",
    "#callbacks = [checkpoint,reduce_lr]\n"
   ]
  },
  {
   "cell_type": "code",
   "execution_count": 193,
   "id": "e2e519e6",
   "metadata": {},
   "outputs": [
    {
     "name": "stdout",
     "output_type": "stream",
     "text": [
      "563/563 [==============================] - 5s 9ms/step - loss: 1.0095 - accuracy: 0.6782\n"
     ]
    }
   ],
   "source": [
    "model = get_default_sequential_model()\n",
    "#history=model.fit(X_train, Y_train_1h, epochs=400, batch_size=50, verbose=False)\n",
    "history=model.fit(X_train, Y_train_1h, epochs=10, batch_size=50, verbose=False)\n",
    "val_loss, val_accuracy  = model.evaluate(X_test, Y_test_1h, verbose=True)"
   ]
  },
  {
   "cell_type": "markdown",
   "id": "42055969",
   "metadata": {},
   "source": [
    "## <span style=\"font-family: Trebuchet MS; font-weight:bold;font-size:0.8em;color:green;\">  Default Model Failed"
   ]
  },
  {
   "cell_type": "markdown",
   "id": "e1e4066d",
   "metadata": {},
   "source": [
    "## <span style=\"font-family: Trebuchet MS; font-weight:bold;font-size:0.8em;color:green;\"> We have to be careful with epoch selection - the in-sample size is 42K and having higher number of epoch will take lot of time. We will try with lower number of epoch (say 10) and then for a better observation on the model we will try with higher number of epoch to find out the accuracy. "
   ]
  },
  {
   "cell_type": "code",
   "execution_count": 194,
   "id": "a4a852a2",
   "metadata": {},
   "outputs": [
    {
     "name": "stdout",
     "output_type": "stream",
     "text": [
      "563/563 [==============================] - 5s 9ms/step - loss: 2.3032 - accuracy: 0.0955\n"
     ]
    }
   ],
   "source": [
    "model = get_optimized_model_1()\n",
    "history=model.fit(X_train, Y_train_1h, validation_data=(X_test,Y_test_1h), epochs=10, batch_size=200, verbose=False)\n",
    "val_loss, val_accuracy  = model.evaluate(X_test, Y_test_1h, verbose=True)"
   ]
  },
  {
   "cell_type": "markdown",
   "id": "013073f5",
   "metadata": {},
   "source": [
    "## <span style=\"font-family: Trebuchet MS; font-weight:bold;font-size:0.8em;color:green;\">  Model Failed"
   ]
  },
  {
   "cell_type": "code",
   "execution_count": 195,
   "id": "bc42a559",
   "metadata": {},
   "outputs": [
    {
     "name": "stdout",
     "output_type": "stream",
     "text": [
      "563/563 [==============================] - 4s 7ms/step - loss: 2.2073 - accuracy: 0.1503\n"
     ]
    }
   ],
   "source": [
    "model = get_optimized_model_2()\n",
    "history=model.fit(X_train, Y_train_1h, epochs=10, batch_size=200, verbose=False)\n",
    "val_loss, val_accuracy  = model.evaluate(X_test, Y_test_1h, verbose=True)"
   ]
  },
  {
   "cell_type": "markdown",
   "id": "3dbb5c8a",
   "metadata": {},
   "source": [
    "## <span style=\"font-family: Trebuchet MS; font-weight:bold;font-size:0.8em;color:green;\">  Model Failed"
   ]
  },
  {
   "cell_type": "code",
   "execution_count": 196,
   "id": "f857f027",
   "metadata": {},
   "outputs": [
    {
     "name": "stdout",
     "output_type": "stream",
     "text": [
      "563/563 [==============================] - 5s 8ms/step - loss: 2.2994 - accuracy: 0.1097\n"
     ]
    }
   ],
   "source": [
    "model = get_optimized_model_3()\n",
    "history=model.fit(X_train, Y_train_1h, validation_data=(X_test,Y_test_1h), epochs=10, batch_size=200, verbose=False)\n",
    "val_loss, val_accuracy  = model.evaluate(X_test, Y_test_1h, verbose=True)"
   ]
  },
  {
   "cell_type": "markdown",
   "id": "8d51cb89",
   "metadata": {},
   "source": [
    "## <span style=\"font-family: Trebuchet MS; font-weight:bold;font-size:0.8em;color:green;\">  Model Failed"
   ]
  },
  {
   "cell_type": "code",
   "execution_count": 197,
   "id": "85339fc5",
   "metadata": {},
   "outputs": [
    {
     "name": "stdout",
     "output_type": "stream",
     "text": [
      "563/563 [==============================] - 5s 9ms/step - loss: 2.3030 - accuracy: 0.1018\n"
     ]
    }
   ],
   "source": [
    "model = get_optimized_model_4()\n",
    "history=model.fit(X_train, Y_train_1h, epochs=10, batch_size=200, verbose=False)\n",
    "val_loss, val_accuracy  = model.evaluate(X_test, Y_test_1h, verbose=True)"
   ]
  },
  {
   "cell_type": "markdown",
   "id": "33d3d14a",
   "metadata": {},
   "source": [
    "## <span style=\"font-family: Trebuchet MS; font-weight:bold;font-size:0.8em;color:green;\">  Model Failed"
   ]
  },
  {
   "cell_type": "code",
   "execution_count": 198,
   "id": "f95f15f4",
   "metadata": {},
   "outputs": [
    {
     "name": "stdout",
     "output_type": "stream",
     "text": [
      "563/563 [==============================] - 4s 7ms/step - loss: 2.3043 - accuracy: 0.0982\n"
     ]
    }
   ],
   "source": [
    "model = get_optimized_model_5()\n",
    "history=model.fit(X_train, Y_train_1h, validation_data=(X_test,Y_test_1h), epochs=10, batch_size=200, verbose=False)\n",
    "val_loss, val_accuracy  = model.evaluate(X_test, Y_test_1h, verbose=True)"
   ]
  },
  {
   "cell_type": "markdown",
   "id": "7b00ccc8",
   "metadata": {},
   "source": [
    "## <span style=\"font-family: Trebuchet MS; font-weight:bold;font-size:0.8em;color:green;\">  Model Failed"
   ]
  },
  {
   "cell_type": "code",
   "execution_count": 199,
   "id": "bc8a4c02",
   "metadata": {},
   "outputs": [
    {
     "name": "stdout",
     "output_type": "stream",
     "text": [
      "563/563 [==============================] - 4s 7ms/step - loss: 0.8873 - accuracy: 0.7232\n"
     ]
    }
   ],
   "source": [
    "model = get_optimized_model_6()\n",
    "history=model.fit(X_train, Y_train_1h, validation_data=(X_test,Y_test_1h),  epochs=10, batch_size=100, verbose=False)\n",
    "val_loss, val_accuracy  = model.evaluate(X_test, Y_test_1h, verbose=True)"
   ]
  },
  {
   "cell_type": "markdown",
   "id": "b7aa185f",
   "metadata": {},
   "source": [
    "## <span style=\"font-family: Trebuchet MS; font-weight:bold;font-size:0.8em;color:green;\">  Model accuracy shows good accuracy which is a good improvement considering all the above varitions. This is using Batch Normalization which means the model has influenced with Covarient shift which is normalized using Batch Normalization"
   ]
  },
  {
   "cell_type": "code",
   "execution_count": 200,
   "id": "a14d0429",
   "metadata": {},
   "outputs": [
    {
     "name": "stdout",
     "output_type": "stream",
     "text": [
      "563/563 [==============================] - 5s 8ms/step - loss: 2.3024 - accuracy: 0.1024\n"
     ]
    }
   ],
   "source": [
    "model = get_optimized_model_7()\n",
    "history=model.fit(X_train, Y_train_1h, validation_data=(X_test,Y_test_1h), epochs=10, batch_size=100, verbose=False)\n",
    "val_loss, val_accuracy  = model.evaluate(X_test, Y_test_1h, verbose=True)"
   ]
  },
  {
   "cell_type": "markdown",
   "id": "d24de39a",
   "metadata": {},
   "source": [
    "## <span style=\"font-family: Trebuchet MS; font-weight:bold;font-size:0.8em;color:green;\"> Addition of dropout is not giving improvement."
   ]
  },
  {
   "cell_type": "code",
   "execution_count": 201,
   "id": "03bc483d",
   "metadata": {},
   "outputs": [
    {
     "name": "stdout",
     "output_type": "stream",
     "text": [
      "563/563 [==============================] - 16s 14ms/step - loss: 0.6462 - accuracy: 0.8131\n"
     ]
    }
   ],
   "source": [
    "model = get_optimized_model_6()\n",
    "history=model.fit(X_train, Y_train_1h, validation_data=(X_test,Y_test_1h), epochs=100, batch_size=50, verbose=False)\n",
    "val_loss, val_accuracy  = model.evaluate(X_test, Y_test_1h, verbose=True)"
   ]
  },
  {
   "cell_type": "markdown",
   "id": "68e28a24",
   "metadata": {},
   "source": [
    "## <span style=\"font-family: Trebuchet MS; font-weight:bold;font-size:0.8em;color:green;\"> Updating epochs and batch_size gives better accuracy"
   ]
  },
  {
   "cell_type": "markdown",
   "id": "b13396c0",
   "metadata": {},
   "source": [
    "## <span style=\"font-family: Trebuchet MS; font-weight:bold;font-size:0.7em;color:darkorange;\">  Part B - Q3 C - Evaluate performance of the model with appropriate metrics.\n"
   ]
  },
  {
   "cell_type": "code",
   "execution_count": 202,
   "id": "73889ff5",
   "metadata": {},
   "outputs": [
    {
     "name": "stdout",
     "output_type": "stream",
     "text": [
      "563/563 [==============================] - 7s 12ms/step\n",
      "              precision    recall  f1-score   support\n",
      "\n",
      "           0       0.86      0.80      0.83      1814\n",
      "           1       0.80      0.83      0.81      1828\n",
      "           2       0.88      0.78      0.83      1803\n",
      "           3       0.78      0.77      0.77      1719\n",
      "           4       0.87      0.85      0.86      1812\n",
      "           5       0.80      0.82      0.81      1768\n",
      "           6       0.83      0.81      0.82      1832\n",
      "           7       0.79      0.88      0.83      1808\n",
      "           8       0.77      0.78      0.78      1812\n",
      "           9       0.76      0.80      0.78      1804\n",
      "\n",
      "    accuracy                           0.81     18000\n",
      "   macro avg       0.81      0.81      0.81     18000\n",
      "weighted avg       0.82      0.81      0.81     18000\n",
      "\n"
     ]
    }
   ],
   "source": [
    "y_pred_1=model.predict(X_test)\n",
    "y_pred_final_1=[]\n",
    "for i in y_pred_1:\n",
    "  y_pred_final_1.append(np.argmax(i))\n",
    "\n",
    "print(classification_report(Y_test,y_pred_final_1))"
   ]
  },
  {
   "cell_type": "markdown",
   "id": "68b896a6",
   "metadata": {},
   "source": [
    "## <span style=\"font-family: Trebuchet MS; font-weight:bold;font-size:0.7em;color:darkorange;\">  Part B - Q3 D - Plot the training loss, validation loss vs number of epochs and training accuracy, validation accuracy vs number of epochs plot and write your observations on the same."
   ]
  },
  {
   "cell_type": "code",
   "execution_count": 203,
   "id": "6be88233",
   "metadata": {},
   "outputs": [
    {
     "data": {
      "image/png": "[encoded data removed]",
      "text/plain": [
       "<Figure size 640x480 with 1 Axes>"
      ]
     },
     "metadata": {},
     "output_type": "display_data"
    }
   ],
   "source": [
    "plot_NN_accuracy(history)"
   ]
  },
  {
   "cell_type": "code",
   "execution_count": 204,
   "id": "ab30d1b2",
   "metadata": {},
   "outputs": [
    {
     "name": "stdout",
     "output_type": "stream",
     "text": [
      "0.6461547017097473\n"
     ]
    },
    {
     "data": {
      "image/png": "[encoded data removed]",
      "text/plain": [
       "<Figure size 640x480 with 1 Axes>"
      ]
     },
     "metadata": {},
     "output_type": "display_data"
    }
   ],
   "source": [
    "plot_NN_loss(history)"
   ]
  },
  {
   "cell_type": "markdown",
   "id": "481cfedd",
   "metadata": {},
   "source": [
    "## <span style=\"font-family: Trebuchet MS; font-weight:bold;font-size:0.8em;color:green;\"> Using appropriate epoch and batch size with Batch Normalization gives good accuracy in testing sample as well. It is comparable with training sample. However the model should be updated to make it smooth. The model does provide less accuracy in predicting some target."
   ]
  },
  {
   "cell_type": "code",
   "execution_count": null,
   "id": "03a6fa1a",
   "metadata": {},
   "outputs": [],
   "source": []
  }
 ],
 "metadata": {
  "kernelspec": {
   "display_name": "Python 3 (ipykernel)",
   "language": "python",
   "name": "python3"
  },
  "language_info": {
   "codemirror_mode": {
    "name": "ipython",
    "version": 3
   },
   "file_extension": ".py",
   "mimetype": "text/x-python",
   "name": "python",
   "nbconvert_exporter": "python",
   "pygments_lexer": "ipython3",
   "version": "3.9.13"
  }
 },
 "nbformat": 4,
 "nbformat_minor": 5
}
