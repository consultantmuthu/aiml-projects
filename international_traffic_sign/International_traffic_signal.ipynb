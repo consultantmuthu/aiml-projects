{
 "cells": [
  {
   "cell_type": "markdown",
   "id": "ff6fc4e5",
   "metadata": {},
   "source": [
    "<span style=\"font-family: Trebuchet MS; font-weight:bold;font-size:2.0em;color:#00b3e5;\">  Project: International Traffic Signal"
   ]
  },
  {
   "cell_type": "markdown",
   "id": "9144d81f",
   "metadata": {},
   "source": [
    "<span style=\"font-family: Trebuchet MS; font-weight:bold;font-size:1.5em;color:#00b3e5;\"> Reading dataset - We have dataset as pickles"
   ]
  },
  {
   "cell_type": "code",
   "execution_count": 1,
   "id": "48a0bfff",
   "metadata": {},
   "outputs": [],
   "source": [
    "import pandas as pd\n",
    "import numpy as np\n",
    "import pickle\n",
    "import logging"
   ]
  },
  {
   "cell_type": "code",
   "execution_count": 2,
   "id": "f8d6bf1e",
   "metadata": {},
   "outputs": [],
   "source": [
    "with open('./train.p', mode='rb') as train_p:\n",
    "    train_dataset = pickle.load(train_p)\n",
    "    \n",
    "with open('./test.p', mode='rb') as test_p:\n",
    "    test_dataset = pickle.load(test_p)\n",
    "    \n",
    "with open('./valid.p', mode='rb') as val_p:\n",
    "    val_dataset = pickle.load(val_p)"
   ]
  },
  {
   "cell_type": "code",
   "execution_count": 3,
   "id": "f0bd5aaa",
   "metadata": {
    "scrolled": false
   },
   "outputs": [
    {
     "data": {
      "text/plain": [
       "{'coords': array([[  6,   5,  22,  20],\n",
       "        [  6,   5,  22,  20],\n",
       "        [  6,   5,  23,  21],\n",
       "        ...,\n",
       "        [ 10,   8,  99,  90],\n",
       "        [ 10,  11, 112, 108],\n",
       "        [ 13,  12, 138, 125]], dtype=uint8),\n",
       " 'labels': array([41, 41, 41, ..., 25, 25, 25], dtype=uint8),\n",
       " 'features': array([[[[13, 12, 12],\n",
       "          [12, 11, 12],\n",
       "          [13, 11, 11],\n",
       "          ...,\n",
       "          [14, 12, 11],\n",
       "          [13, 12, 11],\n",
       "          [12, 12, 11]],\n",
       " \n",
       "         [[13, 12, 13],\n",
       "          [12, 11, 12],\n",
       "          [13, 12, 12],\n",
       "          ...,\n",
       "          [13, 12, 11],\n",
       "          [13, 12, 11],\n",
       "          [12, 12, 11]],\n",
       " \n",
       "         [[13, 12, 13],\n",
       "          [12, 11, 12],\n",
       "          [12, 12, 12],\n",
       "          ...,\n",
       "          [13, 12, 11],\n",
       "          [13, 12, 11],\n",
       "          [12, 12, 11]],\n",
       " \n",
       "         ...,\n",
       " \n",
       "         [[16, 15, 15],\n",
       "          [15, 14, 14],\n",
       "          [15, 15, 15],\n",
       "          ...,\n",
       "          [13, 12, 12],\n",
       "          [14, 13, 13],\n",
       "          [14, 13, 13]],\n",
       " \n",
       "         [[18, 16, 16],\n",
       "          [17, 15, 15],\n",
       "          [18, 16, 16],\n",
       "          ...,\n",
       "          [12, 11, 11],\n",
       "          [13, 12, 12],\n",
       "          [14, 13, 13]],\n",
       " \n",
       "         [[19, 17, 17],\n",
       "          [18, 16, 16],\n",
       "          [19, 17, 17],\n",
       "          ...,\n",
       "          [12, 12, 12],\n",
       "          [13, 13, 13],\n",
       "          [15, 14, 14]]],\n",
       " \n",
       " \n",
       "        [[[14, 12, 12],\n",
       "          [12, 12, 12],\n",
       "          [12, 13, 13],\n",
       "          ...,\n",
       "          [15, 12, 11],\n",
       "          [14, 13, 12],\n",
       "          [13, 13, 12]],\n",
       " \n",
       "         [[13, 12, 12],\n",
       "          [12, 12, 13],\n",
       "          [13, 13, 13],\n",
       "          ...,\n",
       "          [14, 13, 11],\n",
       "          [15, 14, 13],\n",
       "          [13, 13, 12]],\n",
       " \n",
       "         [[12, 12, 12],\n",
       "          [12, 12, 13],\n",
       "          [12, 12, 12],\n",
       "          ...,\n",
       "          [13, 12, 11],\n",
       "          [14, 13, 12],\n",
       "          [13, 12, 12]],\n",
       " \n",
       "         ...,\n",
       " \n",
       "         [[15, 14, 14],\n",
       "          [15, 14, 14],\n",
       "          [14, 13, 13],\n",
       "          ...,\n",
       "          [14, 14, 14],\n",
       "          [14, 15, 14],\n",
       "          [13, 13, 12]],\n",
       " \n",
       "         [[16, 15, 15],\n",
       "          [16, 15, 15],\n",
       "          [16, 15, 15],\n",
       "          ...,\n",
       "          [13, 13, 12],\n",
       "          [13, 14, 13],\n",
       "          [13, 13, 12]],\n",
       " \n",
       "         [[16, 16, 16],\n",
       "          [17, 16, 16],\n",
       "          [18, 16, 16],\n",
       "          ...,\n",
       "          [12, 12, 11],\n",
       "          [13, 13, 12],\n",
       "          [14, 14, 12]]],\n",
       " \n",
       " \n",
       "        [[[13, 11, 11],\n",
       "          [12, 11, 12],\n",
       "          [12, 12, 12],\n",
       "          ...,\n",
       "          [15, 12, 12],\n",
       "          [12, 12, 11],\n",
       "          [12, 13, 12]],\n",
       " \n",
       "         [[13, 12, 12],\n",
       "          [12, 11, 12],\n",
       "          [13, 12, 12],\n",
       "          ...,\n",
       "          [14, 12, 12],\n",
       "          [12, 12, 11],\n",
       "          [13, 13, 11]],\n",
       " \n",
       "         [[12, 11, 11],\n",
       "          [13, 12, 12],\n",
       "          [14, 12, 12],\n",
       "          ...,\n",
       "          [12, 12, 12],\n",
       "          [11, 12, 11],\n",
       "          [13, 13, 12]],\n",
       " \n",
       "         ...,\n",
       " \n",
       "         [[13, 13, 13],\n",
       "          [14, 14, 14],\n",
       "          [14, 14, 14],\n",
       "          ...,\n",
       "          [12, 12, 13],\n",
       "          [14, 14, 13],\n",
       "          [13, 13, 12]],\n",
       " \n",
       "         [[16, 16, 15],\n",
       "          [16, 16, 15],\n",
       "          [15, 16, 15],\n",
       "          ...,\n",
       "          [11, 11, 11],\n",
       "          [12, 12, 12],\n",
       "          [14, 14, 13]],\n",
       " \n",
       "         [[19, 18, 17],\n",
       "          [17, 17, 16],\n",
       "          [17, 17, 16],\n",
       "          ...,\n",
       "          [12, 12, 12],\n",
       "          [13, 13, 13],\n",
       "          [13, 13, 12]]],\n",
       " \n",
       " \n",
       "        ...,\n",
       " \n",
       " \n",
       "        [[[62, 64, 65],\n",
       "          [61, 62, 66],\n",
       "          [63, 61, 62],\n",
       "          ...,\n",
       "          [49, 47, 48],\n",
       "          [47, 46, 49],\n",
       "          [47, 47, 49]],\n",
       " \n",
       "         [[58, 60, 62],\n",
       "          [57, 59, 63],\n",
       "          [59, 59, 62],\n",
       "          ...,\n",
       "          [51, 47, 50],\n",
       "          [49, 46, 49],\n",
       "          [48, 46, 49]],\n",
       " \n",
       "         [[56, 55, 59],\n",
       "          [55, 54, 58],\n",
       "          [55, 54, 57],\n",
       "          ...,\n",
       "          [52, 50, 51],\n",
       "          [50, 47, 50],\n",
       "          [48, 46, 49]],\n",
       " \n",
       "         ...,\n",
       " \n",
       "         [[50, 49, 52],\n",
       "          [55, 50, 51],\n",
       "          [50, 46, 47],\n",
       "          ...,\n",
       "          [45, 43, 43],\n",
       "          [46, 44, 43],\n",
       "          [46, 43, 43]],\n",
       " \n",
       "         [[57, 49, 52],\n",
       "          [56, 49, 50],\n",
       "          [56, 51, 53],\n",
       "          ...,\n",
       "          [45, 42, 43],\n",
       "          [45, 43, 44],\n",
       "          [45, 43, 44]],\n",
       " \n",
       "         [[60, 50, 51],\n",
       "          [58, 47, 49],\n",
       "          [58, 47, 48],\n",
       "          ...,\n",
       "          [44, 43, 44],\n",
       "          [46, 44, 44],\n",
       "          [46, 44, 44]]],\n",
       " \n",
       " \n",
       "        [[[65, 66, 68],\n",
       "          [65, 63, 69],\n",
       "          [67, 65, 67],\n",
       "          ...,\n",
       "          [43, 42, 44],\n",
       "          [42, 42, 44],\n",
       "          [42, 41, 42]],\n",
       " \n",
       "         [[73, 72, 75],\n",
       "          [73, 72, 75],\n",
       "          [74, 73, 74],\n",
       "          ...,\n",
       "          [42, 42, 44],\n",
       "          [43, 42, 44],\n",
       "          [42, 41, 42]],\n",
       " \n",
       "         [[70, 70, 71],\n",
       "          [70, 71, 73],\n",
       "          [70, 70, 70],\n",
       "          ...,\n",
       "          [42, 42, 44],\n",
       "          [42, 41, 44],\n",
       "          [41, 40, 42]],\n",
       " \n",
       "         ...,\n",
       " \n",
       "         [[46, 45, 47],\n",
       "          [46, 44, 46],\n",
       "          [46, 44, 45],\n",
       "          ...,\n",
       "          [44, 42, 42],\n",
       "          [44, 42, 43],\n",
       "          [43, 41, 41]],\n",
       " \n",
       "         [[47, 45, 46],\n",
       "          [45, 43, 46],\n",
       "          [46, 43, 45],\n",
       "          ...,\n",
       "          [44, 42, 42],\n",
       "          [44, 41, 42],\n",
       "          [44, 40, 41]],\n",
       " \n",
       "         [[52, 48, 48],\n",
       "          [46, 44, 45],\n",
       "          [46, 43, 46],\n",
       "          ...,\n",
       "          [44, 42, 42],\n",
       "          [44, 41, 42],\n",
       "          [42, 40, 41]]],\n",
       " \n",
       " \n",
       "        [[[66, 65, 66],\n",
       "          [64, 62, 63],\n",
       "          [64, 64, 65],\n",
       "          ...,\n",
       "          [37, 37, 38],\n",
       "          [37, 37, 38],\n",
       "          [38, 37, 39]],\n",
       " \n",
       "         [[58, 58, 58],\n",
       "          [60, 56, 56],\n",
       "          [55, 55, 56],\n",
       "          ...,\n",
       "          [37, 37, 38],\n",
       "          [37, 36, 38],\n",
       "          [36, 36, 37]],\n",
       " \n",
       "         [[64, 64, 65],\n",
       "          [65, 65, 66],\n",
       "          [65, 64, 67],\n",
       "          ...,\n",
       "          [37, 37, 37],\n",
       "          [37, 36, 38],\n",
       "          [37, 36, 37]],\n",
       " \n",
       "         ...,\n",
       " \n",
       "         [[42, 41, 43],\n",
       "          [42, 41, 42],\n",
       "          [41, 40, 42],\n",
       "          ...,\n",
       "          [35, 34, 35],\n",
       "          [34, 33, 34],\n",
       "          [34, 33, 34]],\n",
       " \n",
       "         [[43, 42, 43],\n",
       "          [43, 42, 42],\n",
       "          [42, 41, 42],\n",
       "          ...,\n",
       "          [34, 33, 33],\n",
       "          [34, 34, 35],\n",
       "          [35, 33, 34]],\n",
       " \n",
       "         [[44, 42, 44],\n",
       "          [43, 42, 43],\n",
       "          [43, 42, 42],\n",
       "          ...,\n",
       "          [34, 33, 34],\n",
       "          [34, 34, 34],\n",
       "          [34, 34, 35]]]], dtype=uint8),\n",
       " 'sizes': array([[ 27,  25],\n",
       "        [ 28,  26],\n",
       "        [ 28,  26],\n",
       "        ...,\n",
       "        [108,  98],\n",
       "        [123, 119],\n",
       "        [151, 136]], dtype=uint8)}"
      ]
     },
     "execution_count": 3,
     "metadata": {},
     "output_type": "execute_result"
    }
   ],
   "source": [
    "val_dataset"
   ]
  },
  {
   "cell_type": "markdown",
   "id": "cc177ef7",
   "metadata": {},
   "source": [
    "<span style=\"font-family: Trebuchet MS; font-weight:bold;font-size:1.5em;color:darkorange\">The dataset has three attributes\n",
    "<li>Labels </li> <li>coords</li><li>Features</li>"
   ]
  },
  {
   "cell_type": "markdown",
   "id": "791fb105",
   "metadata": {},
   "source": [
    "<span style=\"font-family: Trebuchet MS; font-weight:bold;font-size:1.5em;color:#00b3e5;\"> Print shape of dataset and total size"
   ]
  },
  {
   "cell_type": "code",
   "execution_count": 4,
   "id": "aac92fc8",
   "metadata": {},
   "outputs": [
    {
     "name": "stdout",
     "output_type": "stream",
     "text": [
      "Traing Dataset => Features (34799, 32, 32, 3)       Labels (34799,)       Coordinates (34799, 4)\n",
      "Testing Dataset => Features (12630, 32, 32, 3)       Labels (12630,)       Coordinates (12630, 4)\n",
      "Validation Dataset => Features (4410, 32, 32, 3)       Labels (4410,)       Coordinates (4410, 4)\n"
     ]
    }
   ],
   "source": [
    "print(f\"Traing Dataset => Features {train_dataset['features'].shape} \\\n",
    "      Labels {train_dataset['labels'].shape} \\\n",
    "      Coordinates {train_dataset['coords'].shape}\")\n",
    "print(f\"Testing Dataset => Features {test_dataset['features'].shape} \\\n",
    "      Labels {test_dataset['labels'].shape} \\\n",
    "      Coordinates {test_dataset['coords'].shape}\")\n",
    "print(f\"Validation Dataset => Features {val_dataset['features'].shape} \\\n",
    "      Labels {val_dataset['labels'].shape} \\\n",
    "      Coordinates {val_dataset['coords'].shape}\")"
   ]
  },
  {
   "cell_type": "code",
   "execution_count": 5,
   "id": "5775b346",
   "metadata": {},
   "outputs": [
    {
     "name": "stdout",
     "output_type": "stream",
     "text": [
      "Total dataset size is 51839\n"
     ]
    }
   ],
   "source": [
    "print(f\"Total dataset size is {np.sum(train_dataset['features'].shape[0] + test_dataset['features'].shape[0] + val_dataset['features'].shape[0])}\")"
   ]
  },
  {
   "cell_type": "code",
   "execution_count": 6,
   "id": "fef6997a",
   "metadata": {},
   "outputs": [],
   "source": [
    "x_train, y_train = train_dataset['features'], train_dataset['labels']\n",
    "x_test, y_test = test_dataset['features'], test_dataset['labels']\n",
    "x_val, y_val = val_dataset['features'], val_dataset['labels']"
   ]
  },
  {
   "cell_type": "code",
   "execution_count": 7,
   "id": "80ada3df",
   "metadata": {},
   "outputs": [
    {
     "data": {
      "text/plain": [
       "array([[[[ 28,  25,  24],\n",
       "         [ 27,  24,  23],\n",
       "         [ 27,  24,  22],\n",
       "         ...,\n",
       "         [ 32,  28,  24],\n",
       "         [ 31,  27,  25],\n",
       "         [ 31,  27,  26]],\n",
       "\n",
       "        [[ 29,  26,  25],\n",
       "         [ 27,  25,  23],\n",
       "         [ 27,  25,  23],\n",
       "         ...,\n",
       "         [ 32,  28,  24],\n",
       "         [ 31,  27,  24],\n",
       "         [ 30,  27,  25]],\n",
       "\n",
       "        [[ 28,  26,  26],\n",
       "         [ 27,  25,  23],\n",
       "         [ 26,  25,  23],\n",
       "         ...,\n",
       "         [ 32,  28,  24],\n",
       "         [ 31,  27,  24],\n",
       "         [ 30,  27,  25]],\n",
       "\n",
       "        ...,\n",
       "\n",
       "        [[ 27,  24,  23],\n",
       "         [ 28,  25,  24],\n",
       "         [ 30,  25,  24],\n",
       "         ...,\n",
       "         [ 27,  24,  23],\n",
       "         [ 28,  24,  22],\n",
       "         [ 29,  25,  22]],\n",
       "\n",
       "        [[ 28,  23,  23],\n",
       "         [ 29,  24,  24],\n",
       "         [ 31,  25,  24],\n",
       "         ...,\n",
       "         [ 27,  24,  23],\n",
       "         [ 28,  24,  22],\n",
       "         [ 28,  24,  21]],\n",
       "\n",
       "        [[ 29,  23,  23],\n",
       "         [ 30,  24,  24],\n",
       "         [ 32,  24,  23],\n",
       "         ...,\n",
       "         [ 27,  24,  22],\n",
       "         [ 27,  23,  21],\n",
       "         [ 26,  22,  20]]],\n",
       "\n",
       "\n",
       "       [[[ 28,  24,  24],\n",
       "         [ 26,  23,  23],\n",
       "         [ 27,  24,  24],\n",
       "         ...,\n",
       "         [ 31,  28,  26],\n",
       "         [ 31,  28,  27],\n",
       "         [ 32,  28,  27]],\n",
       "\n",
       "        [[ 27,  24,  24],\n",
       "         [ 27,  24,  24],\n",
       "         [ 28,  25,  24],\n",
       "         ...,\n",
       "         [ 31,  27,  25],\n",
       "         [ 31,  27,  26],\n",
       "         [ 33,  29,  27]],\n",
       "\n",
       "        [[ 26,  24,  24],\n",
       "         [ 26,  24,  24],\n",
       "         [ 27,  24,  23],\n",
       "         ...,\n",
       "         [ 31,  26,  25],\n",
       "         [ 31,  27,  26],\n",
       "         [ 33,  29,  27]],\n",
       "\n",
       "        ...,\n",
       "\n",
       "        [[ 28,  25,  23],\n",
       "         [ 30,  27,  24],\n",
       "         [ 30,  27,  24],\n",
       "         ...,\n",
       "         [ 27,  24,  22],\n",
       "         [ 27,  24,  22],\n",
       "         [ 28,  24,  22]],\n",
       "\n",
       "        [[ 27,  24,  22],\n",
       "         [ 29,  26,  23],\n",
       "         [ 31,  26,  24],\n",
       "         ...,\n",
       "         [ 26,  23,  21],\n",
       "         [ 27,  24,  22],\n",
       "         [ 28,  25,  23]],\n",
       "\n",
       "        [[ 28,  24,  23],\n",
       "         [ 28,  24,  22],\n",
       "         [ 29,  24,  22],\n",
       "         ...,\n",
       "         [ 27,  23,  22],\n",
       "         [ 27,  24,  23],\n",
       "         [ 29,  26,  25]]],\n",
       "\n",
       "\n",
       "       [[[ 29,  25,  25],\n",
       "         [ 29,  26,  26],\n",
       "         [ 30,  27,  27],\n",
       "         ...,\n",
       "         [ 31,  27,  24],\n",
       "         [ 31,  28,  25],\n",
       "         [ 32,  29,  27]],\n",
       "\n",
       "        [[ 27,  24,  24],\n",
       "         [ 27,  25,  25],\n",
       "         [ 28,  26,  26],\n",
       "         ...,\n",
       "         [ 31,  27,  23],\n",
       "         [ 32,  28,  25],\n",
       "         [ 33,  30,  27]],\n",
       "\n",
       "        [[ 27,  24,  24],\n",
       "         [ 28,  26,  26],\n",
       "         [ 29,  27,  27],\n",
       "         ...,\n",
       "         [ 32,  28,  24],\n",
       "         [ 32,  28,  24],\n",
       "         [ 33,  29,  26]],\n",
       "\n",
       "        ...,\n",
       "\n",
       "        [[ 28,  26,  22],\n",
       "         [ 29,  26,  21],\n",
       "         [ 31,  26,  22],\n",
       "         ...,\n",
       "         [ 29,  24,  21],\n",
       "         [ 28,  23,  20],\n",
       "         [ 28,  23,  22]],\n",
       "\n",
       "        [[ 27,  26,  23],\n",
       "         [ 28,  25,  21],\n",
       "         [ 30,  25,  22],\n",
       "         ...,\n",
       "         [ 28,  23,  21],\n",
       "         [ 27,  22,  20],\n",
       "         [ 28,  24,  22]],\n",
       "\n",
       "        [[ 29,  26,  23],\n",
       "         [ 28,  24,  21],\n",
       "         [ 29,  24,  21],\n",
       "         ...,\n",
       "         [ 29,  25,  23],\n",
       "         [ 28,  24,  22],\n",
       "         [ 30,  26,  24]]],\n",
       "\n",
       "\n",
       "       ...,\n",
       "\n",
       "\n",
       "       [[[ 51,  67,  86],\n",
       "         [ 55,  59,  71],\n",
       "         [ 75,  81,  92],\n",
       "         ...,\n",
       "         [250, 248, 243],\n",
       "         [207, 212, 233],\n",
       "         [121, 116, 140]],\n",
       "\n",
       "        [[ 35,  42,  49],\n",
       "         [ 48,  47,  51],\n",
       "         [ 91,  96, 113],\n",
       "         ...,\n",
       "         [220, 224, 226],\n",
       "         [169, 177, 187],\n",
       "         [ 84,  87, 100]],\n",
       "\n",
       "        [[ 27,  26,  29],\n",
       "         [ 41,  38,  39],\n",
       "         [ 55,  64,  78],\n",
       "         ...,\n",
       "         [122, 143, 160],\n",
       "         [ 97, 104, 129],\n",
       "         [ 59,  59,  56]],\n",
       "\n",
       "        ...,\n",
       "\n",
       "        [[ 24,  23,  27],\n",
       "         [ 21,  20,  27],\n",
       "         [ 20,  19,  22],\n",
       "         ...,\n",
       "         [ 76,  79,  83],\n",
       "         [ 54,  64,  77],\n",
       "         [ 45,  51,  65]],\n",
       "\n",
       "        [[ 31,  31,  33],\n",
       "         [ 22,  23,  29],\n",
       "         [ 20,  18,  21],\n",
       "         ...,\n",
       "         [ 66,  67,  84],\n",
       "         [ 56,  65,  74],\n",
       "         [ 45,  55,  73]],\n",
       "\n",
       "        [[ 28,  28,  30],\n",
       "         [ 22,  21,  25],\n",
       "         [ 19,  18,  19],\n",
       "         ...,\n",
       "         [ 67,  63,  76],\n",
       "         [ 39,  45,  55],\n",
       "         [ 32,  37,  47]]],\n",
       "\n",
       "\n",
       "       [[[ 82,  78,  96],\n",
       "         [120, 126, 148],\n",
       "         [112, 125, 146],\n",
       "         ...,\n",
       "         [185, 182, 177],\n",
       "         [204, 210, 215],\n",
       "         [132, 114, 121]],\n",
       "\n",
       "        [[ 74,  77,  93],\n",
       "         [171, 174, 185],\n",
       "         [137, 164, 184],\n",
       "         ...,\n",
       "         [180, 181, 187],\n",
       "         [198, 200, 213],\n",
       "         [ 79,  85,  85]],\n",
       "\n",
       "        [[ 54,  50,  56],\n",
       "         [100, 106, 118],\n",
       "         [117, 132, 158],\n",
       "         ...,\n",
       "         [157, 153, 160],\n",
       "         [176, 183, 199],\n",
       "         [ 88,  80,  82]],\n",
       "\n",
       "        ...,\n",
       "\n",
       "        [[ 22,  21,  22],\n",
       "         [ 20,  19,  19],\n",
       "         [ 18,  16,  19],\n",
       "         ...,\n",
       "         [ 50,  50,  60],\n",
       "         [ 37,  43,  52],\n",
       "         [ 30,  41,  59]],\n",
       "\n",
       "        [[ 18,  16,  18],\n",
       "         [ 19,  17,  18],\n",
       "         [ 19,  18,  21],\n",
       "         ...,\n",
       "         [ 36,  44,  60],\n",
       "         [ 33,  36,  48],\n",
       "         [ 36,  43,  61]],\n",
       "\n",
       "        [[ 18,  17,  20],\n",
       "         [ 21,  20,  23],\n",
       "         [ 24,  22,  25],\n",
       "         ...,\n",
       "         [ 32,  34,  41],\n",
       "         [ 45,  42,  48],\n",
       "         [ 41,  43,  52]]],\n",
       "\n",
       "\n",
       "       [[[ 69,  79,  96],\n",
       "         [ 24,  26,  28],\n",
       "         [ 40,  42,  45],\n",
       "         ...,\n",
       "         [225, 234, 237],\n",
       "         [151, 161, 166],\n",
       "         [164, 162, 169]],\n",
       "\n",
       "        [[ 99, 110, 125],\n",
       "         [ 36,  41,  47],\n",
       "         [ 63,  56,  62],\n",
       "         ...,\n",
       "         [197, 216, 224],\n",
       "         [154, 163, 169],\n",
       "         [164, 163, 159]],\n",
       "\n",
       "        [[104, 107, 113],\n",
       "         [ 34,  37,  40],\n",
       "         [ 72,  70,  77],\n",
       "         ...,\n",
       "         [223, 237, 235],\n",
       "         [181, 192, 198],\n",
       "         [166, 167, 159]],\n",
       "\n",
       "        ...,\n",
       "\n",
       "        [[ 21,  20,  23],\n",
       "         [ 23,  24,  30],\n",
       "         [ 19,  20,  24],\n",
       "         ...,\n",
       "         [ 45,  47,  54],\n",
       "         [ 58,  62,  70],\n",
       "         [ 58,  70,  82]],\n",
       "\n",
       "        [[ 18,  17,  21],\n",
       "         [ 19,  19,  24],\n",
       "         [ 18,  18,  23],\n",
       "         ...,\n",
       "         [ 36,  36,  40],\n",
       "         [ 58,  59,  70],\n",
       "         [ 61,  69,  81]],\n",
       "\n",
       "        [[ 17,  16,  19],\n",
       "         [ 16,  15,  18],\n",
       "         [ 16,  15,  18],\n",
       "         ...,\n",
       "         [ 40,  40,  44],\n",
       "         [ 57,  62,  73],\n",
       "         [ 57,  68,  80]]]], dtype=uint8)"
      ]
     },
     "execution_count": 7,
     "metadata": {},
     "output_type": "execute_result"
    }
   ],
   "source": [
    "x_train"
   ]
  },
  {
   "cell_type": "code",
   "execution_count": 8,
   "id": "70428b17",
   "metadata": {},
   "outputs": [
    {
     "data": {
      "text/plain": [
       "43"
      ]
     },
     "execution_count": 8,
     "metadata": {},
     "output_type": "execute_result"
    }
   ],
   "source": [
    "len(np.unique(y_train))"
   ]
  },
  {
   "cell_type": "markdown",
   "id": "fdc17a88",
   "metadata": {},
   "source": [
    "<span style=\"font-family: Trebuchet MS; font-weight:bold;font-size:1.5em;color:#00b3e5;\"> Visualize it - Check if have good data"
   ]
  },
  {
   "cell_type": "code",
   "execution_count": 9,
   "id": "f807161b",
   "metadata": {},
   "outputs": [],
   "source": [
    "import matplotlib.pyplot as plt\n",
    "import seaborn as sns"
   ]
  },
  {
   "cell_type": "markdown",
   "id": "d875c2e1",
   "metadata": {},
   "source": [
    "<span style=\"font-family: Trebuchet MS; font-weight:bold;font-size:1.5em;color:#00b3e5;\"> Check data distribution"
   ]
  },
  {
   "cell_type": "code",
   "execution_count": 10,
   "id": "ed426320",
   "metadata": {},
   "outputs": [
    {
     "name": "stderr",
     "output_type": "stream",
     "text": [
      "E:\\Software\\anaconda3\\lib\\site-packages\\seaborn\\_decorators.py:36: FutureWarning: Pass the following variable as a keyword arg: x. From version 0.12, the only valid positional argument will be `data`, and passing other arguments without an explicit keyword will result in an error or misinterpretation.\n",
      "  warnings.warn(\n"
     ]
    },
    {
     "data": {
      "text/plain": [
       "<AxesSubplot:ylabel='count'>"
      ]
     },
     "execution_count": 10,
     "metadata": {},
     "output_type": "execute_result"
    },
    {
     "data": {
      "image/png": "[encoded data removed]",
      "text/plain": [
       "<Figure size 1440x1440 with 1 Axes>"
      ]
     },
     "metadata": {
      "needs_background": "light"
     },
     "output_type": "display_data"
    }
   ],
   "source": [
    "plt.figure(figsize=(20,20))\n",
    "sns.countplot(y_train)"
   ]
  },
  {
   "cell_type": "markdown",
   "id": "0bf27c7c",
   "metadata": {},
   "source": [
    "<span style=\"font-family: Trebuchet MS; font-weight:bold;font-size:1.5em;color:#00b3e5;\"> Check Few sign"
   ]
  },
  {
   "cell_type": "code",
   "execution_count": 11,
   "id": "5a8a1491",
   "metadata": {},
   "outputs": [
    {
     "data": {
      "image/png": "[encoded data removed]",
      "text/plain": [
       "<Figure size 720x720 with 16 Axes>"
      ]
     },
     "metadata": {
      "needs_background": "light"
     },
     "output_type": "display_data"
    }
   ],
   "source": [
    "h_grid = 4\n",
    "w_grid = 4\n",
    "\n",
    "fig, axes = plt.subplots(h_grid, w_grid, figsize=(10,10))\n",
    "axes = axes.ravel()\n",
    "\n",
    "x_train_length = len(x_train)\n",
    "\n",
    "for i in np.arange(0, w_grid * w_grid):\n",
    "    number = np.random.randint(0, x_train_length)\n",
    "    axes[i].imshow(x_train[number])\n",
    "    axes[i].set_title(y_train[number], fontsize = 20)\n",
    "    axes[i].axis('off')\n",
    "    \n",
    "plt.subplots_adjust(hspace=0.4)"
   ]
  },
  {
   "cell_type": "markdown",
   "id": "f311a6b4",
   "metadata": {},
   "source": [
    "<span style=\"font-family: Trebuchet MS; font-weight:bold;font-size:1.5em;color:#00b3e5;\"> Normalization"
   ]
  },
  {
   "cell_type": "code",
   "execution_count": 12,
   "id": "8e67bf41",
   "metadata": {},
   "outputs": [],
   "source": [
    "from sklearn.utils import shuffle"
   ]
  },
  {
   "cell_type": "code",
   "execution_count": 13,
   "id": "a3f5d273",
   "metadata": {},
   "outputs": [],
   "source": [
    "x_train, y_train = shuffle(x_train, y_train)"
   ]
  },
  {
   "cell_type": "code",
   "execution_count": 14,
   "id": "cafef3ea",
   "metadata": {},
   "outputs": [],
   "source": [
    "x_train_gray = np.sum(x_train/3, axis=3, keepdims=True)\n",
    "x_test_gray = np.sum(x_test/3, axis=3, keepdims=True)\n",
    "x_val_gray = np.sum(x_val/3, axis=3, keepdims=True)"
   ]
  },
  {
   "cell_type": "code",
   "execution_count": 15,
   "id": "c0289198",
   "metadata": {},
   "outputs": [],
   "source": [
    "x_train_gray_norm = (x_train_gray - 128)/128\n",
    "x_test_gray_norm = (x_test_gray - 128)/128\n",
    "x_val_gray_norm = (x_val_gray - 128)/128"
   ]
  },
  {
   "cell_type": "code",
   "execution_count": 16,
   "id": "e1fdeb29",
   "metadata": {},
   "outputs": [
    {
     "data": {
      "text/plain": [
       "array([[[[-0.43229167],\n",
       "         [-0.43229167],\n",
       "         [-0.42447917],\n",
       "         ...,\n",
       "         [ 0.9921875 ],\n",
       "         [ 0.9921875 ],\n",
       "         [ 0.9921875 ]],\n",
       "\n",
       "        [[-0.46614583],\n",
       "         [-0.46354167],\n",
       "         [-0.4609375 ],\n",
       "         ...,\n",
       "         [ 0.9921875 ],\n",
       "         [ 0.9921875 ],\n",
       "         [ 0.9921875 ]],\n",
       "\n",
       "        [[-0.47135417],\n",
       "         [-0.46875   ],\n",
       "         [-0.46614583],\n",
       "         ...,\n",
       "         [ 0.9921875 ],\n",
       "         [ 0.9921875 ],\n",
       "         [ 0.9921875 ]],\n",
       "\n",
       "        ...,\n",
       "\n",
       "        [[ 0.02083333],\n",
       "         [-0.06770833],\n",
       "         [-0.18489583],\n",
       "         ...,\n",
       "         [-0.61197917],\n",
       "         [-0.58854167],\n",
       "         [-0.56770833]],\n",
       "\n",
       "        [[-0.359375  ],\n",
       "         [-0.3984375 ],\n",
       "         [-0.43489583],\n",
       "         ...,\n",
       "         [-0.55989583],\n",
       "         [-0.53385417],\n",
       "         [-0.52864583]],\n",
       "\n",
       "        [[-0.52083333],\n",
       "         [-0.53385417],\n",
       "         [-0.52864583],\n",
       "         ...,\n",
       "         [-0.61197917],\n",
       "         [-0.56770833],\n",
       "         [-0.53385417]]],\n",
       "\n",
       "\n",
       "       [[[-0.64583333],\n",
       "         [-0.65364583],\n",
       "         [-0.64583333],\n",
       "         ...,\n",
       "         [-0.70052083],\n",
       "         [-0.67708333],\n",
       "         [-0.70572917]],\n",
       "\n",
       "        [[-0.6796875 ],\n",
       "         [-0.65625   ],\n",
       "         [-0.640625  ],\n",
       "         ...,\n",
       "         [-0.64322917],\n",
       "         [-0.62760417],\n",
       "         [-0.62239583]],\n",
       "\n",
       "        [[-0.69270833],\n",
       "         [-0.6640625 ],\n",
       "         [-0.6484375 ],\n",
       "         ...,\n",
       "         [-0.6171875 ],\n",
       "         [-0.60416667],\n",
       "         [-0.5703125 ]],\n",
       "\n",
       "        ...,\n",
       "\n",
       "        [[-0.71614583],\n",
       "         [-0.72135417],\n",
       "         [-0.71875   ],\n",
       "         ...,\n",
       "         [-0.76041667],\n",
       "         [-0.74739583],\n",
       "         [-0.7421875 ]],\n",
       "\n",
       "        [[-0.71875   ],\n",
       "         [-0.703125  ],\n",
       "         [-0.7265625 ],\n",
       "         ...,\n",
       "         [-0.73697917],\n",
       "         [-0.75260417],\n",
       "         [-0.75520833]],\n",
       "\n",
       "        [[-0.6953125 ],\n",
       "         [-0.68489583],\n",
       "         [-0.70572917],\n",
       "         ...,\n",
       "         [-0.765625  ],\n",
       "         [-0.77604167],\n",
       "         [-0.78645833]]],\n",
       "\n",
       "\n",
       "       [[[-0.86979167],\n",
       "         [-0.89322917],\n",
       "         [-0.90104167],\n",
       "         ...,\n",
       "         [-0.9140625 ],\n",
       "         [-0.9140625 ],\n",
       "         [-0.91927083]],\n",
       "\n",
       "        [[-0.87760417],\n",
       "         [-0.89322917],\n",
       "         [-0.89322917],\n",
       "         ...,\n",
       "         [-0.9140625 ],\n",
       "         [-0.90885417],\n",
       "         [-0.91666667]],\n",
       "\n",
       "        [[-0.86979167],\n",
       "         [-0.88802083],\n",
       "         [-0.890625  ],\n",
       "         ...,\n",
       "         [-0.9140625 ],\n",
       "         [-0.9140625 ],\n",
       "         [-0.90885417]],\n",
       "\n",
       "        ...,\n",
       "\n",
       "        [[-0.90885417],\n",
       "         [-0.90625   ],\n",
       "         [-0.90625   ],\n",
       "         ...,\n",
       "         [-0.91666667],\n",
       "         [-0.921875  ],\n",
       "         [-0.91927083]],\n",
       "\n",
       "        [[-0.91145833],\n",
       "         [-0.90885417],\n",
       "         [-0.90885417],\n",
       "         ...,\n",
       "         [-0.9140625 ],\n",
       "         [-0.921875  ],\n",
       "         [-0.91927083]],\n",
       "\n",
       "        [[-0.91145833],\n",
       "         [-0.90885417],\n",
       "         [-0.90625   ],\n",
       "         ...,\n",
       "         [-0.92447917],\n",
       "         [-0.92447917],\n",
       "         [-0.921875  ]]],\n",
       "\n",
       "\n",
       "       ...,\n",
       "\n",
       "\n",
       "       [[[ 0.88541667],\n",
       "         [ 0.90625   ],\n",
       "         [ 0.90885417],\n",
       "         ...,\n",
       "         [-0.48697917],\n",
       "         [-0.15625   ],\n",
       "         [-0.1171875 ]],\n",
       "\n",
       "        [[ 0.79947917],\n",
       "         [ 0.88020833],\n",
       "         [ 0.90364583],\n",
       "         ...,\n",
       "         [-0.57552083],\n",
       "         [-0.359375  ],\n",
       "         [-0.33072917]],\n",
       "\n",
       "        [[ 0.69791667],\n",
       "         [ 0.85416667],\n",
       "         [ 0.86458333],\n",
       "         ...,\n",
       "         [-0.56510417],\n",
       "         [-0.38541667],\n",
       "         [-0.33072917]],\n",
       "\n",
       "        ...,\n",
       "\n",
       "        [[-0.62760417],\n",
       "         [-0.48697917],\n",
       "         [-0.62760417],\n",
       "         ...,\n",
       "         [-0.80208333],\n",
       "         [-0.8046875 ],\n",
       "         [-0.77604167]],\n",
       "\n",
       "        [[-0.55729167],\n",
       "         [-0.57291667],\n",
       "         [-0.67708333],\n",
       "         ...,\n",
       "         [-0.80729167],\n",
       "         [-0.80729167],\n",
       "         [-0.79947917]],\n",
       "\n",
       "        [[-0.56510417],\n",
       "         [-0.609375  ],\n",
       "         [-0.6015625 ],\n",
       "         ...,\n",
       "         [-0.80989583],\n",
       "         [-0.80989583],\n",
       "         [-0.79166667]]],\n",
       "\n",
       "\n",
       "       [[[-0.62760417],\n",
       "         [-0.65364583],\n",
       "         [-0.61458333],\n",
       "         ...,\n",
       "         [-0.89583333],\n",
       "         [-0.88802083],\n",
       "         [-0.89322917]],\n",
       "\n",
       "        [[-0.66145833],\n",
       "         [-0.66145833],\n",
       "         [-0.6484375 ],\n",
       "         ...,\n",
       "         [-0.890625  ],\n",
       "         [-0.89583333],\n",
       "         [-0.89583333]],\n",
       "\n",
       "        [[-0.69010417],\n",
       "         [-0.70833333],\n",
       "         [-0.671875  ],\n",
       "         ...,\n",
       "         [-0.90104167],\n",
       "         [-0.90104167],\n",
       "         [-0.90104167]],\n",
       "\n",
       "        ...,\n",
       "\n",
       "        [[-0.89583333],\n",
       "         [-0.89322917],\n",
       "         [-0.88802083],\n",
       "         ...,\n",
       "         [-0.9140625 ],\n",
       "         [-0.9140625 ],\n",
       "         [-0.921875  ]],\n",
       "\n",
       "        [[-0.890625  ],\n",
       "         [-0.89322917],\n",
       "         [-0.88802083],\n",
       "         ...,\n",
       "         [-0.9140625 ],\n",
       "         [-0.91927083],\n",
       "         [-0.921875  ]],\n",
       "\n",
       "        [[-0.88802083],\n",
       "         [-0.890625  ],\n",
       "         [-0.88802083],\n",
       "         ...,\n",
       "         [-0.91666667],\n",
       "         [-0.91927083],\n",
       "         [-0.91927083]]],\n",
       "\n",
       "\n",
       "       [[[-0.26822917],\n",
       "         [-0.171875  ],\n",
       "         [-0.1796875 ],\n",
       "         ...,\n",
       "         [ 0.46875   ],\n",
       "         [ 0.34635417],\n",
       "         [-0.09635417]],\n",
       "\n",
       "        [[-0.23697917],\n",
       "         [-0.22135417],\n",
       "         [-0.36979167],\n",
       "         ...,\n",
       "         [ 0.6796875 ],\n",
       "         [ 0.37760417],\n",
       "         [-0.171875  ]],\n",
       "\n",
       "        [[ 0.0078125 ],\n",
       "         [-0.09635417],\n",
       "         [-0.36458333],\n",
       "         ...,\n",
       "         [ 0.83072917],\n",
       "         [ 0.66145833],\n",
       "         [ 0.09895833]],\n",
       "\n",
       "        ...,\n",
       "\n",
       "        [[-0.5859375 ],\n",
       "         [-0.4375    ],\n",
       "         [-0.38020833],\n",
       "         ...,\n",
       "         [-0.13020833],\n",
       "         [-0.40625   ],\n",
       "         [-0.57291667]],\n",
       "\n",
       "        [[-0.4296875 ],\n",
       "         [-0.24739583],\n",
       "         [-0.3515625 ],\n",
       "         ...,\n",
       "         [-0.32552083],\n",
       "         [-0.38020833],\n",
       "         [-0.4765625 ]],\n",
       "\n",
       "        [[-0.24739583],\n",
       "         [-0.203125  ],\n",
       "         [-0.52083333],\n",
       "         ...,\n",
       "         [-0.37239583],\n",
       "         [-0.53385417],\n",
       "         [-0.64583333]]]])"
      ]
     },
     "execution_count": 16,
     "metadata": {},
     "output_type": "execute_result"
    }
   ],
   "source": [
    "x_train_gray_norm"
   ]
  },
  {
   "cell_type": "code",
   "execution_count": 17,
   "id": "db8bfd72",
   "metadata": {},
   "outputs": [
    {
     "data": {
      "image/png": "[encoded data removed]",
      "text/plain": [
       "<Figure size 720x720 with 3 Axes>"
      ]
     },
     "metadata": {
      "needs_background": "light"
     },
     "output_type": "display_data"
    }
   ],
   "source": [
    "number = np.random.randint(0, x_train_length)\n",
    "\n",
    "f, axes = plt.subplots(nrows=1, ncols=3, figsize=(10,10))\n",
    "plt.sca(axes[0]); \n",
    "plt.imshow(x_train[number]); \n",
    "plt.title(y_train[number], fontsize = 20)\n",
    "plt.sca(axes[1]); \n",
    "plt.imshow(x_train_gray[number]); \n",
    "plt.title(y_train[number], fontsize = 20)\n",
    "plt.sca(axes[2]); \n",
    "plt.imshow(x_train_gray_norm[number]); \n",
    "plt.title(y_train[number], fontsize = 20)\n",
    "\n",
    "plt.show()"
   ]
  },
  {
   "cell_type": "markdown",
   "id": "c3e6b94d",
   "metadata": {},
   "source": [
    "<span style=\"font-family: Trebuchet MS; font-weight:bold;font-size:1.5em;color:#00b3e5;\"> Building CNN"
   ]
  },
  {
   "cell_type": "code",
   "execution_count": 69,
   "id": "b06f7003",
   "metadata": {},
   "outputs": [],
   "source": [
    "from tensorflow.keras import layers, models, datasets "
   ]
  },
  {
   "cell_type": "code",
   "execution_count": 19,
   "id": "8ed0acaa",
   "metadata": {},
   "outputs": [],
   "source": [
    "cnn_seq = models.Sequential()\n",
    "\n",
    "cnn_seq.add(layers.Conv2D(6, (5,5), activation='relu', input_shape=(32,32,1)))\n",
    "cnn_seq.add(layers.AveragePooling2D())\n",
    "\n",
    "cnn_seq.add(layers.Dropout(0.2))\n",
    "\n",
    "cnn_seq.add(layers.Conv2D(16, (5,5), activation='relu'))\n",
    "cnn_seq.add(layers.AveragePooling2D())\n",
    "\n",
    "cnn_seq.add(layers.Flatten())\n",
    "\n",
    "cnn_seq.add(layers.Dense(120, activation='relu'))\n",
    "cnn_seq.add(layers.Dense(84, activation='relu'))\n",
    "\n",
    "cnn_seq.add(layers.Dense(43, activation='softmax'))"
   ]
  },
  {
   "cell_type": "code",
   "execution_count": 20,
   "id": "eb1baf00",
   "metadata": {},
   "outputs": [
    {
     "name": "stdout",
     "output_type": "stream",
     "text": [
      "Model: \"sequential\"\n",
      "_________________________________________________________________\n",
      " Layer (type)                Output Shape              Param #   \n",
      "=================================================================\n",
      " conv2d (Conv2D)             (None, 28, 28, 6)         156       \n",
      "                                                                 \n",
      " average_pooling2d (AverageP  (None, 14, 14, 6)        0         \n",
      " ooling2D)                                                       \n",
      "                                                                 \n",
      " dropout (Dropout)           (None, 14, 14, 6)         0         \n",
      "                                                                 \n",
      " conv2d_1 (Conv2D)           (None, 10, 10, 16)        2416      \n",
      "                                                                 \n",
      " average_pooling2d_1 (Averag  (None, 5, 5, 16)         0         \n",
      " ePooling2D)                                                     \n",
      "                                                                 \n",
      " flatten (Flatten)           (None, 400)               0         \n",
      "                                                                 \n",
      " dense (Dense)               (None, 120)               48120     \n",
      "                                                                 \n",
      " dense_1 (Dense)             (None, 84)                10164     \n",
      "                                                                 \n",
      " dense_2 (Dense)             (None, 43)                3655      \n",
      "                                                                 \n",
      "=================================================================\n",
      "Total params: 64,511\n",
      "Trainable params: 64,511\n",
      "Non-trainable params: 0\n",
      "_________________________________________________________________\n"
     ]
    }
   ],
   "source": [
    "cnn_seq.summary()"
   ]
  },
  {
   "cell_type": "code",
   "execution_count": 21,
   "id": "6180923b",
   "metadata": {},
   "outputs": [],
   "source": [
    "cnn_seq.compile(optimizer='Adam', loss='sparse_categorical_crossentropy', metrics=['accuracy'])"
   ]
  },
  {
   "cell_type": "code",
   "execution_count": 22,
   "id": "12ac2b6a",
   "metadata": {},
   "outputs": [
    {
     "data": {
      "text/plain": [
       "(34799, 32, 32, 1)"
      ]
     },
     "execution_count": 22,
     "metadata": {},
     "output_type": "execute_result"
    }
   ],
   "source": [
    "x_train_gray_norm.shape"
   ]
  },
  {
   "cell_type": "code",
   "execution_count": 23,
   "id": "fa71e196",
   "metadata": {},
   "outputs": [
    {
     "name": "stdout",
     "output_type": "stream",
     "text": [
      "Epoch 1/30\n",
      "696/696 [==============================] - 14s 17ms/step - loss: 1.5105 - accuracy: 0.5761 - val_loss: 0.7646 - val_accuracy: 0.7664\n",
      "Epoch 2/30\n",
      "696/696 [==============================] - 12s 17ms/step - loss: 0.4931 - accuracy: 0.8574 - val_loss: 0.4946 - val_accuracy: 0.8569\n",
      "Epoch 3/30\n",
      "696/696 [==============================] - 12s 17ms/step - loss: 0.3070 - accuracy: 0.9120 - val_loss: 0.4210 - val_accuracy: 0.8714\n",
      "Epoch 4/30\n",
      "696/696 [==============================] - 14s 20ms/step - loss: 0.2219 - accuracy: 0.9353 - val_loss: 0.3523 - val_accuracy: 0.8982\n",
      "Epoch 5/30\n",
      "696/696 [==============================] - 13s 18ms/step - loss: 0.1740 - accuracy: 0.9485 - val_loss: 0.3205 - val_accuracy: 0.9098\n",
      "Epoch 6/30\n",
      "696/696 [==============================] - 14s 21ms/step - loss: 0.1419 - accuracy: 0.9588 - val_loss: 0.3043 - val_accuracy: 0.9107\n",
      "Epoch 7/30\n",
      "696/696 [==============================] - 12s 18ms/step - loss: 0.1213 - accuracy: 0.9642 - val_loss: 0.2565 - val_accuracy: 0.9274\n",
      "Epoch 8/30\n",
      "696/696 [==============================] - 11s 16ms/step - loss: 0.1001 - accuracy: 0.9709 - val_loss: 0.2404 - val_accuracy: 0.9297\n",
      "Epoch 9/30\n",
      "696/696 [==============================] - 11s 15ms/step - loss: 0.0949 - accuracy: 0.9713 - val_loss: 0.3137 - val_accuracy: 0.9156\n",
      "Epoch 10/30\n",
      "696/696 [==============================] - 11s 16ms/step - loss: 0.0798 - accuracy: 0.9751 - val_loss: 0.2802 - val_accuracy: 0.9252\n",
      "Epoch 11/30\n",
      "696/696 [==============================] - 14s 20ms/step - loss: 0.0702 - accuracy: 0.9778 - val_loss: 0.3503 - val_accuracy: 0.9116\n",
      "Epoch 12/30\n",
      "696/696 [==============================] - 12s 17ms/step - loss: 0.0635 - accuracy: 0.9801 - val_loss: 0.3122 - val_accuracy: 0.9254\n",
      "Epoch 13/30\n",
      "696/696 [==============================] - 9s 13ms/step - loss: 0.0597 - accuracy: 0.9814 - val_loss: 0.2392 - val_accuracy: 0.9417\n",
      "Epoch 14/30\n",
      "696/696 [==============================] - 11s 16ms/step - loss: 0.0548 - accuracy: 0.9830 - val_loss: 0.2478 - val_accuracy: 0.9476\n",
      "Epoch 15/30\n",
      "696/696 [==============================] - 11s 15ms/step - loss: 0.0492 - accuracy: 0.9842 - val_loss: 0.3191 - val_accuracy: 0.9295\n",
      "Epoch 16/30\n",
      "696/696 [==============================] - 11s 15ms/step - loss: 0.0471 - accuracy: 0.9854 - val_loss: 0.3096 - val_accuracy: 0.9336\n",
      "Epoch 17/30\n",
      "696/696 [==============================] - 11s 16ms/step - loss: 0.0406 - accuracy: 0.9866 - val_loss: 0.2716 - val_accuracy: 0.9456\n",
      "Epoch 18/30\n",
      "696/696 [==============================] - 11s 16ms/step - loss: 0.0432 - accuracy: 0.9856 - val_loss: 0.3770 - val_accuracy: 0.9231\n",
      "Epoch 19/30\n",
      "696/696 [==============================] - 12s 17ms/step - loss: 0.0363 - accuracy: 0.9884 - val_loss: 0.3970 - val_accuracy: 0.9288\n",
      "Epoch 20/30\n",
      "696/696 [==============================] - 12s 17ms/step - loss: 0.0353 - accuracy: 0.9885 - val_loss: 0.3437 - val_accuracy: 0.9376\n",
      "Epoch 21/30\n",
      "696/696 [==============================] - 11s 16ms/step - loss: 0.0348 - accuracy: 0.9887 - val_loss: 0.2865 - val_accuracy: 0.9413\n",
      "Epoch 22/30\n",
      "696/696 [==============================] - 11s 16ms/step - loss: 0.0312 - accuracy: 0.9903 - val_loss: 0.2916 - val_accuracy: 0.9342\n",
      "Epoch 23/30\n",
      "696/696 [==============================] - 11s 16ms/step - loss: 0.0295 - accuracy: 0.9911 - val_loss: 0.3105 - val_accuracy: 0.9397\n",
      "Epoch 24/30\n",
      "696/696 [==============================] - 11s 16ms/step - loss: 0.0343 - accuracy: 0.9889 - val_loss: 0.3147 - val_accuracy: 0.9381\n",
      "Epoch 25/30\n",
      "696/696 [==============================] - 11s 16ms/step - loss: 0.0304 - accuracy: 0.9905 - val_loss: 0.2688 - val_accuracy: 0.9485\n",
      "Epoch 26/30\n",
      "696/696 [==============================] - 12s 17ms/step - loss: 0.0283 - accuracy: 0.9908 - val_loss: 0.2929 - val_accuracy: 0.9435\n",
      "Epoch 27/30\n",
      "696/696 [==============================] - 11s 16ms/step - loss: 0.0264 - accuracy: 0.9918 - val_loss: 0.3163 - val_accuracy: 0.9426\n",
      "Epoch 28/30\n",
      "696/696 [==============================] - 11s 16ms/step - loss: 0.0254 - accuracy: 0.9915 - val_loss: 0.3327 - val_accuracy: 0.9401\n",
      "Epoch 29/30\n",
      "696/696 [==============================] - 11s 16ms/step - loss: 0.0279 - accuracy: 0.9913 - val_loss: 0.3034 - val_accuracy: 0.9497\n",
      "Epoch 30/30\n",
      "696/696 [==============================] - 12s 17ms/step - loss: 0.0238 - accuracy: 0.9925 - val_loss: 0.3466 - val_accuracy: 0.9358\n"
     ]
    }
   ],
   "source": [
    "history = cnn_seq.fit(x_train_gray_norm, y_train, batch_size=50, epochs=30, verbose=1, validation_data=(x_val_gray_norm, y_val))"
   ]
  },
  {
   "cell_type": "markdown",
   "id": "7c41d407",
   "metadata": {},
   "source": [
    "<span style=\"font-family: Trebuchet MS; font-weight:bold;font-size:1.5em;color:#00b3e5;\"> Test Model"
   ]
  },
  {
   "cell_type": "code",
   "execution_count": 24,
   "id": "4bc90f40",
   "metadata": {},
   "outputs": [
    {
     "name": "stdout",
     "output_type": "stream",
     "text": [
      "395/395 [==============================] - 2s 5ms/step - loss: 0.5463 - accuracy: 0.9229\n"
     ]
    },
    {
     "data": {
      "text/plain": [
       "[0.546271800994873, 0.9228820204734802]"
      ]
     },
     "execution_count": 24,
     "metadata": {},
     "output_type": "execute_result"
    }
   ],
   "source": [
    "cnn_seq.evaluate(x_test_gray_norm, y_test)"
   ]
  },
  {
   "cell_type": "markdown",
   "id": "008b0e67",
   "metadata": {},
   "source": [
    "<span style=\"font-family: Trebuchet MS; font-weight:bold;font-size:1.5em;color:darkorange\"> Model accuracy is 92% with loss of 0.9"
   ]
  },
  {
   "cell_type": "markdown",
   "id": "4315fd7a",
   "metadata": {},
   "source": [
    "<span style=\"font-family: Trebuchet MS; font-weight:bold;font-size:1.5em;color:#00b3e5;\"> Analyse CNN Model"
   ]
  },
  {
   "cell_type": "code",
   "execution_count": 25,
   "id": "99f7bfb7",
   "metadata": {},
   "outputs": [],
   "source": [
    "epochs = range(len(history.history['loss']))"
   ]
  },
  {
   "cell_type": "code",
   "execution_count": 26,
   "id": "a5889e80",
   "metadata": {},
   "outputs": [
    {
     "data": {
      "text/plain": [
       "range(0, 30)"
      ]
     },
     "execution_count": 26,
     "metadata": {},
     "output_type": "execute_result"
    }
   ],
   "source": [
    "epochs"
   ]
  },
  {
   "cell_type": "code",
   "execution_count": 27,
   "id": "c28abce1",
   "metadata": {},
   "outputs": [
    {
     "data": {
      "text/plain": [
       "[<matplotlib.lines.Line2D at 0x208acee9f70>]"
      ]
     },
     "execution_count": 27,
     "metadata": {},
     "output_type": "execute_result"
    },
    {
     "data": {
      "image/png": "[encoded data removed]",
      "text/plain": [
       "<Figure size 720x720 with 1 Axes>"
      ]
     },
     "metadata": {
      "needs_background": "light"
     },
     "output_type": "display_data"
    }
   ],
   "source": [
    "fig, ax = plt.subplots(figsize=(10, 10))\n",
    "plt.plot(epochs, history.history['loss'], 'ro', label='Loss')\n",
    "plt.plot(epochs, history.history['val_loss'], 'r', label='Val loss')\n",
    "plt.plot(epochs, history.history['accuracy'], 'go', label='Accuracy')\n",
    "plt.plot(epochs, history.history['val_accuracy'], 'g', label='Val accuracy')"
   ]
  },
  {
   "cell_type": "markdown",
   "id": "563b3076",
   "metadata": {},
   "source": [
    "<span style=\"font-family: Trebuchet MS; font-weight:bold;font-size:1.5em;color:#00b3e5;\"> Confusion Matrix"
   ]
  },
  {
   "cell_type": "code",
   "execution_count": 28,
   "id": "957d5b0d",
   "metadata": {},
   "outputs": [
    {
     "name": "stdout",
     "output_type": "stream",
     "text": [
      "395/395 [==============================] - 2s 5ms/step\n"
     ]
    }
   ],
   "source": [
    "pred_class = np.argmax(cnn_seq.predict(x_test_gray_norm), axis=-1)"
   ]
  },
  {
   "cell_type": "code",
   "execution_count": 29,
   "id": "10284489",
   "metadata": {},
   "outputs": [
    {
     "data": {
      "text/plain": [
       "array([16,  1, 38, ...,  6,  7, 10], dtype=int64)"
      ]
     },
     "execution_count": 29,
     "metadata": {},
     "output_type": "execute_result"
    }
   ],
   "source": [
    "pred_class"
   ]
  },
  {
   "cell_type": "code",
   "execution_count": 30,
   "id": "aa9f3b4f",
   "metadata": {},
   "outputs": [
    {
     "data": {
      "text/plain": [
       "Text(249.0, 0.5, 'Predicted')"
      ]
     },
     "execution_count": 30,
     "metadata": {},
     "output_type": "execute_result"
    },
    {
     "data": {
      "image/png": "[encoded data removed]",
      "text/plain": [
       "<Figure size 2160x2160 with 2 Axes>"
      ]
     },
     "metadata": {
      "needs_background": "light"
     },
     "output_type": "display_data"
    }
   ],
   "source": [
    "from sklearn.metrics import confusion_matrix\n",
    "cm = confusion_matrix(y_test, pred_class)\n",
    "plt.figure(figsize=(30,30))\n",
    "sns.heatmap(cm, cmap='Greens', fmt='g', vmin=-1, vmax=1, annot=True, linewidth=1)\n",
    "plt.xlabel('Actual')\n",
    "plt.ylabel('Predicted')"
   ]
  },
  {
   "cell_type": "markdown",
   "id": "8b93dc0a",
   "metadata": {},
   "source": [
    "<span style=\"font-family: Trebuchet MS; font-weight:bold;font-size:1.5em;color:darkorange\"> Target class mapping"
   ]
  },
  {
   "cell_type": "code",
   "execution_count": 31,
   "id": "0381e655",
   "metadata": {},
   "outputs": [],
   "source": [
    "classes = { 0:'Speed limit (20km/h)',\n",
    "            1:'Speed limit (30km/h)', \n",
    "            2:'Speed limit (50km/h)', \n",
    "            3:'Speed limit (60km/h)', \n",
    "            4:'Speed limit (70km/h)', \n",
    "            5:'Speed limit (80km/h)', \n",
    "            6:'End of speed limit (80km/h)', \n",
    "            7:'Speed limit (100km/h)', \n",
    "            8:'Speed limit (120km/h)', \n",
    "            9:'No passing', \n",
    "            10:'No passing veh over 3.5 tons', \n",
    "            11:'Right-of-way at intersection', \n",
    "            12:'Priority road', \n",
    "            13:'Yield', \n",
    "            14:'Stop', \n",
    "            15:'No vehicles', \n",
    "            16:'Veh > 3.5 tons prohibited', \n",
    "            17:'No entry', \n",
    "            18:'General caution', \n",
    "            19:'Dangerous curve left', \n",
    "            20:'Dangerous curve right', \n",
    "            21:'Double curve', \n",
    "            22:'Bumpy road', \n",
    "            23:'Slippery road', \n",
    "            24:'Road narrows on the right', \n",
    "            25:'Road work', \n",
    "            26:'Traffic signals', \n",
    "            27:'Pedestrians', \n",
    "            28:'Children crossing', \n",
    "            29:'Bicycles crossing', \n",
    "            30:'Beware of ice/snow',\n",
    "            31:'Wild animals crossing', \n",
    "            32:'End speed + passing limits', \n",
    "            33:'Turn right ahead', \n",
    "            34:'Turn left ahead', \n",
    "            35:'Ahead only', \n",
    "            36:'Go straight or right', \n",
    "            37:'Go straight or left', \n",
    "            38:'Keep right', \n",
    "            39:'Keep left', \n",
    "            40:'Roundabout mandatory', \n",
    "            41:'End of no passing', \n",
    "            42:'End no passing veh > 3.5 tons' }"
   ]
  },
  {
   "cell_type": "code",
   "execution_count": 32,
   "id": "d55ba117",
   "metadata": {},
   "outputs": [
    {
     "data": {
      "image/png": "[encoded data removed]",
      "text/plain": [
       "<Figure size 1440x1440 with 16 Axes>"
      ]
     },
     "metadata": {
      "needs_background": "light"
     },
     "output_type": "display_data"
    }
   ],
   "source": [
    "h_grid = 4\n",
    "w_grid = 4\n",
    "\n",
    "fig, axes = plt.subplots(h_grid, w_grid, figsize=(20,20))\n",
    "axes = axes.ravel()\n",
    "\n",
    "x_test_length = len(x_test)\n",
    "\n",
    "for i in np.arange(0, w_grid * w_grid):\n",
    "    number = np.random.randint(0, x_test_length)\n",
    "    axes[i].imshow(x_test[number])\n",
    "    axes[i].set_title('Predicted = {}\\n Actual = {}'.format(classes.get(pred_class[number]), classes.get(y_test[number])))\n",
    "    axes[i].axis('off')\n",
    "    \n",
    "plt.subplots_adjust(hspace=0.4)"
   ]
  },
  {
   "cell_type": "code",
   "execution_count": 33,
   "id": "829dbf05",
   "metadata": {},
   "outputs": [
    {
     "name": "stdout",
     "output_type": "stream",
     "text": [
      "              precision    recall  f1-score   support\n",
      "\n",
      "           0       0.92      0.95      0.93        60\n",
      "           1       0.87      0.98      0.92       720\n",
      "           2       0.93      0.98      0.95       750\n",
      "           3       0.91      0.84      0.87       450\n",
      "           4       0.95      0.95      0.95       660\n",
      "           5       0.84      0.93      0.88       630\n",
      "           6       0.99      0.93      0.96       150\n",
      "           7       0.98      0.91      0.94       450\n",
      "           8       0.94      0.95      0.95       450\n",
      "           9       0.98      0.95      0.97       480\n",
      "          10       0.94      0.98      0.96       660\n",
      "          11       0.91      0.93      0.92       420\n",
      "          12       0.94      0.99      0.96       690\n",
      "          13       0.99      0.99      0.99       720\n",
      "          14       1.00      0.96      0.98       270\n",
      "          15       0.99      0.94      0.96       210\n",
      "          16       0.98      0.99      0.98       150\n",
      "          17       0.96      0.96      0.96       360\n",
      "          18       0.93      0.76      0.83       390\n",
      "          19       0.63      1.00      0.77        60\n",
      "          20       0.84      0.90      0.87        90\n",
      "          21       0.98      0.49      0.65        90\n",
      "          22       0.99      0.83      0.90       120\n",
      "          23       0.85      0.81      0.83       150\n",
      "          24       0.69      0.49      0.57        90\n",
      "          25       0.91      0.96      0.94       480\n",
      "          26       0.80      0.79      0.80       180\n",
      "          27       0.55      0.50      0.52        60\n",
      "          28       0.94      0.89      0.91       150\n",
      "          29       0.67      0.99      0.80        90\n",
      "          30       0.74      0.56      0.64       150\n",
      "          31       0.92      0.99      0.95       270\n",
      "          32       0.77      1.00      0.87        60\n",
      "          33       0.90      0.96      0.93       210\n",
      "          34       0.91      0.98      0.94       120\n",
      "          35       0.99      0.85      0.91       390\n",
      "          36       0.97      0.94      0.95       120\n",
      "          37       0.90      0.92      0.91        60\n",
      "          38       0.97      0.93      0.95       690\n",
      "          39       0.86      0.71      0.78        90\n",
      "          40       0.87      0.80      0.83        90\n",
      "          41       1.00      0.92      0.96        60\n",
      "          42       0.99      0.96      0.97        90\n",
      "\n",
      "    accuracy                           0.92     12630\n",
      "   macro avg       0.90      0.88      0.89     12630\n",
      "weighted avg       0.93      0.92      0.92     12630\n",
      "\n"
     ]
    }
   ],
   "source": [
    "from sklearn.metrics import classification_report\n",
    "\n",
    "print(classification_report(y_test, pred_class))"
   ]
  },
  {
   "cell_type": "markdown",
   "id": "2fd11ef6",
   "metadata": {},
   "source": [
    "<span style=\"font-family: Trebuchet MS; font-weight:bold;font-size:1.0em;color:black\"> Model is giving low precision and low recall for class - 24, we should look at it"
   ]
  },
  {
   "cell_type": "code",
   "execution_count": 34,
   "id": "3b676cdf",
   "metadata": {},
   "outputs": [
    {
     "name": "stdout",
     "output_type": "stream",
     "text": [
      "Saved CNN model to disk\n"
     ]
    }
   ],
   "source": [
    "model_json = cnn_seq.to_json()\n",
    "with open(\"model.json\", \"w\") as json_file:\n",
    "    json_file.write(model_json)\n",
    "cnn_seq.save_weights(\"model.h5\")\n",
    "print(\"Saved CNN model to disk\")"
   ]
  },
  {
   "cell_type": "markdown",
   "id": "d621acc6",
   "metadata": {},
   "source": [
    "<span style=\"font-family: Trebuchet MS; font-weight:bold;font-size:1.5em;color:#00b3e5;\"> CNN Tunning"
   ]
  },
  {
   "cell_type": "code",
   "execution_count": 79,
   "id": "fc6f3bc0",
   "metadata": {},
   "outputs": [],
   "source": [
    "from sklearn.model_selection import cross_val_score\n",
    "from keras.wrappers.scikit_learn import KerasClassifier\n",
    "from math import floor\n",
    "from sklearn.metrics import make_scorer, accuracy_score\n",
    "from bayes_opt import BayesianOptimization\n",
    "from sklearn.model_selection import StratifiedKFold\n",
    "from keras.layers import Dense,LeakyReLU, InputLayer, Conv2D\n",
    "from tensorflow.keras.callbacks import EarlyStopping\n",
    "from tensorflow.keras.optimizers import Adam, SGD\n",
    "LeakyReLU = LeakyReLU(alpha=0.1)\n",
    "\n",
    "score_acc = make_scorer(accuracy_score)"
   ]
  },
  {
   "cell_type": "code",
   "execution_count": 98,
   "id": "32ecd4f1",
   "metadata": {},
   "outputs": [],
   "source": [
    "# Create function\n",
    "def nn_cl_bo2(neurons, activation, optimizer, learning_rate, batch_size, epochs,\n",
    "              layers1, layers2, normalization, dropout, dropout_rate):\n",
    "    print(f\"{neurons}, {activation}, {optimizer}, {learning_rate}, {batch_size}, {epochs}, {layers1}, {layers2}, {normalization}, {dropout}, {dropout_rate}\")\n",
    "    36.29627854243603, 0.6121701756176187, 0.9907124646308787, 0.42602224734191213, 335.25580347650913, 43.6260243522301, 1.2983259142789796, 1.0449566490883235, 0.33765619188879237, 0.4360590193711702, 0.23077874175693686\n",
    "    optimizerL = ['SGD', 'Adam']\n",
    "    optimizerD = {'Adam':Adam(learning_rate=learning_rate), 'SGD':SGD(learning_rate=learning_rate)}\n",
    "        \n",
    "    activationL = ['relu', 'LeakyReLU']\n",
    "        \n",
    "    neurons = round(neurons)\n",
    "    activation = activationL[round(activation)]\n",
    "    optimizer = optimizerD[optimizerL[round(optimizer)]]\n",
    "    batch_size = round(batch_size)\n",
    "    epochs = round(epochs)\n",
    "    layers1 = round(layers1)\n",
    "    layers2 = round(layers2)\n",
    "    def nn_cl_fun():\n",
    "        nn = Sequential()\n",
    "        nn.add(InputLayer(input_shape=(32, 32, 1)))\n",
    "        nn.add(Conv2D(neurons, (5,5), activation=activation))\n",
    "        nn.add(Conv2D(neurons, (4,4), activation=activation))\n",
    "        nn.add(Dense(neurons, input_dim=84, activation=activation))\n",
    "       # if normalization > 0.5:\n",
    "       #     nn.add(BatchNormalization())\n",
    "        for i in range(layers1):\n",
    "            nn.add(Dense(neurons, activation=activation))\n",
    "      #  if dropout > 0.5:\n",
    "      #      nn.add(Dropout(dropout_rate, seed=123))\n",
    "        for i in range(layers2):\n",
    "            nn.add(Dense(neurons, activation=activation))\n",
    "        nn.add(Dense(43, activation='softmax'))\n",
    "        nn.compile(loss='sparse_categorical_crossentropy', optimizer=optimizer, metrics=['accuracy'])\n",
    "        return nn\n",
    "        \n",
    "    es = EarlyStopping(monitor='accuracy', mode='max', verbose=0, patience=20)\n",
    "    nn = KerasClassifier(build_fn=nn_cl_fun, epochs=epochs, batch_size=batch_size, verbose=1)\n",
    "    \n",
    "    kfold = StratifiedKFold(n_splits=5, shuffle=True, random_state=123)\n",
    "    score = cross_val_score(nn, x_train_gray_norm, y_train, scoring=score_acc, cv=kfold, fit_params={'callbacks':[es]}).mean()\n",
    "    \n",
    "    return score"
   ]
  },
  {
   "cell_type": "code",
   "execution_count": 99,
   "id": "b3c22026",
   "metadata": {},
   "outputs": [
    {
     "name": "stdout",
     "output_type": "stream",
     "text": [
      "|   iter    |  target   | activa... | batch_... |  dropout  | dropou... |  epochs   |  layers1  |  layers2  | learni... |  neurons  | normal... | optimizer |\n",
      "-------------------------------------------------------------------------------------------------------------------------------------------------------------\n",
      "36.29627854243603, 0.6121701756176187, 0.9907124646308787, 0.42602224734191213, 335.25580347650913, 43.6260243522301, 1.2983259142789796, 1.0449566490883235, 0.33765619188879237, 0.4360590193711702, 0.23077874175693686\n"
     ]
    },
    {
     "name": "stderr",
     "output_type": "stream",
     "text": [
      "C:\\Users\\MSS\\AppData\\Local\\Temp\\ipykernel_896\\3745505240.py:36: DeprecationWarning: KerasClassifier is deprecated, use Sci-Keras (https://github.com/adriangb/scikeras) instead. See https://www.adriangb.com/scikeras/stable/migration.html for help migrating.\n",
      "  nn = KerasClassifier(build_fn=nn_cl_fun, epochs=epochs, batch_size=batch_size, verbose=1)\n"
     ]
    },
    {
     "name": "stdout",
     "output_type": "stream",
     "text": [
      "Epoch 1/44\n",
      "Epoch 1/44\n",
      "Epoch 1/44\n",
      "Epoch 1/44\n",
      "Epoch 1/44\n",
      "| \u001b[0m1        \u001b[0m | \u001b[0mnan      \u001b[0m | \u001b[0m0.6122   \u001b[0m | \u001b[0m335.3    \u001b[0m | \u001b[0m0.4361   \u001b[0m | \u001b[0m0.2308   \u001b[0m | \u001b[0m43.63    \u001b[0m | \u001b[0m1.298    \u001b[0m | \u001b[0m1.045    \u001b[0m | \u001b[0m0.426    \u001b[0m | \u001b[0m36.3     \u001b[0m | \u001b[0m0.3377   \u001b[0m | \u001b[0m0.9907   \u001b[0m |\n"
     ]
    },
    {
     "name": "stderr",
     "output_type": "stream",
     "text": [
      "E:\\Software\\anaconda3\\lib\\site-packages\\sklearn\\model_selection\\_validation.py:372: FitFailedWarning: \n",
      "5 fits failed out of a total of 5.\n",
      "The score on these train-test partitions for these parameters will be set to nan.\n",
      "If these failures are not expected, you can try to debug them by setting error_score='raise'.\n",
      "\n",
      "Below are more details about the failures:\n",
      "--------------------------------------------------------------------------------\n",
      "1 fits failed with the following error:\n",
      "Traceback (most recent call last):\n",
      "  File \"E:\\Software\\anaconda3\\lib\\site-packages\\sklearn\\model_selection\\_validation.py\", line 680, in _fit_and_score\n",
      "    estimator.fit(X_train, y_train, **fit_params)\n",
      "  File \"C:\\Users\\MSS\\AppData\\Roaming\\Python\\Python39\\site-packages\\keras\\wrappers\\scikit_learn.py\", line 248, in fit\n",
      "    return super().fit(x, y, **kwargs)\n",
      "  File \"C:\\Users\\MSS\\AppData\\Roaming\\Python\\Python39\\site-packages\\keras\\wrappers\\scikit_learn.py\", line 175, in fit\n",
      "    history = self.model.fit(x, y, **fit_args)\n",
      "  File \"C:\\Users\\MSS\\AppData\\Roaming\\Python\\Python39\\site-packages\\keras\\utils\\traceback_utils.py\", line 70, in error_handler\n",
      "    raise e.with_traceback(filtered_tb) from None\n",
      "  File \"C:\\Users\\MSS\\AppData\\Roaming\\Python\\Python39\\site-packages\\tensorflow\\python\\eager\\execute.py\", line 52, in quick_execute\n",
      "    tensors = pywrap_tfe.TFE_Py_Execute(ctx._handle, device_name, op_name,\n",
      "tensorflow.python.framework.errors_impl.InvalidArgumentError: Graph execution error:\n",
      "\n",
      "Detected at node 'sparse_categorical_crossentropy/SparseSoftmaxCrossEntropyWithLogits/SparseSoftmaxCrossEntropyWithLogits' defined at (most recent call last):\n",
      "    File \"E:\\Software\\anaconda3\\lib\\runpy.py\", line 197, in _run_module_as_main\n",
      "      return _run_code(code, main_globals, None,\n",
      "    File \"E:\\Software\\anaconda3\\lib\\runpy.py\", line 87, in _run_code\n",
      "      exec(code, run_globals)\n",
      "    File \"E:\\Software\\anaconda3\\lib\\site-packages\\ipykernel_launcher.py\", line 16, in <module>\n",
      "      app.launch_new_instance()\n",
      "    File \"E:\\Software\\anaconda3\\lib\\site-packages\\traitlets\\config\\application.py\", line 846, in launch_instance\n",
      "      app.start()\n",
      "    File \"E:\\Software\\anaconda3\\lib\\site-packages\\ipykernel\\kernelapp.py\", line 677, in start\n",
      "      self.io_loop.start()\n",
      "    File \"E:\\Software\\anaconda3\\lib\\site-packages\\tornado\\platform\\asyncio.py\", line 215, in start\n",
      "      self.asyncio_loop.run_forever()\n",
      "    File \"E:\\Software\\anaconda3\\lib\\asyncio\\base_events.py\", line 601, in run_forever\n",
      "      self._run_once()\n",
      "    File \"E:\\Software\\anaconda3\\lib\\asyncio\\base_events.py\", line 1905, in _run_once\n",
      "      handle._run()\n",
      "    File \"E:\\Software\\anaconda3\\lib\\asyncio\\events.py\", line 80, in _run\n",
      "      self._context.run(self._callback, *self._args)\n",
      "    File \"E:\\Software\\anaconda3\\lib\\site-packages\\ipykernel\\kernelbase.py\", line 471, in dispatch_queue\n",
      "      await self.process_one()\n",
      "    File \"E:\\Software\\anaconda3\\lib\\site-packages\\ipykernel\\kernelbase.py\", line 460, in process_one\n",
      "      await dispatch(*args)\n",
      "    File \"E:\\Software\\anaconda3\\lib\\site-packages\\ipykernel\\kernelbase.py\", line 367, in dispatch_shell\n",
      "      await result\n",
      "    File \"E:\\Software\\anaconda3\\lib\\site-packages\\ipykernel\\kernelbase.py\", line 662, in execute_request\n",
      "      reply_content = await reply_content\n",
      "    File \"E:\\Software\\anaconda3\\lib\\site-packages\\ipykernel\\ipkernel.py\", line 360, in do_execute\n",
      "      res = shell.run_cell(code, store_history=store_history, silent=silent)\n",
      "    File \"E:\\Software\\anaconda3\\lib\\site-packages\\ipykernel\\zmqshell.py\", line 532, in run_cell\n",
      "      return super().run_cell(*args, **kwargs)\n",
      "    File \"E:\\Software\\anaconda3\\lib\\site-packages\\IPython\\core\\interactiveshell.py\", line 2863, in run_cell\n",
      "      result = self._run_cell(\n",
      "    File \"E:\\Software\\anaconda3\\lib\\site-packages\\IPython\\core\\interactiveshell.py\", line 2909, in _run_cell\n",
      "      return runner(coro)\n",
      "    File \"E:\\Software\\anaconda3\\lib\\site-packages\\IPython\\core\\async_helpers.py\", line 129, in _pseudo_sync_runner\n",
      "      coro.send(None)\n",
      "    File \"E:\\Software\\anaconda3\\lib\\site-packages\\IPython\\core\\interactiveshell.py\", line 3106, in run_cell_async\n",
      "      has_raised = await self.run_ast_nodes(code_ast.body, cell_name,\n",
      "    File \"E:\\Software\\anaconda3\\lib\\site-packages\\IPython\\core\\interactiveshell.py\", line 3309, in run_ast_nodes\n",
      "      if await self.run_code(code, result, async_=asy):\n",
      "    File \"E:\\Software\\anaconda3\\lib\\site-packages\\IPython\\core\\interactiveshell.py\", line 3369, in run_code\n",
      "      exec(code_obj, self.user_global_ns, self.user_ns)\n",
      "    File \"C:\\Users\\MSS\\AppData\\Local\\Temp\\ipykernel_896\\376484942.py\", line 17, in <cell line: 17>\n",
      "      nn_bo.maximize(init_points=1, n_iter=1)\n",
      "    File \"E:\\Software\\anaconda3\\lib\\site-packages\\bayes_opt\\bayesian_optimization.py\", line 310, in maximize\n",
      "      self.probe(x_probe, lazy=False)\n",
      "    File \"E:\\Software\\anaconda3\\lib\\site-packages\\bayes_opt\\bayesian_optimization.py\", line 208, in probe\n",
      "      self._space.probe(params)\n",
      "    File \"E:\\Software\\anaconda3\\lib\\site-packages\\bayes_opt\\target_space.py\", line 236, in probe\n",
      "      target = self.target_func(**params)\n",
      "    File \"C:\\Users\\MSS\\AppData\\Local\\Temp\\ipykernel_896\\3745505240.py\", line 39, in nn_cl_bo2\n",
      "      score = cross_val_score(nn, x_train_gray_norm, y_train, scoring=score_acc, cv=kfold, fit_params={'callbacks':[es]}).mean()\n",
      "    File \"E:\\Software\\anaconda3\\lib\\site-packages\\sklearn\\model_selection\\_validation.py\", line 509, in cross_val_score\n",
      "      cv_results = cross_validate(\n",
      "    File \"E:\\Software\\anaconda3\\lib\\site-packages\\sklearn\\model_selection\\_validation.py\", line 267, in cross_validate\n",
      "      results = parallel(\n",
      "    File \"E:\\Software\\anaconda3\\lib\\site-packages\\joblib\\parallel.py\", line 1043, in __call__\n",
      "      if self.dispatch_one_batch(iterator):\n",
      "    File \"E:\\Software\\anaconda3\\lib\\site-packages\\joblib\\parallel.py\", line 861, in dispatch_one_batch\n",
      "      self._dispatch(tasks)\n",
      "    File \"E:\\Software\\anaconda3\\lib\\site-packages\\joblib\\parallel.py\", line 779, in _dispatch\n",
      "      job = self._backend.apply_async(batch, callback=cb)\n",
      "    File \"E:\\Software\\anaconda3\\lib\\site-packages\\joblib\\_parallel_backends.py\", line 208, in apply_async\n",
      "      result = ImmediateResult(func)\n",
      "    File \"E:\\Software\\anaconda3\\lib\\site-packages\\joblib\\_parallel_backends.py\", line 572, in __init__\n",
      "      self.results = batch()\n",
      "    File \"E:\\Software\\anaconda3\\lib\\site-packages\\joblib\\parallel.py\", line 262, in __call__\n",
      "      return [func(*args, **kwargs)\n",
      "    File \"E:\\Software\\anaconda3\\lib\\site-packages\\joblib\\parallel.py\", line 262, in <listcomp>\n",
      "      return [func(*args, **kwargs)\n",
      "    File \"E:\\Software\\anaconda3\\lib\\site-packages\\sklearn\\utils\\fixes.py\", line 216, in __call__\n",
      "      return self.function(*args, **kwargs)\n",
      "    File \"E:\\Software\\anaconda3\\lib\\site-packages\\sklearn\\model_selection\\_validation.py\", line 680, in _fit_and_score\n",
      "      estimator.fit(X_train, y_train, **fit_params)\n",
      "    File \"C:\\Users\\MSS\\AppData\\Roaming\\Python\\Python39\\site-packages\\keras\\wrappers\\scikit_learn.py\", line 248, in fit\n",
      "      return super().fit(x, y, **kwargs)\n",
      "    File \"C:\\Users\\MSS\\AppData\\Roaming\\Python\\Python39\\site-packages\\keras\\wrappers\\scikit_learn.py\", line 175, in fit\n",
      "      history = self.model.fit(x, y, **fit_args)\n",
      "    File \"C:\\Users\\MSS\\AppData\\Roaming\\Python\\Python39\\site-packages\\keras\\utils\\traceback_utils.py\", line 65, in error_handler\n",
      "      return fn(*args, **kwargs)\n",
      "    File \"C:\\Users\\MSS\\AppData\\Roaming\\Python\\Python39\\site-packages\\keras\\engine\\training.py\", line 1650, in fit\n",
      "      tmp_logs = self.train_function(iterator)\n",
      "    File \"C:\\Users\\MSS\\AppData\\Roaming\\Python\\Python39\\site-packages\\keras\\engine\\training.py\", line 1249, in train_function\n",
      "      return step_function(self, iterator)\n",
      "    File \"C:\\Users\\MSS\\AppData\\Roaming\\Python\\Python39\\site-packages\\keras\\engine\\training.py\", line 1233, in step_function\n",
      "      outputs = model.distribute_strategy.run(run_step, args=(data,))\n",
      "    File \"C:\\Users\\MSS\\AppData\\Roaming\\Python\\Python39\\site-packages\\keras\\engine\\training.py\", line 1222, in run_step\n",
      "      outputs = model.train_step(data)\n",
      "    File \"C:\\Users\\MSS\\AppData\\Roaming\\Python\\Python39\\site-packages\\keras\\engine\\training.py\", line 1024, in train_step\n",
      "      loss = self.compute_loss(x, y, y_pred, sample_weight)\n",
      "    File \"C:\\Users\\MSS\\AppData\\Roaming\\Python\\Python39\\site-packages\\keras\\engine\\training.py\", line 1082, in compute_loss\n",
      "      return self.compiled_loss(\n",
      "    File \"C:\\Users\\MSS\\AppData\\Roaming\\Python\\Python39\\site-packages\\keras\\engine\\compile_utils.py\", line 265, in __call__\n",
      "      loss_value = loss_obj(y_t, y_p, sample_weight=sw)\n",
      "    File \"C:\\Users\\MSS\\AppData\\Roaming\\Python\\Python39\\site-packages\\keras\\losses.py\", line 152, in __call__\n",
      "      losses = call_fn(y_true, y_pred)\n",
      "    File \"C:\\Users\\MSS\\AppData\\Roaming\\Python\\Python39\\site-packages\\keras\\losses.py\", line 284, in call\n",
      "      return ag_fn(y_true, y_pred, **self._fn_kwargs)\n",
      "    File \"C:\\Users\\MSS\\AppData\\Roaming\\Python\\Python39\\site-packages\\keras\\losses.py\", line 2098, in sparse_categorical_crossentropy\n",
      "      return backend.sparse_categorical_crossentropy(\n",
      "    File \"C:\\Users\\MSS\\AppData\\Roaming\\Python\\Python39\\site-packages\\keras\\backend.py\", line 5633, in sparse_categorical_crossentropy\n",
      "      res = tf.nn.sparse_softmax_cross_entropy_with_logits(\n",
      "Node: 'sparse_categorical_crossentropy/SparseSoftmaxCrossEntropyWithLogits/SparseSoftmaxCrossEntropyWithLogits'\n",
      "logits and labels must have the same first dimension, got logits shape [209375,43] and labels shape [335]\n",
      "\t [[{{node sparse_categorical_crossentropy/SparseSoftmaxCrossEntropyWithLogits/SparseSoftmaxCrossEntropyWithLogits}}]] [Op:__inference_train_function_123770]\n",
      "\n",
      "--------------------------------------------------------------------------------\n",
      "1 fits failed with the following error:\n",
      "Traceback (most recent call last):\n",
      "  File \"E:\\Software\\anaconda3\\lib\\site-packages\\sklearn\\model_selection\\_validation.py\", line 680, in _fit_and_score\n",
      "    estimator.fit(X_train, y_train, **fit_params)\n",
      "  File \"C:\\Users\\MSS\\AppData\\Roaming\\Python\\Python39\\site-packages\\keras\\wrappers\\scikit_learn.py\", line 248, in fit\n",
      "    return super().fit(x, y, **kwargs)\n",
      "  File \"C:\\Users\\MSS\\AppData\\Roaming\\Python\\Python39\\site-packages\\keras\\wrappers\\scikit_learn.py\", line 175, in fit\n",
      "    history = self.model.fit(x, y, **fit_args)\n",
      "  File \"C:\\Users\\MSS\\AppData\\Roaming\\Python\\Python39\\site-packages\\keras\\utils\\traceback_utils.py\", line 70, in error_handler\n",
      "    raise e.with_traceback(filtered_tb) from None\n",
      "  File \"C:\\Users\\MSS\\AppData\\Local\\Temp\\__autograph_generated_fileinv8imar.py\", line 15, in tf__train_function\n",
      "    retval_ = ag__.converted_call(ag__.ld(step_function), (ag__.ld(self), ag__.ld(iterator)), None, fscope)\n",
      "tensorflow.python.autograph.pyct.error_utils.MultilineMessageKeyError: in user code:\n",
      "\n",
      "    File \"C:\\Users\\MSS\\AppData\\Roaming\\Python\\Python39\\site-packages\\keras\\engine\\training.py\", line 1249, in train_function  *\n",
      "        return step_function(self, iterator)\n",
      "    File \"C:\\Users\\MSS\\AppData\\Roaming\\Python\\Python39\\site-packages\\keras\\engine\\training.py\", line 1233, in step_function  **\n",
      "        outputs = model.distribute_strategy.run(run_step, args=(data,))\n",
      "    File \"C:\\Users\\MSS\\AppData\\Roaming\\Python\\Python39\\site-packages\\keras\\engine\\training.py\", line 1222, in run_step  **\n",
      "        outputs = model.train_step(data)\n",
      "    File \"C:\\Users\\MSS\\AppData\\Roaming\\Python\\Python39\\site-packages\\keras\\engine\\training.py\", line 1027, in train_step\n",
      "        self.optimizer.minimize(loss, self.trainable_variables, tape=tape)\n",
      "    File \"C:\\Users\\MSS\\AppData\\Roaming\\Python\\Python39\\site-packages\\keras\\optimizers\\optimizer_experimental\\optimizer.py\", line 527, in minimize\n",
      "        self.apply_gradients(grads_and_vars)\n",
      "    File \"C:\\Users\\MSS\\AppData\\Roaming\\Python\\Python39\\site-packages\\keras\\optimizers\\optimizer_experimental\\optimizer.py\", line 1140, in apply_gradients\n",
      "        return super().apply_gradients(grads_and_vars, name=name)\n",
      "    File \"C:\\Users\\MSS\\AppData\\Roaming\\Python\\Python39\\site-packages\\keras\\optimizers\\optimizer_experimental\\optimizer.py\", line 634, in apply_gradients\n",
      "        iteration = self._internal_apply_gradients(grads_and_vars)\n",
      "    File \"C:\\Users\\MSS\\AppData\\Roaming\\Python\\Python39\\site-packages\\keras\\optimizers\\optimizer_experimental\\optimizer.py\", line 1166, in _internal_apply_gradients\n",
      "        return tf.__internal__.distribute.interim.maybe_merge_call(\n",
      "    File \"C:\\Users\\MSS\\AppData\\Roaming\\Python\\Python39\\site-packages\\keras\\optimizers\\optimizer_experimental\\optimizer.py\", line 1216, in _distributed_apply_gradients_fn\n",
      "        distribution.extended.update(\n",
      "    File \"C:\\Users\\MSS\\AppData\\Roaming\\Python\\Python39\\site-packages\\keras\\optimizers\\optimizer_experimental\\optimizer.py\", line 1213, in apply_grad_to_update_var  **\n",
      "        return self._update_step(grad, var)\n",
      "    File \"C:\\Users\\MSS\\AppData\\Roaming\\Python\\Python39\\site-packages\\keras\\optimizers\\optimizer_experimental\\optimizer.py\", line 216, in _update_step\n",
      "        raise KeyError(\n",
      "\n",
      "    KeyError: 'The optimizer cannot recognize variable conv2d_44/kernel:0. This usually means you are trying to call the optimizer to update different parts of the model separately. Please call `optimizer.build(variables)` with the full list of trainable variables before the training loop or use legacy optimizer `tf.keras.optimizers.legacy.{self.__class__.__name__}.'\n",
      "\n",
      "\n",
      "--------------------------------------------------------------------------------\n",
      "1 fits failed with the following error:\n",
      "Traceback (most recent call last):\n",
      "  File \"E:\\Software\\anaconda3\\lib\\site-packages\\sklearn\\model_selection\\_validation.py\", line 680, in _fit_and_score\n",
      "    estimator.fit(X_train, y_train, **fit_params)\n",
      "  File \"C:\\Users\\MSS\\AppData\\Roaming\\Python\\Python39\\site-packages\\keras\\wrappers\\scikit_learn.py\", line 248, in fit\n",
      "    return super().fit(x, y, **kwargs)\n",
      "  File \"C:\\Users\\MSS\\AppData\\Roaming\\Python\\Python39\\site-packages\\keras\\wrappers\\scikit_learn.py\", line 175, in fit\n",
      "    history = self.model.fit(x, y, **fit_args)\n",
      "  File \"C:\\Users\\MSS\\AppData\\Roaming\\Python\\Python39\\site-packages\\keras\\utils\\traceback_utils.py\", line 70, in error_handler\n",
      "    raise e.with_traceback(filtered_tb) from None\n",
      "  File \"C:\\Users\\MSS\\AppData\\Local\\Temp\\__autograph_generated_fileinv8imar.py\", line 15, in tf__train_function\n",
      "    retval_ = ag__.converted_call(ag__.ld(step_function), (ag__.ld(self), ag__.ld(iterator)), None, fscope)\n",
      "tensorflow.python.autograph.pyct.error_utils.MultilineMessageKeyError: in user code:\n",
      "\n",
      "    File \"C:\\Users\\MSS\\AppData\\Roaming\\Python\\Python39\\site-packages\\keras\\engine\\training.py\", line 1249, in train_function  *\n",
      "        return step_function(self, iterator)\n",
      "    File \"C:\\Users\\MSS\\AppData\\Roaming\\Python\\Python39\\site-packages\\keras\\engine\\training.py\", line 1233, in step_function  **\n",
      "        outputs = model.distribute_strategy.run(run_step, args=(data,))\n",
      "    File \"C:\\Users\\MSS\\AppData\\Roaming\\Python\\Python39\\site-packages\\keras\\engine\\training.py\", line 1222, in run_step  **\n",
      "        outputs = model.train_step(data)\n",
      "    File \"C:\\Users\\MSS\\AppData\\Roaming\\Python\\Python39\\site-packages\\keras\\engine\\training.py\", line 1027, in train_step\n",
      "        self.optimizer.minimize(loss, self.trainable_variables, tape=tape)\n",
      "    File \"C:\\Users\\MSS\\AppData\\Roaming\\Python\\Python39\\site-packages\\keras\\optimizers\\optimizer_experimental\\optimizer.py\", line 527, in minimize\n",
      "        self.apply_gradients(grads_and_vars)\n",
      "    File \"C:\\Users\\MSS\\AppData\\Roaming\\Python\\Python39\\site-packages\\keras\\optimizers\\optimizer_experimental\\optimizer.py\", line 1140, in apply_gradients\n",
      "        return super().apply_gradients(grads_and_vars, name=name)\n",
      "    File \"C:\\Users\\MSS\\AppData\\Roaming\\Python\\Python39\\site-packages\\keras\\optimizers\\optimizer_experimental\\optimizer.py\", line 634, in apply_gradients\n",
      "        iteration = self._internal_apply_gradients(grads_and_vars)\n",
      "    File \"C:\\Users\\MSS\\AppData\\Roaming\\Python\\Python39\\site-packages\\keras\\optimizers\\optimizer_experimental\\optimizer.py\", line 1166, in _internal_apply_gradients\n",
      "        return tf.__internal__.distribute.interim.maybe_merge_call(\n",
      "    File \"C:\\Users\\MSS\\AppData\\Roaming\\Python\\Python39\\site-packages\\keras\\optimizers\\optimizer_experimental\\optimizer.py\", line 1216, in _distributed_apply_gradients_fn\n",
      "        distribution.extended.update(\n",
      "    File \"C:\\Users\\MSS\\AppData\\Roaming\\Python\\Python39\\site-packages\\keras\\optimizers\\optimizer_experimental\\optimizer.py\", line 1213, in apply_grad_to_update_var  **\n",
      "        return self._update_step(grad, var)\n",
      "    File \"C:\\Users\\MSS\\AppData\\Roaming\\Python\\Python39\\site-packages\\keras\\optimizers\\optimizer_experimental\\optimizer.py\", line 216, in _update_step\n",
      "        raise KeyError(\n",
      "\n",
      "    KeyError: 'The optimizer cannot recognize variable conv2d_46/kernel:0. This usually means you are trying to call the optimizer to update different parts of the model separately. Please call `optimizer.build(variables)` with the full list of trainable variables before the training loop or use legacy optimizer `tf.keras.optimizers.legacy.{self.__class__.__name__}.'\n",
      "\n",
      "\n",
      "--------------------------------------------------------------------------------\n",
      "1 fits failed with the following error:\n",
      "Traceback (most recent call last):\n",
      "  File \"E:\\Software\\anaconda3\\lib\\site-packages\\sklearn\\model_selection\\_validation.py\", line 680, in _fit_and_score\n",
      "    estimator.fit(X_train, y_train, **fit_params)\n",
      "  File \"C:\\Users\\MSS\\AppData\\Roaming\\Python\\Python39\\site-packages\\keras\\wrappers\\scikit_learn.py\", line 248, in fit\n",
      "    return super().fit(x, y, **kwargs)\n",
      "  File \"C:\\Users\\MSS\\AppData\\Roaming\\Python\\Python39\\site-packages\\keras\\wrappers\\scikit_learn.py\", line 175, in fit\n",
      "    history = self.model.fit(x, y, **fit_args)\n",
      "  File \"C:\\Users\\MSS\\AppData\\Roaming\\Python\\Python39\\site-packages\\keras\\utils\\traceback_utils.py\", line 70, in error_handler\n",
      "    raise e.with_traceback(filtered_tb) from None\n",
      "  File \"C:\\Users\\MSS\\AppData\\Local\\Temp\\__autograph_generated_fileinv8imar.py\", line 15, in tf__train_function\n",
      "    retval_ = ag__.converted_call(ag__.ld(step_function), (ag__.ld(self), ag__.ld(iterator)), None, fscope)\n",
      "tensorflow.python.autograph.pyct.error_utils.MultilineMessageKeyError: in user code:\n",
      "\n",
      "    File \"C:\\Users\\MSS\\AppData\\Roaming\\Python\\Python39\\site-packages\\keras\\engine\\training.py\", line 1249, in train_function  *\n",
      "        return step_function(self, iterator)\n",
      "    File \"C:\\Users\\MSS\\AppData\\Roaming\\Python\\Python39\\site-packages\\keras\\engine\\training.py\", line 1233, in step_function  **\n",
      "        outputs = model.distribute_strategy.run(run_step, args=(data,))\n",
      "    File \"C:\\Users\\MSS\\AppData\\Roaming\\Python\\Python39\\site-packages\\keras\\engine\\training.py\", line 1222, in run_step  **\n",
      "        outputs = model.train_step(data)\n",
      "    File \"C:\\Users\\MSS\\AppData\\Roaming\\Python\\Python39\\site-packages\\keras\\engine\\training.py\", line 1027, in train_step\n",
      "        self.optimizer.minimize(loss, self.trainable_variables, tape=tape)\n",
      "    File \"C:\\Users\\MSS\\AppData\\Roaming\\Python\\Python39\\site-packages\\keras\\optimizers\\optimizer_experimental\\optimizer.py\", line 527, in minimize\n",
      "        self.apply_gradients(grads_and_vars)\n",
      "    File \"C:\\Users\\MSS\\AppData\\Roaming\\Python\\Python39\\site-packages\\keras\\optimizers\\optimizer_experimental\\optimizer.py\", line 1140, in apply_gradients\n",
      "        return super().apply_gradients(grads_and_vars, name=name)\n",
      "    File \"C:\\Users\\MSS\\AppData\\Roaming\\Python\\Python39\\site-packages\\keras\\optimizers\\optimizer_experimental\\optimizer.py\", line 634, in apply_gradients\n",
      "        iteration = self._internal_apply_gradients(grads_and_vars)\n",
      "    File \"C:\\Users\\MSS\\AppData\\Roaming\\Python\\Python39\\site-packages\\keras\\optimizers\\optimizer_experimental\\optimizer.py\", line 1166, in _internal_apply_gradients\n",
      "        return tf.__internal__.distribute.interim.maybe_merge_call(\n",
      "    File \"C:\\Users\\MSS\\AppData\\Roaming\\Python\\Python39\\site-packages\\keras\\optimizers\\optimizer_experimental\\optimizer.py\", line 1216, in _distributed_apply_gradients_fn\n",
      "        distribution.extended.update(\n",
      "    File \"C:\\Users\\MSS\\AppData\\Roaming\\Python\\Python39\\site-packages\\keras\\optimizers\\optimizer_experimental\\optimizer.py\", line 1213, in apply_grad_to_update_var  **\n",
      "        return self._update_step(grad, var)\n",
      "    File \"C:\\Users\\MSS\\AppData\\Roaming\\Python\\Python39\\site-packages\\keras\\optimizers\\optimizer_experimental\\optimizer.py\", line 216, in _update_step\n",
      "        raise KeyError(\n",
      "\n",
      "    KeyError: 'The optimizer cannot recognize variable conv2d_48/kernel:0. This usually means you are trying to call the optimizer to update different parts of the model separately. Please call `optimizer.build(variables)` with the full list of trainable variables before the training loop or use legacy optimizer `tf.keras.optimizers.legacy.{self.__class__.__name__}.'\n",
      "\n",
      "\n",
      "--------------------------------------------------------------------------------\n",
      "1 fits failed with the following error:\n",
      "Traceback (most recent call last):\n",
      "  File \"E:\\Software\\anaconda3\\lib\\site-packages\\sklearn\\model_selection\\_validation.py\", line 680, in _fit_and_score\n",
      "    estimator.fit(X_train, y_train, **fit_params)\n",
      "  File \"C:\\Users\\MSS\\AppData\\Roaming\\Python\\Python39\\site-packages\\keras\\wrappers\\scikit_learn.py\", line 248, in fit\n",
      "    return super().fit(x, y, **kwargs)\n",
      "  File \"C:\\Users\\MSS\\AppData\\Roaming\\Python\\Python39\\site-packages\\keras\\wrappers\\scikit_learn.py\", line 175, in fit\n",
      "    history = self.model.fit(x, y, **fit_args)\n",
      "  File \"C:\\Users\\MSS\\AppData\\Roaming\\Python\\Python39\\site-packages\\keras\\utils\\traceback_utils.py\", line 70, in error_handler\n",
      "    raise e.with_traceback(filtered_tb) from None\n",
      "  File \"C:\\Users\\MSS\\AppData\\Local\\Temp\\__autograph_generated_fileinv8imar.py\", line 15, in tf__train_function\n",
      "    retval_ = ag__.converted_call(ag__.ld(step_function), (ag__.ld(self), ag__.ld(iterator)), None, fscope)\n",
      "tensorflow.python.autograph.pyct.error_utils.MultilineMessageKeyError: in user code:\n",
      "\n",
      "    File \"C:\\Users\\MSS\\AppData\\Roaming\\Python\\Python39\\site-packages\\keras\\engine\\training.py\", line 1249, in train_function  *\n",
      "        return step_function(self, iterator)\n",
      "    File \"C:\\Users\\MSS\\AppData\\Roaming\\Python\\Python39\\site-packages\\keras\\engine\\training.py\", line 1233, in step_function  **\n",
      "        outputs = model.distribute_strategy.run(run_step, args=(data,))\n",
      "    File \"C:\\Users\\MSS\\AppData\\Roaming\\Python\\Python39\\site-packages\\keras\\engine\\training.py\", line 1222, in run_step  **\n",
      "        outputs = model.train_step(data)\n",
      "    File \"C:\\Users\\MSS\\AppData\\Roaming\\Python\\Python39\\site-packages\\keras\\engine\\training.py\", line 1027, in train_step\n",
      "        self.optimizer.minimize(loss, self.trainable_variables, tape=tape)\n",
      "    File \"C:\\Users\\MSS\\AppData\\Roaming\\Python\\Python39\\site-packages\\keras\\optimizers\\optimizer_experimental\\optimizer.py\", line 527, in minimize\n",
      "        self.apply_gradients(grads_and_vars)\n",
      "    File \"C:\\Users\\MSS\\AppData\\Roaming\\Python\\Python39\\site-packages\\keras\\optimizers\\optimizer_experimental\\optimizer.py\", line 1140, in apply_gradients\n",
      "        return super().apply_gradients(grads_and_vars, name=name)\n",
      "    File \"C:\\Users\\MSS\\AppData\\Roaming\\Python\\Python39\\site-packages\\keras\\optimizers\\optimizer_experimental\\optimizer.py\", line 634, in apply_gradients\n",
      "        iteration = self._internal_apply_gradients(grads_and_vars)\n",
      "    File \"C:\\Users\\MSS\\AppData\\Roaming\\Python\\Python39\\site-packages\\keras\\optimizers\\optimizer_experimental\\optimizer.py\", line 1166, in _internal_apply_gradients\n",
      "        return tf.__internal__.distribute.interim.maybe_merge_call(\n",
      "    File \"C:\\Users\\MSS\\AppData\\Roaming\\Python\\Python39\\site-packages\\keras\\optimizers\\optimizer_experimental\\optimizer.py\", line 1216, in _distributed_apply_gradients_fn\n",
      "        distribution.extended.update(\n",
      "    File \"C:\\Users\\MSS\\AppData\\Roaming\\Python\\Python39\\site-packages\\keras\\optimizers\\optimizer_experimental\\optimizer.py\", line 1213, in apply_grad_to_update_var  **\n",
      "        return self._update_step(grad, var)\n",
      "    File \"C:\\Users\\MSS\\AppData\\Roaming\\Python\\Python39\\site-packages\\keras\\optimizers\\optimizer_experimental\\optimizer.py\", line 216, in _update_step\n",
      "        raise KeyError(\n",
      "\n",
      "    KeyError: 'The optimizer cannot recognize variable conv2d_50/kernel:0. This usually means you are trying to call the optimizer to update different parts of the model separately. Please call `optimizer.build(variables)` with the full list of trainable variables before the training loop or use legacy optimizer `tf.keras.optimizers.legacy.{self.__class__.__name__}.'\n",
      "\n",
      "\n",
      "  warnings.warn(some_fits_failed_message, FitFailedWarning)\n"
     ]
    },
    {
     "ename": "ValueError",
     "evalue": "Input contains NaN, infinity or a value too large for dtype('float64').",
     "output_type": "error",
     "traceback": [
      "\u001b[1;31m---------------------------------------------------------------------------\u001b[0m",
      "\u001b[1;31mStopIteration\u001b[0m                             Traceback (most recent call last)",
      "File \u001b[1;32mE:\\Software\\anaconda3\\lib\\site-packages\\bayes_opt\\bayesian_optimization.py:305\u001b[0m, in \u001b[0;36mBayesianOptimization.maximize\u001b[1;34m(self, init_points, n_iter, acquisition_function, acq, kappa, kappa_decay, kappa_decay_delay, xi, **gp_params)\u001b[0m\n\u001b[0;32m    304\u001b[0m \u001b[38;5;28;01mtry\u001b[39;00m:\n\u001b[1;32m--> 305\u001b[0m     x_probe \u001b[38;5;241m=\u001b[39m \u001b[38;5;28;43mnext\u001b[39;49m\u001b[43m(\u001b[49m\u001b[38;5;28;43mself\u001b[39;49m\u001b[38;5;241;43m.\u001b[39;49m\u001b[43m_queue\u001b[49m\u001b[43m)\u001b[49m\n\u001b[0;32m    306\u001b[0m \u001b[38;5;28;01mexcept\u001b[39;00m \u001b[38;5;167;01mStopIteration\u001b[39;00m:\n",
      "File \u001b[1;32mE:\\Software\\anaconda3\\lib\\site-packages\\bayes_opt\\bayesian_optimization.py:27\u001b[0m, in \u001b[0;36mQueue.__next__\u001b[1;34m(self)\u001b[0m\n\u001b[0;32m     26\u001b[0m \u001b[38;5;28;01mif\u001b[39;00m \u001b[38;5;28mself\u001b[39m\u001b[38;5;241m.\u001b[39mempty:\n\u001b[1;32m---> 27\u001b[0m     \u001b[38;5;28;01mraise\u001b[39;00m \u001b[38;5;167;01mStopIteration\u001b[39;00m(\u001b[38;5;124m\"\u001b[39m\u001b[38;5;124mQueue is empty, no more objects to retrieve.\u001b[39m\u001b[38;5;124m\"\u001b[39m)\n\u001b[0;32m     28\u001b[0m obj \u001b[38;5;241m=\u001b[39m \u001b[38;5;28mself\u001b[39m\u001b[38;5;241m.\u001b[39m_queue[\u001b[38;5;241m0\u001b[39m]\n",
      "\u001b[1;31mStopIteration\u001b[0m: Queue is empty, no more objects to retrieve.",
      "\nDuring handling of the above exception, another exception occurred:\n",
      "\u001b[1;31mValueError\u001b[0m                                Traceback (most recent call last)",
      "Input \u001b[1;32mIn [99]\u001b[0m, in \u001b[0;36m<cell line: 17>\u001b[1;34m()\u001b[0m\n\u001b[0;32m     15\u001b[0m \u001b[38;5;66;03m# Run Bayesian Optimization\u001b[39;00m\n\u001b[0;32m     16\u001b[0m nn_bo \u001b[38;5;241m=\u001b[39m BayesianOptimization(nn_cl_bo2, params_nn2, random_state\u001b[38;5;241m=\u001b[39m\u001b[38;5;241m111\u001b[39m)\n\u001b[1;32m---> 17\u001b[0m \u001b[43mnn_bo\u001b[49m\u001b[38;5;241;43m.\u001b[39;49m\u001b[43mmaximize\u001b[49m\u001b[43m(\u001b[49m\u001b[43minit_points\u001b[49m\u001b[38;5;241;43m=\u001b[39;49m\u001b[38;5;241;43m1\u001b[39;49m\u001b[43m,\u001b[49m\u001b[43m \u001b[49m\u001b[43mn_iter\u001b[49m\u001b[38;5;241;43m=\u001b[39;49m\u001b[38;5;241;43m1\u001b[39;49m\u001b[43m)\u001b[49m\n",
      "File \u001b[1;32mE:\\Software\\anaconda3\\lib\\site-packages\\bayes_opt\\bayesian_optimization.py:308\u001b[0m, in \u001b[0;36mBayesianOptimization.maximize\u001b[1;34m(self, init_points, n_iter, acquisition_function, acq, kappa, kappa_decay, kappa_decay_delay, xi, **gp_params)\u001b[0m\n\u001b[0;32m    306\u001b[0m \u001b[38;5;28;01mexcept\u001b[39;00m \u001b[38;5;167;01mStopIteration\u001b[39;00m:\n\u001b[0;32m    307\u001b[0m     util\u001b[38;5;241m.\u001b[39mupdate_params()\n\u001b[1;32m--> 308\u001b[0m     x_probe \u001b[38;5;241m=\u001b[39m \u001b[38;5;28;43mself\u001b[39;49m\u001b[38;5;241;43m.\u001b[39;49m\u001b[43msuggest\u001b[49m\u001b[43m(\u001b[49m\u001b[43mutil\u001b[49m\u001b[43m)\u001b[49m\n\u001b[0;32m    309\u001b[0m     iteration \u001b[38;5;241m+\u001b[39m\u001b[38;5;241m=\u001b[39m \u001b[38;5;241m1\u001b[39m\n\u001b[0;32m    310\u001b[0m \u001b[38;5;28mself\u001b[39m\u001b[38;5;241m.\u001b[39mprobe(x_probe, lazy\u001b[38;5;241m=\u001b[39m\u001b[38;5;28;01mFalse\u001b[39;00m)\n",
      "File \u001b[1;32mE:\\Software\\anaconda3\\lib\\site-packages\\bayes_opt\\bayesian_optimization.py:220\u001b[0m, in \u001b[0;36mBayesianOptimization.suggest\u001b[1;34m(self, utility_function)\u001b[0m\n\u001b[0;32m    218\u001b[0m \u001b[38;5;28;01mwith\u001b[39;00m warnings\u001b[38;5;241m.\u001b[39mcatch_warnings():\n\u001b[0;32m    219\u001b[0m     warnings\u001b[38;5;241m.\u001b[39msimplefilter(\u001b[38;5;124m\"\u001b[39m\u001b[38;5;124mignore\u001b[39m\u001b[38;5;124m\"\u001b[39m)\n\u001b[1;32m--> 220\u001b[0m     \u001b[38;5;28;43mself\u001b[39;49m\u001b[38;5;241;43m.\u001b[39;49m\u001b[43m_gp\u001b[49m\u001b[38;5;241;43m.\u001b[39;49m\u001b[43mfit\u001b[49m\u001b[43m(\u001b[49m\u001b[38;5;28;43mself\u001b[39;49m\u001b[38;5;241;43m.\u001b[39;49m\u001b[43m_space\u001b[49m\u001b[38;5;241;43m.\u001b[39;49m\u001b[43mparams\u001b[49m\u001b[43m,\u001b[49m\u001b[43m \u001b[49m\u001b[38;5;28;43mself\u001b[39;49m\u001b[38;5;241;43m.\u001b[39;49m\u001b[43m_space\u001b[49m\u001b[38;5;241;43m.\u001b[39;49m\u001b[43mtarget\u001b[49m\u001b[43m)\u001b[49m\n\u001b[0;32m    221\u001b[0m     \u001b[38;5;28;01mif\u001b[39;00m \u001b[38;5;28mself\u001b[39m\u001b[38;5;241m.\u001b[39mis_constrained:\n\u001b[0;32m    222\u001b[0m         \u001b[38;5;28mself\u001b[39m\u001b[38;5;241m.\u001b[39mconstraint\u001b[38;5;241m.\u001b[39mfit(\u001b[38;5;28mself\u001b[39m\u001b[38;5;241m.\u001b[39m_space\u001b[38;5;241m.\u001b[39mparams,\n\u001b[0;32m    223\u001b[0m                             \u001b[38;5;28mself\u001b[39m\u001b[38;5;241m.\u001b[39m_space\u001b[38;5;241m.\u001b[39m_constraint_values)\n",
      "File \u001b[1;32mE:\\Software\\anaconda3\\lib\\site-packages\\sklearn\\gaussian_process\\_gpr.py:224\u001b[0m, in \u001b[0;36mGaussianProcessRegressor.fit\u001b[1;34m(self, X, y)\u001b[0m\n\u001b[0;32m    222\u001b[0m \u001b[38;5;28;01melse\u001b[39;00m:\n\u001b[0;32m    223\u001b[0m     dtype, ensure_2d \u001b[38;5;241m=\u001b[39m \u001b[38;5;28;01mNone\u001b[39;00m, \u001b[38;5;28;01mFalse\u001b[39;00m\n\u001b[1;32m--> 224\u001b[0m X, y \u001b[38;5;241m=\u001b[39m \u001b[38;5;28;43mself\u001b[39;49m\u001b[38;5;241;43m.\u001b[39;49m\u001b[43m_validate_data\u001b[49m\u001b[43m(\u001b[49m\n\u001b[0;32m    225\u001b[0m \u001b[43m    \u001b[49m\u001b[43mX\u001b[49m\u001b[43m,\u001b[49m\n\u001b[0;32m    226\u001b[0m \u001b[43m    \u001b[49m\u001b[43my\u001b[49m\u001b[43m,\u001b[49m\n\u001b[0;32m    227\u001b[0m \u001b[43m    \u001b[49m\u001b[43mmulti_output\u001b[49m\u001b[38;5;241;43m=\u001b[39;49m\u001b[38;5;28;43;01mTrue\u001b[39;49;00m\u001b[43m,\u001b[49m\n\u001b[0;32m    228\u001b[0m \u001b[43m    \u001b[49m\u001b[43my_numeric\u001b[49m\u001b[38;5;241;43m=\u001b[39;49m\u001b[38;5;28;43;01mTrue\u001b[39;49;00m\u001b[43m,\u001b[49m\n\u001b[0;32m    229\u001b[0m \u001b[43m    \u001b[49m\u001b[43mensure_2d\u001b[49m\u001b[38;5;241;43m=\u001b[39;49m\u001b[43mensure_2d\u001b[49m\u001b[43m,\u001b[49m\n\u001b[0;32m    230\u001b[0m \u001b[43m    \u001b[49m\u001b[43mdtype\u001b[49m\u001b[38;5;241;43m=\u001b[39;49m\u001b[43mdtype\u001b[49m\u001b[43m,\u001b[49m\n\u001b[0;32m    231\u001b[0m \u001b[43m\u001b[49m\u001b[43m)\u001b[49m\n\u001b[0;32m    233\u001b[0m \u001b[38;5;66;03m# Normalize target value\u001b[39;00m\n\u001b[0;32m    234\u001b[0m \u001b[38;5;28;01mif\u001b[39;00m \u001b[38;5;28mself\u001b[39m\u001b[38;5;241m.\u001b[39mnormalize_y:\n",
      "File \u001b[1;32mE:\\Software\\anaconda3\\lib\\site-packages\\sklearn\\base.py:581\u001b[0m, in \u001b[0;36mBaseEstimator._validate_data\u001b[1;34m(self, X, y, reset, validate_separately, **check_params)\u001b[0m\n\u001b[0;32m    579\u001b[0m         y \u001b[38;5;241m=\u001b[39m check_array(y, \u001b[38;5;241m*\u001b[39m\u001b[38;5;241m*\u001b[39mcheck_y_params)\n\u001b[0;32m    580\u001b[0m     \u001b[38;5;28;01melse\u001b[39;00m:\n\u001b[1;32m--> 581\u001b[0m         X, y \u001b[38;5;241m=\u001b[39m check_X_y(X, y, \u001b[38;5;241m*\u001b[39m\u001b[38;5;241m*\u001b[39mcheck_params)\n\u001b[0;32m    582\u001b[0m     out \u001b[38;5;241m=\u001b[39m X, y\n\u001b[0;32m    584\u001b[0m \u001b[38;5;28;01mif\u001b[39;00m \u001b[38;5;129;01mnot\u001b[39;00m no_val_X \u001b[38;5;129;01mand\u001b[39;00m check_params\u001b[38;5;241m.\u001b[39mget(\u001b[38;5;124m\"\u001b[39m\u001b[38;5;124mensure_2d\u001b[39m\u001b[38;5;124m\"\u001b[39m, \u001b[38;5;28;01mTrue\u001b[39;00m):\n",
      "File \u001b[1;32mE:\\Software\\anaconda3\\lib\\site-packages\\sklearn\\utils\\validation.py:979\u001b[0m, in \u001b[0;36mcheck_X_y\u001b[1;34m(X, y, accept_sparse, accept_large_sparse, dtype, order, copy, force_all_finite, ensure_2d, allow_nd, multi_output, ensure_min_samples, ensure_min_features, y_numeric, estimator)\u001b[0m\n\u001b[0;32m    962\u001b[0m     \u001b[38;5;28;01mraise\u001b[39;00m \u001b[38;5;167;01mValueError\u001b[39;00m(\u001b[38;5;124m\"\u001b[39m\u001b[38;5;124my cannot be None\u001b[39m\u001b[38;5;124m\"\u001b[39m)\n\u001b[0;32m    964\u001b[0m X \u001b[38;5;241m=\u001b[39m check_array(\n\u001b[0;32m    965\u001b[0m     X,\n\u001b[0;32m    966\u001b[0m     accept_sparse\u001b[38;5;241m=\u001b[39maccept_sparse,\n\u001b[1;32m   (...)\u001b[0m\n\u001b[0;32m    976\u001b[0m     estimator\u001b[38;5;241m=\u001b[39mestimator,\n\u001b[0;32m    977\u001b[0m )\n\u001b[1;32m--> 979\u001b[0m y \u001b[38;5;241m=\u001b[39m \u001b[43m_check_y\u001b[49m\u001b[43m(\u001b[49m\u001b[43my\u001b[49m\u001b[43m,\u001b[49m\u001b[43m \u001b[49m\u001b[43mmulti_output\u001b[49m\u001b[38;5;241;43m=\u001b[39;49m\u001b[43mmulti_output\u001b[49m\u001b[43m,\u001b[49m\u001b[43m \u001b[49m\u001b[43my_numeric\u001b[49m\u001b[38;5;241;43m=\u001b[39;49m\u001b[43my_numeric\u001b[49m\u001b[43m)\u001b[49m\n\u001b[0;32m    981\u001b[0m check_consistent_length(X, y)\n\u001b[0;32m    983\u001b[0m \u001b[38;5;28;01mreturn\u001b[39;00m X, y\n",
      "File \u001b[1;32mE:\\Software\\anaconda3\\lib\\site-packages\\sklearn\\utils\\validation.py:989\u001b[0m, in \u001b[0;36m_check_y\u001b[1;34m(y, multi_output, y_numeric)\u001b[0m\n\u001b[0;32m    987\u001b[0m \u001b[38;5;124;03m\"\"\"Isolated part of check_X_y dedicated to y validation\"\"\"\u001b[39;00m\n\u001b[0;32m    988\u001b[0m \u001b[38;5;28;01mif\u001b[39;00m multi_output:\n\u001b[1;32m--> 989\u001b[0m     y \u001b[38;5;241m=\u001b[39m \u001b[43mcheck_array\u001b[49m\u001b[43m(\u001b[49m\n\u001b[0;32m    990\u001b[0m \u001b[43m        \u001b[49m\u001b[43my\u001b[49m\u001b[43m,\u001b[49m\u001b[43m \u001b[49m\u001b[43maccept_sparse\u001b[49m\u001b[38;5;241;43m=\u001b[39;49m\u001b[38;5;124;43m\"\u001b[39;49m\u001b[38;5;124;43mcsr\u001b[39;49m\u001b[38;5;124;43m\"\u001b[39;49m\u001b[43m,\u001b[49m\u001b[43m \u001b[49m\u001b[43mforce_all_finite\u001b[49m\u001b[38;5;241;43m=\u001b[39;49m\u001b[38;5;28;43;01mTrue\u001b[39;49;00m\u001b[43m,\u001b[49m\u001b[43m \u001b[49m\u001b[43mensure_2d\u001b[49m\u001b[38;5;241;43m=\u001b[39;49m\u001b[38;5;28;43;01mFalse\u001b[39;49;00m\u001b[43m,\u001b[49m\u001b[43m \u001b[49m\u001b[43mdtype\u001b[49m\u001b[38;5;241;43m=\u001b[39;49m\u001b[38;5;28;43;01mNone\u001b[39;49;00m\n\u001b[0;32m    991\u001b[0m \u001b[43m    \u001b[49m\u001b[43m)\u001b[49m\n\u001b[0;32m    992\u001b[0m \u001b[38;5;28;01melse\u001b[39;00m:\n\u001b[0;32m    993\u001b[0m     y \u001b[38;5;241m=\u001b[39m column_or_1d(y, warn\u001b[38;5;241m=\u001b[39m\u001b[38;5;28;01mTrue\u001b[39;00m)\n",
      "File \u001b[1;32mE:\\Software\\anaconda3\\lib\\site-packages\\sklearn\\utils\\validation.py:800\u001b[0m, in \u001b[0;36mcheck_array\u001b[1;34m(array, accept_sparse, accept_large_sparse, dtype, order, copy, force_all_finite, ensure_2d, allow_nd, ensure_min_samples, ensure_min_features, estimator)\u001b[0m\n\u001b[0;32m    794\u001b[0m         \u001b[38;5;28;01mraise\u001b[39;00m \u001b[38;5;167;01mValueError\u001b[39;00m(\n\u001b[0;32m    795\u001b[0m             \u001b[38;5;124m\"\u001b[39m\u001b[38;5;124mFound array with dim \u001b[39m\u001b[38;5;132;01m%d\u001b[39;00m\u001b[38;5;124m. \u001b[39m\u001b[38;5;132;01m%s\u001b[39;00m\u001b[38;5;124m expected <= 2.\u001b[39m\u001b[38;5;124m\"\u001b[39m\n\u001b[0;32m    796\u001b[0m             \u001b[38;5;241m%\u001b[39m (array\u001b[38;5;241m.\u001b[39mndim, estimator_name)\n\u001b[0;32m    797\u001b[0m         )\n\u001b[0;32m    799\u001b[0m     \u001b[38;5;28;01mif\u001b[39;00m force_all_finite:\n\u001b[1;32m--> 800\u001b[0m         \u001b[43m_assert_all_finite\u001b[49m\u001b[43m(\u001b[49m\u001b[43marray\u001b[49m\u001b[43m,\u001b[49m\u001b[43m \u001b[49m\u001b[43mallow_nan\u001b[49m\u001b[38;5;241;43m=\u001b[39;49m\u001b[43mforce_all_finite\u001b[49m\u001b[43m \u001b[49m\u001b[38;5;241;43m==\u001b[39;49m\u001b[43m \u001b[49m\u001b[38;5;124;43m\"\u001b[39;49m\u001b[38;5;124;43mallow-nan\u001b[39;49m\u001b[38;5;124;43m\"\u001b[39;49m\u001b[43m)\u001b[49m\n\u001b[0;32m    802\u001b[0m \u001b[38;5;28;01mif\u001b[39;00m ensure_min_samples \u001b[38;5;241m>\u001b[39m \u001b[38;5;241m0\u001b[39m:\n\u001b[0;32m    803\u001b[0m     n_samples \u001b[38;5;241m=\u001b[39m _num_samples(array)\n",
      "File \u001b[1;32mE:\\Software\\anaconda3\\lib\\site-packages\\sklearn\\utils\\validation.py:114\u001b[0m, in \u001b[0;36m_assert_all_finite\u001b[1;34m(X, allow_nan, msg_dtype)\u001b[0m\n\u001b[0;32m    107\u001b[0m     \u001b[38;5;28;01mif\u001b[39;00m (\n\u001b[0;32m    108\u001b[0m         allow_nan\n\u001b[0;32m    109\u001b[0m         \u001b[38;5;129;01mand\u001b[39;00m np\u001b[38;5;241m.\u001b[39misinf(X)\u001b[38;5;241m.\u001b[39many()\n\u001b[0;32m    110\u001b[0m         \u001b[38;5;129;01mor\u001b[39;00m \u001b[38;5;129;01mnot\u001b[39;00m allow_nan\n\u001b[0;32m    111\u001b[0m         \u001b[38;5;129;01mand\u001b[39;00m \u001b[38;5;129;01mnot\u001b[39;00m np\u001b[38;5;241m.\u001b[39misfinite(X)\u001b[38;5;241m.\u001b[39mall()\n\u001b[0;32m    112\u001b[0m     ):\n\u001b[0;32m    113\u001b[0m         type_err \u001b[38;5;241m=\u001b[39m \u001b[38;5;124m\"\u001b[39m\u001b[38;5;124minfinity\u001b[39m\u001b[38;5;124m\"\u001b[39m \u001b[38;5;28;01mif\u001b[39;00m allow_nan \u001b[38;5;28;01melse\u001b[39;00m \u001b[38;5;124m\"\u001b[39m\u001b[38;5;124mNaN, infinity\u001b[39m\u001b[38;5;124m\"\u001b[39m\n\u001b[1;32m--> 114\u001b[0m         \u001b[38;5;28;01mraise\u001b[39;00m \u001b[38;5;167;01mValueError\u001b[39;00m(\n\u001b[0;32m    115\u001b[0m             msg_err\u001b[38;5;241m.\u001b[39mformat(\n\u001b[0;32m    116\u001b[0m                 type_err, msg_dtype \u001b[38;5;28;01mif\u001b[39;00m msg_dtype \u001b[38;5;129;01mis\u001b[39;00m \u001b[38;5;129;01mnot\u001b[39;00m \u001b[38;5;28;01mNone\u001b[39;00m \u001b[38;5;28;01melse\u001b[39;00m X\u001b[38;5;241m.\u001b[39mdtype\n\u001b[0;32m    117\u001b[0m             )\n\u001b[0;32m    118\u001b[0m         )\n\u001b[0;32m    119\u001b[0m \u001b[38;5;66;03m# for object dtype data, we only check for NaNs (GH-13254)\u001b[39;00m\n\u001b[0;32m    120\u001b[0m \u001b[38;5;28;01melif\u001b[39;00m X\u001b[38;5;241m.\u001b[39mdtype \u001b[38;5;241m==\u001b[39m np\u001b[38;5;241m.\u001b[39mdtype(\u001b[38;5;124m\"\u001b[39m\u001b[38;5;124mobject\u001b[39m\u001b[38;5;124m\"\u001b[39m) \u001b[38;5;129;01mand\u001b[39;00m \u001b[38;5;129;01mnot\u001b[39;00m allow_nan:\n",
      "\u001b[1;31mValueError\u001b[0m: Input contains NaN, infinity or a value too large for dtype('float64')."
     ]
    }
   ],
   "source": [
    "params_nn2 ={\n",
    "    'neurons': (32, 50),\n",
    "    'activation':(0, 1),\n",
    "    'optimizer':(0,1),\n",
    "    'learning_rate':(0.01, 1),\n",
    "    'batch_size':(200, 1000),\n",
    "    'epochs':(20, 100),\n",
    "    'layers1':(1,3),\n",
    "    'layers2':(1,3),\n",
    "    'normalization':(0,1),\n",
    "    'dropout':(0,1),\n",
    "    'dropout_rate':(0,0.3)\n",
    "}\n",
    "\n",
    "# Run Bayesian Optimization\n",
    "nn_bo = BayesianOptimization(nn_cl_bo2, params_nn2, random_state=111)\n",
    "nn_bo.maximize(init_points=1, n_iter=1)"
   ]
  },
  {
   "cell_type": "code",
   "execution_count": null,
   "id": "81d240a5",
   "metadata": {},
   "outputs": [],
   "source": []
  },
  {
   "cell_type": "code",
   "execution_count": null,
   "id": "ce3f9f44",
   "metadata": {},
   "outputs": [],
   "source": []
  },
  {
   "cell_type": "code",
   "execution_count": null,
   "id": "2007d2a9",
   "metadata": {},
   "outputs": [],
   "source": []
  },
  {
   "cell_type": "code",
   "execution_count": null,
   "id": "6a7e3aa3",
   "metadata": {},
   "outputs": [],
   "source": []
  },
  {
   "cell_type": "code",
   "execution_count": 501,
   "id": "6eb053d5",
   "metadata": {},
   "outputs": [],
   "source": [
    "from tensorflow.keras.callbacks import EarlyStopping\n",
    "from tensorflow.keras.optimizers import Adam, SGD\n",
    "\n",
    "\n",
    "callbacks = [\n",
    "    EarlyStopping(monitor='val_loss', patience=5, restore_best_weights=False)\n",
    "]"
   ]
  },
  {
   "cell_type": "code",
   "execution_count": 482,
   "id": "1331ea9e",
   "metadata": {},
   "outputs": [
    {
     "name": "stdout",
     "output_type": "stream",
     "text": [
      "Epoch 1/100\n",
      "696/696 [==============================] - 28s 36ms/step - loss: 3.0590 - accuracy: 0.1581 - val_loss: 2.5794 - val_accuracy: 0.2789\n",
      "Epoch 2/100\n",
      "696/696 [==============================] - 25s 35ms/step - loss: 1.9992 - accuracy: 0.3987 - val_loss: 1.7609 - val_accuracy: 0.4730\n",
      "Epoch 3/100\n",
      "696/696 [==============================] - 24s 35ms/step - loss: 1.5122 - accuracy: 0.5326 - val_loss: 1.4390 - val_accuracy: 0.5943\n",
      "Epoch 4/100\n",
      "696/696 [==============================] - 24s 34ms/step - loss: 1.2645 - accuracy: 0.6057 - val_loss: 1.2531 - val_accuracy: 0.6499\n",
      "Epoch 5/100\n",
      "696/696 [==============================] - 25s 37ms/step - loss: 1.1245 - accuracy: 0.6506 - val_loss: 1.1343 - val_accuracy: 0.6857\n",
      "Epoch 6/100\n",
      "696/696 [==============================] - 24s 35ms/step - loss: 1.0261 - accuracy: 0.6837 - val_loss: 1.0500 - val_accuracy: 0.6952\n",
      "Epoch 7/100\n",
      "696/696 [==============================] - 24s 35ms/step - loss: 0.9351 - accuracy: 0.7105 - val_loss: 0.9914 - val_accuracy: 0.7277\n",
      "Epoch 8/100\n",
      "696/696 [==============================] - 24s 35ms/step - loss: 0.8802 - accuracy: 0.7293 - val_loss: 0.9228 - val_accuracy: 0.7524\n",
      "Epoch 9/100\n",
      "696/696 [==============================] - 23s 34ms/step - loss: 0.8275 - accuracy: 0.7457 - val_loss: 0.9117 - val_accuracy: 0.7512\n",
      "Epoch 10/100\n",
      "696/696 [==============================] - 29s 41ms/step - loss: 0.7807 - accuracy: 0.7568 - val_loss: 0.8012 - val_accuracy: 0.7900\n",
      "Epoch 11/100\n",
      "696/696 [==============================] - 26s 37ms/step - loss: 0.7524 - accuracy: 0.7648 - val_loss: 0.8379 - val_accuracy: 0.7658\n",
      "Epoch 12/100\n",
      "696/696 [==============================] - 23s 34ms/step - loss: 0.7164 - accuracy: 0.7753 - val_loss: 0.7835 - val_accuracy: 0.7832\n",
      "Epoch 13/100\n",
      "696/696 [==============================] - 24s 34ms/step - loss: 0.6933 - accuracy: 0.7853 - val_loss: 0.7538 - val_accuracy: 0.7893\n",
      "Epoch 14/100\n",
      "696/696 [==============================] - 23s 33ms/step - loss: 0.6794 - accuracy: 0.7890 - val_loss: 0.7760 - val_accuracy: 0.7898\n",
      "Epoch 15/100\n",
      "696/696 [==============================] - 23s 33ms/step - loss: 0.6535 - accuracy: 0.7991 - val_loss: 0.7489 - val_accuracy: 0.7923\n",
      "Epoch 16/100\n",
      "696/696 [==============================] - 23s 34ms/step - loss: 0.6433 - accuracy: 0.7979 - val_loss: 0.7385 - val_accuracy: 0.7991\n",
      "Epoch 17/100\n",
      "696/696 [==============================] - 27s 39ms/step - loss: 0.6150 - accuracy: 0.8073 - val_loss: 0.7066 - val_accuracy: 0.8156\n",
      "Epoch 18/100\n",
      "696/696 [==============================] - 28s 40ms/step - loss: 0.6102 - accuracy: 0.8117 - val_loss: 0.6942 - val_accuracy: 0.8132\n",
      "Epoch 19/100\n",
      "696/696 [==============================] - 24s 34ms/step - loss: 0.5920 - accuracy: 0.8154 - val_loss: 0.7095 - val_accuracy: 0.8023\n",
      "Epoch 20/100\n",
      "696/696 [==============================] - 24s 35ms/step - loss: 0.5826 - accuracy: 0.8182 - val_loss: 0.6860 - val_accuracy: 0.8170\n",
      "Epoch 21/100\n",
      "696/696 [==============================] - 24s 35ms/step - loss: 0.5723 - accuracy: 0.8211 - val_loss: 0.6990 - val_accuracy: 0.8129\n",
      "Epoch 22/100\n",
      "696/696 [==============================] - 38s 55ms/step - loss: 0.5661 - accuracy: 0.8216 - val_loss: 0.6788 - val_accuracy: 0.8166\n",
      "Epoch 23/100\n",
      "696/696 [==============================] - 30s 44ms/step - loss: 0.5504 - accuracy: 0.8283 - val_loss: 0.6885 - val_accuracy: 0.8141\n",
      "Epoch 24/100\n",
      "696/696 [==============================] - 28s 40ms/step - loss: 0.5362 - accuracy: 0.8356 - val_loss: 0.6596 - val_accuracy: 0.8252\n",
      "Epoch 25/100\n",
      "696/696 [==============================] - 27s 38ms/step - loss: 0.5294 - accuracy: 0.8345 - val_loss: 0.6916 - val_accuracy: 0.8215\n",
      "Epoch 26/100\n",
      "696/696 [==============================] - 24s 35ms/step - loss: 0.5281 - accuracy: 0.8352 - val_loss: 0.6839 - val_accuracy: 0.8215\n",
      "Epoch 27/100\n",
      "696/696 [==============================] - 24s 34ms/step - loss: 0.5222 - accuracy: 0.8355 - val_loss: 0.6853 - val_accuracy: 0.8209\n",
      "Epoch 28/100\n",
      "696/696 [==============================] - 22s 32ms/step - loss: 0.5119 - accuracy: 0.8387 - val_loss: 0.6851 - val_accuracy: 0.8254\n",
      "Epoch 29/100\n",
      "696/696 [==============================] - 22s 32ms/step - loss: 0.5049 - accuracy: 0.8422 - val_loss: 0.7155 - val_accuracy: 0.8320\n"
     ]
    }
   ],
   "source": [
    "cnn_seq_updated = models.Sequential()\n",
    "\n",
    "cnn_seq_updated.add(layers.Conv2D(6, (5,5), activation='relu'), input_shape=(32,32,1))\n",
    "cnn_seq_updated.add(layers.MaxPooling2D(4,4))\n",
    "\n",
    "cnn_seq_updated.add(layers.Dropout(0.2))\n",
    "\n",
    "cnn_seq_updated.add(layers.Conv2D(16, (5,5), activation='relu'))\n",
    "cnn_seq_updated.add(layers.MaxPooling2D(3,3))\n",
    "\n",
    "cnn_seq_updated.add(layers.Flatten())\n",
    "\n",
    "cnn_seq_updated.add(layers.Dense(120, activation='relu'))\n",
    "cnn_seq_updated.add(layers.Dense(84, activation='relu'))\n",
    "\n",
    "cnn_seq_updated.add(layers.Dense(43, activation='softmax'))\n",
    "\n",
    "cnn_seq_updated.compile(optimizer='Adam', loss='sparse_categorical_crossentropy', metrics=['accuracy'])\n",
    "history_updated = cnn_seq_updated.fit(x_train_gray_norm, y_train, batch_size=50, epochs=100, \n",
    "                                      verbose=1, validation_data=(x_val_gray_norm, y_val), callbacks=callbacks)"
   ]
  },
  {
   "cell_type": "code",
   "execution_count": 483,
   "id": "57c87f15",
   "metadata": {},
   "outputs": [
    {
     "name": "stdout",
     "output_type": "stream",
     "text": [
      "Epoch 1/100\n",
      "696/696 [==============================] - 24s 32ms/step - loss: 3.5444 - accuracy: 0.0667 - val_loss: 3.5368 - val_accuracy: 0.0782\n",
      "Epoch 2/100\n",
      "696/696 [==============================] - 23s 33ms/step - loss: 3.3928 - accuracy: 0.0923 - val_loss: 3.5183 - val_accuracy: 0.0794\n",
      "Epoch 3/100\n",
      "696/696 [==============================] - 23s 33ms/step - loss: 3.3413 - accuracy: 0.1024 - val_loss: 3.4935 - val_accuracy: 0.0796\n",
      "Epoch 4/100\n",
      "696/696 [==============================] - 22s 32ms/step - loss: 3.2646 - accuracy: 0.1193 - val_loss: 3.4161 - val_accuracy: 0.1075\n",
      "Epoch 5/100\n",
      "696/696 [==============================] - 26s 38ms/step - loss: 3.1229 - accuracy: 0.1519 - val_loss: 3.2328 - val_accuracy: 0.1492\n",
      "Epoch 6/100\n",
      "696/696 [==============================] - 23s 33ms/step - loss: 2.9012 - accuracy: 0.2038 - val_loss: 2.9087 - val_accuracy: 0.2175\n",
      "Epoch 7/100\n",
      "696/696 [==============================] - 22s 32ms/step - loss: 2.6295 - accuracy: 0.2606 - val_loss: 2.6035 - val_accuracy: 0.2746\n",
      "Epoch 8/100\n",
      "696/696 [==============================] - 21s 31ms/step - loss: 2.3950 - accuracy: 0.3070 - val_loss: 2.4273 - val_accuracy: 0.2864\n",
      "Epoch 9/100\n",
      "696/696 [==============================] - 28s 40ms/step - loss: 2.2072 - accuracy: 0.3510 - val_loss: 2.2145 - val_accuracy: 0.3649\n",
      "Epoch 10/100\n",
      "696/696 [==============================] - 24s 35ms/step - loss: 2.0457 - accuracy: 0.3927 - val_loss: 2.0558 - val_accuracy: 0.4161\n",
      "Epoch 11/100\n",
      "696/696 [==============================] - 25s 35ms/step - loss: 1.9004 - accuracy: 0.4344 - val_loss: 1.9254 - val_accuracy: 0.4395\n",
      "Epoch 12/100\n",
      "696/696 [==============================] - 22s 32ms/step - loss: 1.7562 - accuracy: 0.4723 - val_loss: 1.8054 - val_accuracy: 0.4980\n",
      "Epoch 13/100\n",
      "696/696 [==============================] - 24s 35ms/step - loss: 1.6344 - accuracy: 0.5089 - val_loss: 1.6886 - val_accuracy: 0.5138\n",
      "Epoch 14/100\n",
      "696/696 [==============================] - 22s 32ms/step - loss: 1.5294 - accuracy: 0.5401 - val_loss: 1.6152 - val_accuracy: 0.5476\n",
      "Epoch 15/100\n",
      "696/696 [==============================] - 22s 32ms/step - loss: 1.4231 - accuracy: 0.5697 - val_loss: 1.5160 - val_accuracy: 0.5764\n",
      "Epoch 16/100\n",
      "696/696 [==============================] - 22s 31ms/step - loss: 1.3418 - accuracy: 0.5964 - val_loss: 1.4471 - val_accuracy: 0.6122\n",
      "Epoch 17/100\n",
      "696/696 [==============================] - 22s 32ms/step - loss: 1.2666 - accuracy: 0.6148 - val_loss: 1.3714 - val_accuracy: 0.6125\n",
      "Epoch 18/100\n",
      "696/696 [==============================] - 22s 31ms/step - loss: 1.2119 - accuracy: 0.6365 - val_loss: 1.3601 - val_accuracy: 0.6379\n",
      "Epoch 19/100\n",
      "696/696 [==============================] - 22s 32ms/step - loss: 1.1663 - accuracy: 0.6501 - val_loss: 1.3395 - val_accuracy: 0.6458\n",
      "Epoch 20/100\n",
      "696/696 [==============================] - 24s 34ms/step - loss: 1.1258 - accuracy: 0.6622 - val_loss: 1.2605 - val_accuracy: 0.6723\n",
      "Epoch 21/100\n",
      "696/696 [==============================] - 23s 33ms/step - loss: 1.0877 - accuracy: 0.6709 - val_loss: 1.2485 - val_accuracy: 0.6789\n",
      "Epoch 22/100\n",
      "696/696 [==============================] - 23s 33ms/step - loss: 1.0571 - accuracy: 0.6815 - val_loss: 1.2351 - val_accuracy: 0.6918\n",
      "Epoch 23/100\n",
      "696/696 [==============================] - 23s 33ms/step - loss: 1.0209 - accuracy: 0.6903 - val_loss: 1.2175 - val_accuracy: 0.6959\n",
      "Epoch 24/100\n",
      "696/696 [==============================] - 23s 33ms/step - loss: 0.9916 - accuracy: 0.7010 - val_loss: 1.1941 - val_accuracy: 0.7014\n",
      "Epoch 25/100\n",
      "696/696 [==============================] - 23s 34ms/step - loss: 0.9816 - accuracy: 0.7051 - val_loss: 1.1887 - val_accuracy: 0.6959\n",
      "Epoch 26/100\n",
      "696/696 [==============================] - 23s 33ms/step - loss: 0.9509 - accuracy: 0.7143 - val_loss: 1.2070 - val_accuracy: 0.6918\n",
      "Epoch 27/100\n",
      "696/696 [==============================] - 23s 33ms/step - loss: 0.9299 - accuracy: 0.7170 - val_loss: 1.1855 - val_accuracy: 0.7050\n",
      "Epoch 28/100\n",
      "696/696 [==============================] - 23s 33ms/step - loss: 0.9113 - accuracy: 0.7244 - val_loss: 1.1358 - val_accuracy: 0.7111\n",
      "Epoch 29/100\n",
      "696/696 [==============================] - 23s 33ms/step - loss: 0.8892 - accuracy: 0.7315 - val_loss: 1.1485 - val_accuracy: 0.7141\n",
      "Epoch 30/100\n",
      "696/696 [==============================] - 23s 33ms/step - loss: 0.8721 - accuracy: 0.7353 - val_loss: 1.1308 - val_accuracy: 0.7113\n",
      "Epoch 31/100\n",
      "696/696 [==============================] - 25s 36ms/step - loss: 0.8538 - accuracy: 0.7404 - val_loss: 1.1297 - val_accuracy: 0.7227\n",
      "Epoch 32/100\n",
      "696/696 [==============================] - 25s 36ms/step - loss: 0.8394 - accuracy: 0.7451 - val_loss: 1.0625 - val_accuracy: 0.7281\n",
      "Epoch 33/100\n",
      "696/696 [==============================] - 30s 43ms/step - loss: 0.8219 - accuracy: 0.7496 - val_loss: 1.0842 - val_accuracy: 0.7317\n",
      "Epoch 34/100\n",
      "696/696 [==============================] - 27s 39ms/step - loss: 0.8056 - accuracy: 0.7559 - val_loss: 1.0778 - val_accuracy: 0.7322\n",
      "Epoch 35/100\n",
      "696/696 [==============================] - 30s 43ms/step - loss: 0.7941 - accuracy: 0.7560 - val_loss: 1.0421 - val_accuracy: 0.7349\n",
      "Epoch 36/100\n",
      "696/696 [==============================] - 28s 41ms/step - loss: 0.7816 - accuracy: 0.7640 - val_loss: 1.0363 - val_accuracy: 0.7438\n",
      "Epoch 37/100\n",
      "696/696 [==============================] - 27s 39ms/step - loss: 0.7632 - accuracy: 0.7703 - val_loss: 1.0302 - val_accuracy: 0.7342\n",
      "Epoch 38/100\n",
      "696/696 [==============================] - 27s 39ms/step - loss: 0.7487 - accuracy: 0.7723 - val_loss: 0.9884 - val_accuracy: 0.7517\n",
      "Epoch 39/100\n",
      "696/696 [==============================] - 28s 40ms/step - loss: 0.7372 - accuracy: 0.7754 - val_loss: 1.0048 - val_accuracy: 0.7460\n",
      "Epoch 40/100\n",
      "696/696 [==============================] - 31s 44ms/step - loss: 0.7342 - accuracy: 0.7748 - val_loss: 0.9517 - val_accuracy: 0.7574\n",
      "Epoch 41/100\n",
      "696/696 [==============================] - 30s 43ms/step - loss: 0.7181 - accuracy: 0.7814 - val_loss: 0.9373 - val_accuracy: 0.7658\n",
      "Epoch 42/100\n",
      "696/696 [==============================] - 24s 35ms/step - loss: 0.7151 - accuracy: 0.7840 - val_loss: 0.9344 - val_accuracy: 0.7673\n",
      "Epoch 43/100\n",
      "696/696 [==============================] - 24s 34ms/step - loss: 0.7028 - accuracy: 0.7884 - val_loss: 0.9702 - val_accuracy: 0.7506\n",
      "Epoch 44/100\n",
      "696/696 [==============================] - 24s 35ms/step - loss: 0.6932 - accuracy: 0.7873 - val_loss: 0.9314 - val_accuracy: 0.7624\n",
      "Epoch 45/100\n",
      "696/696 [==============================] - 24s 35ms/step - loss: 0.6839 - accuracy: 0.7930 - val_loss: 0.9058 - val_accuracy: 0.7712\n",
      "Epoch 46/100\n",
      "696/696 [==============================] - 23s 33ms/step - loss: 0.6759 - accuracy: 0.7947 - val_loss: 0.8904 - val_accuracy: 0.7714\n",
      "Epoch 47/100\n",
      "696/696 [==============================] - 23s 34ms/step - loss: 0.6674 - accuracy: 0.7963 - val_loss: 0.9187 - val_accuracy: 0.7721\n",
      "Epoch 48/100\n",
      "696/696 [==============================] - 24s 34ms/step - loss: 0.6552 - accuracy: 0.8005 - val_loss: 0.9329 - val_accuracy: 0.7630\n",
      "Epoch 49/100\n",
      "696/696 [==============================] - 23s 34ms/step - loss: 0.6600 - accuracy: 0.7991 - val_loss: 0.8530 - val_accuracy: 0.7821\n",
      "Epoch 50/100\n",
      "696/696 [==============================] - 24s 35ms/step - loss: 0.6581 - accuracy: 0.8000 - val_loss: 0.8771 - val_accuracy: 0.7762\n",
      "Epoch 51/100\n",
      "696/696 [==============================] - 24s 34ms/step - loss: 0.6487 - accuracy: 0.8017 - val_loss: 0.8472 - val_accuracy: 0.7805\n",
      "Epoch 52/100\n",
      "696/696 [==============================] - 23s 34ms/step - loss: 0.6377 - accuracy: 0.8051 - val_loss: 0.8195 - val_accuracy: 0.7850\n",
      "Epoch 53/100\n",
      "696/696 [==============================] - 24s 35ms/step - loss: 0.6195 - accuracy: 0.8084 - val_loss: 0.8135 - val_accuracy: 0.7893\n",
      "Epoch 54/100\n",
      "696/696 [==============================] - 24s 34ms/step - loss: 0.6280 - accuracy: 0.8101 - val_loss: 0.8272 - val_accuracy: 0.7948\n",
      "Epoch 55/100\n",
      "696/696 [==============================] - 24s 34ms/step - loss: 0.6186 - accuracy: 0.8125 - val_loss: 0.8129 - val_accuracy: 0.7982\n",
      "Epoch 56/100\n",
      "696/696 [==============================] - 24s 35ms/step - loss: 0.6050 - accuracy: 0.8137 - val_loss: 0.8282 - val_accuracy: 0.7853\n",
      "Epoch 57/100\n",
      "696/696 [==============================] - 24s 34ms/step - loss: 0.6178 - accuracy: 0.8129 - val_loss: 0.8150 - val_accuracy: 0.8041\n",
      "Epoch 58/100\n",
      "696/696 [==============================] - 23s 33ms/step - loss: 0.6071 - accuracy: 0.8152 - val_loss: 0.7868 - val_accuracy: 0.8100\n",
      "Epoch 59/100\n",
      "696/696 [==============================] - 23s 33ms/step - loss: 0.6016 - accuracy: 0.8149 - val_loss: 0.8072 - val_accuracy: 0.7984\n",
      "Epoch 60/100\n",
      "696/696 [==============================] - 26s 38ms/step - loss: 0.5961 - accuracy: 0.8203 - val_loss: 0.8131 - val_accuracy: 0.7946\n",
      "Epoch 61/100\n",
      "696/696 [==============================] - 23s 33ms/step - loss: 0.5916 - accuracy: 0.8178 - val_loss: 0.8203 - val_accuracy: 0.7787\n",
      "Epoch 62/100\n",
      "696/696 [==============================] - 24s 34ms/step - loss: 0.5885 - accuracy: 0.8184 - val_loss: 0.8099 - val_accuracy: 0.7986\n",
      "Epoch 63/100\n",
      "696/696 [==============================] - 24s 34ms/step - loss: 0.5842 - accuracy: 0.8199 - val_loss: 0.7592 - val_accuracy: 0.8102\n",
      "Epoch 64/100\n",
      "696/696 [==============================] - 24s 34ms/step - loss: 0.5731 - accuracy: 0.8254 - val_loss: 0.8131 - val_accuracy: 0.8000\n",
      "Epoch 65/100\n",
      "696/696 [==============================] - 24s 34ms/step - loss: 0.5735 - accuracy: 0.8237 - val_loss: 0.7715 - val_accuracy: 0.8077\n",
      "Epoch 66/100\n",
      "696/696 [==============================] - 23s 34ms/step - loss: 0.5670 - accuracy: 0.8235 - val_loss: 0.7665 - val_accuracy: 0.8109\n",
      "Epoch 67/100\n",
      "696/696 [==============================] - 25s 37ms/step - loss: 0.5659 - accuracy: 0.8268 - val_loss: 0.7880 - val_accuracy: 0.7986\n",
      "Epoch 68/100\n",
      "696/696 [==============================] - 24s 35ms/step - loss: 0.5587 - accuracy: 0.8299 - val_loss: 0.8330 - val_accuracy: 0.7866\n"
     ]
    }
   ],
   "source": [
    "cnn_seq_updated = models.Sequential()\n",
    "\n",
    "cnn_seq_updated.add(layers.Conv2D(6, (5,5), activation='relu'))\n",
    "cnn_seq_updated.add(layers.MaxPooling2D(4,4))\n",
    "\n",
    "cnn_seq_updated.add(layers.Dropout(0.2))\n",
    "\n",
    "cnn_seq_updated.add(layers.Conv2D(16, (5,5), activation='relu'))\n",
    "cnn_seq_updated.add(layers.MaxPooling2D(3,3))\n",
    "\n",
    "cnn_seq_updated.add(layers.Flatten())\n",
    "\n",
    "cnn_seq_updated.add(layers.Dense(120, activation='relu'))\n",
    "cnn_seq_updated.add(layers.Dense(84, activation='relu'))\n",
    "\n",
    "cnn_seq_updated.add(layers.Dense(43, activation='softmax'))\n",
    "\n",
    "cnn_seq_updated.compile(optimizer='SGD', loss='sparse_categorical_crossentropy', metrics=['accuracy'])\n",
    "history_updated = cnn_seq_updated.fit(x_train_gray_norm, y_train, batch_size=50, epochs=100, verbose=1, \n",
    "                                      validation_data=(x_val_gray_norm, y_val), callbacks=callbacks)"
   ]
  },
  {
   "cell_type": "code",
   "execution_count": 485,
   "id": "4e8f02ed",
   "metadata": {},
   "outputs": [
    {
     "name": "stdout",
     "output_type": "stream",
     "text": [
      "Epoch 1/30\n",
      "696/696 [==============================] - 26s 34ms/step - loss: 3.0736 - accuracy: 0.1497 - val_loss: 2.5459 - val_accuracy: 0.2828\n",
      "Epoch 2/30\n",
      "696/696 [==============================] - 24s 34ms/step - loss: 2.0679 - accuracy: 0.3839 - val_loss: 1.8632 - val_accuracy: 0.4678\n",
      "Epoch 3/30\n",
      "696/696 [==============================] - 23s 33ms/step - loss: 1.6410 - accuracy: 0.4969 - val_loss: 1.6121 - val_accuracy: 0.5358\n",
      "Epoch 4/30\n",
      "696/696 [==============================] - 24s 34ms/step - loss: 1.4185 - accuracy: 0.5650 - val_loss: 1.4955 - val_accuracy: 0.5880\n",
      "Epoch 5/30\n",
      "696/696 [==============================] - 23s 33ms/step - loss: 1.2652 - accuracy: 0.6073 - val_loss: 1.3712 - val_accuracy: 0.6293\n",
      "Epoch 6/30\n",
      "696/696 [==============================] - 23s 33ms/step - loss: 1.1513 - accuracy: 0.6449 - val_loss: 1.2710 - val_accuracy: 0.6601\n",
      "Epoch 7/30\n",
      "696/696 [==============================] - 23s 33ms/step - loss: 1.0695 - accuracy: 0.6730 - val_loss: 1.1985 - val_accuracy: 0.6728\n",
      "Epoch 8/30\n",
      "696/696 [==============================] - 23s 34ms/step - loss: 0.9853 - accuracy: 0.6946 - val_loss: 1.1404 - val_accuracy: 0.6714\n",
      "Epoch 9/30\n",
      "696/696 [==============================] - 23s 33ms/step - loss: 0.9409 - accuracy: 0.7103 - val_loss: 1.0721 - val_accuracy: 0.6925\n",
      "Epoch 10/30\n",
      "696/696 [==============================] - 23s 34ms/step - loss: 0.8779 - accuracy: 0.7290 - val_loss: 1.0506 - val_accuracy: 0.7020\n",
      "Epoch 11/30\n",
      "696/696 [==============================] - 23s 33ms/step - loss: 0.8411 - accuracy: 0.7383 - val_loss: 0.9348 - val_accuracy: 0.7374\n",
      "Epoch 12/30\n",
      "696/696 [==============================] - 23s 33ms/step - loss: 0.8027 - accuracy: 0.7507 - val_loss: 0.9365 - val_accuracy: 0.7345\n",
      "Epoch 13/30\n",
      "696/696 [==============================] - 23s 33ms/step - loss: 0.7691 - accuracy: 0.7585 - val_loss: 0.8691 - val_accuracy: 0.7404\n",
      "Epoch 14/30\n",
      "696/696 [==============================] - 23s 33ms/step - loss: 0.7369 - accuracy: 0.7691 - val_loss: 0.8716 - val_accuracy: 0.7463\n",
      "Epoch 15/30\n",
      "696/696 [==============================] - 23s 33ms/step - loss: 0.7127 - accuracy: 0.7785 - val_loss: 0.8649 - val_accuracy: 0.7501\n",
      "Epoch 16/30\n",
      "696/696 [==============================] - 23s 34ms/step - loss: 0.6956 - accuracy: 0.7836 - val_loss: 0.7854 - val_accuracy: 0.7723\n",
      "Epoch 17/30\n",
      "696/696 [==============================] - 23s 33ms/step - loss: 0.6832 - accuracy: 0.7877 - val_loss: 0.8281 - val_accuracy: 0.7601\n",
      "Epoch 18/30\n",
      "696/696 [==============================] - 23s 33ms/step - loss: 0.6610 - accuracy: 0.7924 - val_loss: 0.7851 - val_accuracy: 0.7683\n",
      "Epoch 19/30\n",
      "696/696 [==============================] - 23s 33ms/step - loss: 0.6598 - accuracy: 0.7947 - val_loss: 0.7655 - val_accuracy: 0.7878\n",
      "Epoch 20/30\n",
      "696/696 [==============================] - 23s 33ms/step - loss: 0.6353 - accuracy: 0.8015 - val_loss: 0.7548 - val_accuracy: 0.7741\n",
      "Epoch 21/30\n",
      "696/696 [==============================] - 23s 33ms/step - loss: 0.6187 - accuracy: 0.8054 - val_loss: 0.7108 - val_accuracy: 0.8009\n",
      "Epoch 22/30\n",
      "696/696 [==============================] - 23s 33ms/step - loss: 0.6072 - accuracy: 0.8091 - val_loss: 0.7496 - val_accuracy: 0.7853\n",
      "Epoch 23/30\n",
      "696/696 [==============================] - 23s 33ms/step - loss: 0.6045 - accuracy: 0.8095 - val_loss: 0.7122 - val_accuracy: 0.7891\n",
      "Epoch 24/30\n",
      "696/696 [==============================] - 23s 33ms/step - loss: 0.5969 - accuracy: 0.8144 - val_loss: 0.7350 - val_accuracy: 0.7952\n",
      "Epoch 25/30\n",
      "696/696 [==============================] - 23s 33ms/step - loss: 0.5811 - accuracy: 0.8161 - val_loss: 0.7406 - val_accuracy: 0.7814\n",
      "Epoch 26/30\n",
      "696/696 [==============================] - 23s 32ms/step - loss: 0.5814 - accuracy: 0.8149 - val_loss: 0.7041 - val_accuracy: 0.8007\n",
      "Epoch 27/30\n",
      "696/696 [==============================] - 23s 33ms/step - loss: 0.5676 - accuracy: 0.8188 - val_loss: 0.7204 - val_accuracy: 0.7925\n",
      "Epoch 28/30\n",
      "696/696 [==============================] - 23s 33ms/step - loss: 0.5632 - accuracy: 0.8227 - val_loss: 0.7225 - val_accuracy: 0.8061\n",
      "Epoch 29/30\n",
      "696/696 [==============================] - 25s 36ms/step - loss: 0.5532 - accuracy: 0.8270 - val_loss: 0.6982 - val_accuracy: 0.8068\n",
      "Epoch 30/30\n",
      "696/696 [==============================] - 23s 33ms/step - loss: 0.5457 - accuracy: 0.8262 - val_loss: 0.6992 - val_accuracy: 0.7943\n"
     ]
    }
   ],
   "source": [
    "learning_rate = 0.001\n",
    "opt = Adam(learning_rate=learning_rate)\n",
    "cnn_seq_updated = models.Sequential()\n",
    "\n",
    "cnn_seq_updated.add(layers.Conv2D(6, (5,5), activation='relu'))\n",
    "cnn_seq_updated.add(layers.MaxPooling2D(4,4))\n",
    "\n",
    "cnn_seq_updated.add(layers.Dropout(0.2))\n",
    "\n",
    "cnn_seq_updated.add(layers.Conv2D(16, (5,5), activation='relu'))\n",
    "cnn_seq_updated.add(layers.MaxPooling2D(3,3))\n",
    "\n",
    "cnn_seq_updated.add(layers.Flatten())\n",
    "\n",
    "cnn_seq_updated.add(layers.Dense(120, activation='relu'))\n",
    "cnn_seq_updated.add(layers.Dense(84, activation='relu'))\n",
    "\n",
    "cnn_seq_updated.add(layers.Dense(43, activation='softmax'))\n",
    "\n",
    "cnn_seq_updated.compile(optimizer=opt, loss='sparse_categorical_crossentropy', metrics=['accuracy'])\n",
    "history_updated = cnn_seq_updated.fit(x_train_gray_norm, y_train, batch_size=50, epochs=30, \n",
    "                                      verbose=1, validation_data=(x_val_gray_norm, y_val), callbacks=callbacks)"
   ]
  },
  {
   "cell_type": "code",
   "execution_count": 493,
   "id": "30428fb9",
   "metadata": {},
   "outputs": [
    {
     "name": "stdout",
     "output_type": "stream",
     "text": [
      "Epoch 1/30\n",
      "696/696 [==============================] - 40s 54ms/step - loss: 3.2191 - accuracy: 0.1564 - val_loss: 2.8820 - val_accuracy: 0.2859\n",
      "Epoch 2/30\n",
      "696/696 [==============================] - 36s 52ms/step - loss: 2.2109 - accuracy: 0.4036 - val_loss: 2.0329 - val_accuracy: 0.4277\n",
      "Epoch 3/30\n",
      "696/696 [==============================] - 36s 52ms/step - loss: 1.6233 - accuracy: 0.5361 - val_loss: 1.5584 - val_accuracy: 0.5748\n",
      "Epoch 4/30\n",
      "696/696 [==============================] - 36s 52ms/step - loss: 1.3156 - accuracy: 0.6194 - val_loss: 1.3168 - val_accuracy: 0.6075\n",
      "Epoch 5/30\n",
      "696/696 [==============================] - 36s 52ms/step - loss: 1.1202 - accuracy: 0.6719 - val_loss: 1.1471 - val_accuracy: 0.6812\n",
      "Epoch 6/30\n",
      "696/696 [==============================] - 36s 52ms/step - loss: 0.9872 - accuracy: 0.7133 - val_loss: 1.0388 - val_accuracy: 0.6998\n",
      "Epoch 7/30\n",
      "696/696 [==============================] - 36s 52ms/step - loss: 0.8824 - accuracy: 0.7439 - val_loss: 0.9346 - val_accuracy: 0.7270\n",
      "Epoch 8/30\n",
      "696/696 [==============================] - 36s 52ms/step - loss: 0.8062 - accuracy: 0.7671 - val_loss: 0.9204 - val_accuracy: 0.7202\n",
      "Epoch 9/30\n",
      "696/696 [==============================] - 36s 52ms/step - loss: 0.7406 - accuracy: 0.7846 - val_loss: 0.8181 - val_accuracy: 0.7578\n",
      "Epoch 10/30\n",
      "696/696 [==============================] - 36s 51ms/step - loss: 0.6890 - accuracy: 0.7962 - val_loss: 0.7924 - val_accuracy: 0.7680\n",
      "Epoch 11/30\n",
      "696/696 [==============================] - 38s 55ms/step - loss: 0.6498 - accuracy: 0.8113 - val_loss: 0.7426 - val_accuracy: 0.7828\n",
      "Epoch 12/30\n",
      "696/696 [==============================] - 37s 53ms/step - loss: 0.6041 - accuracy: 0.8238 - val_loss: 0.6880 - val_accuracy: 0.7941\n",
      "Epoch 13/30\n",
      "696/696 [==============================] - 37s 53ms/step - loss: 0.5754 - accuracy: 0.8315 - val_loss: 0.6785 - val_accuracy: 0.8050\n",
      "Epoch 14/30\n",
      "696/696 [==============================] - 38s 54ms/step - loss: 0.5416 - accuracy: 0.8431 - val_loss: 0.6399 - val_accuracy: 0.8129\n",
      "Epoch 15/30\n",
      "696/696 [==============================] - 37s 53ms/step - loss: 0.5086 - accuracy: 0.8525 - val_loss: 0.6362 - val_accuracy: 0.8136\n",
      "Epoch 16/30\n",
      "696/696 [==============================] - 36s 51ms/step - loss: 0.4855 - accuracy: 0.8621 - val_loss: 0.6009 - val_accuracy: 0.8304\n",
      "Epoch 17/30\n",
      "696/696 [==============================] - 36s 52ms/step - loss: 0.4619 - accuracy: 0.8680 - val_loss: 0.5812 - val_accuracy: 0.8279\n",
      "Epoch 18/30\n",
      "696/696 [==============================] - 37s 53ms/step - loss: 0.4412 - accuracy: 0.8719 - val_loss: 0.5688 - val_accuracy: 0.8304\n",
      "Epoch 19/30\n",
      "696/696 [==============================] - 41s 59ms/step - loss: 0.4234 - accuracy: 0.8775 - val_loss: 0.5731 - val_accuracy: 0.8383\n",
      "Epoch 20/30\n",
      "696/696 [==============================] - 42s 60ms/step - loss: 0.3996 - accuracy: 0.8857 - val_loss: 0.5326 - val_accuracy: 0.8524\n",
      "Epoch 21/30\n",
      "696/696 [==============================] - 41s 59ms/step - loss: 0.3847 - accuracy: 0.8905 - val_loss: 0.5161 - val_accuracy: 0.8569\n",
      "Epoch 22/30\n",
      "696/696 [==============================] - 43s 62ms/step - loss: 0.3715 - accuracy: 0.8922 - val_loss: 0.5003 - val_accuracy: 0.8535\n",
      "Epoch 23/30\n",
      "696/696 [==============================] - 37s 54ms/step - loss: 0.3530 - accuracy: 0.8998 - val_loss: 0.5051 - val_accuracy: 0.8596\n",
      "Epoch 24/30\n",
      "696/696 [==============================] - 37s 52ms/step - loss: 0.3369 - accuracy: 0.9052 - val_loss: 0.5338 - val_accuracy: 0.8469\n",
      "Epoch 25/30\n",
      "696/696 [==============================] - 36s 51ms/step - loss: 0.3331 - accuracy: 0.9034 - val_loss: 0.5087 - val_accuracy: 0.8569\n",
      "Epoch 26/30\n",
      "696/696 [==============================] - 36s 52ms/step - loss: 0.3157 - accuracy: 0.9100 - val_loss: 0.5010 - val_accuracy: 0.8608\n",
      "Epoch 27/30\n",
      "696/696 [==============================] - 42s 61ms/step - loss: 0.3054 - accuracy: 0.9149 - val_loss: 0.4862 - val_accuracy: 0.8621\n",
      "Epoch 28/30\n",
      "696/696 [==============================] - 40s 57ms/step - loss: 0.2922 - accuracy: 0.9174 - val_loss: 0.4806 - val_accuracy: 0.8635\n",
      "Epoch 29/30\n",
      "696/696 [==============================] - 37s 53ms/step - loss: 0.2841 - accuracy: 0.9200 - val_loss: 0.4757 - val_accuracy: 0.8608\n",
      "Epoch 30/30\n",
      "696/696 [==============================] - 37s 53ms/step - loss: 0.2762 - accuracy: 0.9225 - val_loss: 0.4845 - val_accuracy: 0.8662\n"
     ]
    }
   ],
   "source": [
    "learning_rate = 0.0001\n",
    "opt = Adam(learning_rate=learning_rate)\n",
    "cnn_seq_updated = models.Sequential()\n",
    "\n",
    "cnn_seq_updated.add(layers.Conv2D(6, (5,5), activation='relu'))\n",
    "cnn_seq_updated.add(layers.AveragePooling2D())\n",
    "\n",
    "cnn_seq_updated.add(layers.Dropout(0.2))\n",
    "\n",
    "cnn_seq_updated.add(layers.Conv2D(16, (5,5), activation='relu'))\n",
    "cnn_seq_updated.add(layers.AveragePooling2D())\n",
    "\n",
    "cnn_seq_updated.add(layers.Flatten())\n",
    "\n",
    "cnn_seq_updated.add(layers.Dense(120, activation='relu'))\n",
    "cnn_seq_updated.add(layers.Dense(84, activation='relu'))\n",
    "\n",
    "cnn_seq_updated.add(layers.Dense(43, activation='softmax'))\n",
    "\n",
    "cnn_seq_updated.compile(optimizer=opt, loss='sparse_categorical_crossentropy', metrics=['accuracy'])\n",
    "history_updated = cnn_seq_updated.fit(x_train_gray_norm, y_train, batch_size=50, epochs=30, \n",
    "                                      verbose=1, validation_data=(x_val_gray_norm, y_val), callbacks=callbacks)"
   ]
  },
  {
   "cell_type": "code",
   "execution_count": 506,
   "id": "e12c1302",
   "metadata": {},
   "outputs": [
    {
     "name": "stdout",
     "output_type": "stream",
     "text": [
      "Epoch 1/30\n",
      "1088/1088 [==============================] - 24s 20ms/step - loss: 1.8045 - accuracy: 0.4891 - val_loss: 0.7236 - val_accuracy: 0.7834\n",
      "Epoch 2/30\n",
      "1088/1088 [==============================] - 21s 19ms/step - loss: 0.4582 - accuracy: 0.8559 - val_loss: 0.4988 - val_accuracy: 0.8379\n",
      "Epoch 3/30\n",
      "1088/1088 [==============================] - 26s 24ms/step - loss: 0.2758 - accuracy: 0.9151 - val_loss: 0.4038 - val_accuracy: 0.8803\n",
      "Epoch 4/30\n",
      "1088/1088 [==============================] - 35s 32ms/step - loss: 0.1880 - accuracy: 0.9403 - val_loss: 0.4857 - val_accuracy: 0.8678\n",
      "Epoch 5/30\n",
      "1088/1088 [==============================] - 36s 33ms/step - loss: 0.1451 - accuracy: 0.9549 - val_loss: 0.3152 - val_accuracy: 0.9154\n",
      "Epoch 6/30\n",
      "1088/1088 [==============================] - 30s 27ms/step - loss: 0.1288 - accuracy: 0.9592 - val_loss: 0.3455 - val_accuracy: 0.9011\n",
      "Epoch 7/30\n",
      "1088/1088 [==============================] - 44s 40ms/step - loss: 0.1138 - accuracy: 0.9650 - val_loss: 0.3273 - val_accuracy: 0.9077\n",
      "Epoch 8/30\n",
      "1088/1088 [==============================] - 32s 30ms/step - loss: 0.0966 - accuracy: 0.9690 - val_loss: 0.3837 - val_accuracy: 0.8902\n",
      "Epoch 9/30\n",
      "1088/1088 [==============================] - 29s 27ms/step - loss: 0.0819 - accuracy: 0.9735 - val_loss: 0.3165 - val_accuracy: 0.9161\n",
      "Epoch 10/30\n",
      "1088/1088 [==============================] - 39s 36ms/step - loss: 0.0780 - accuracy: 0.9762 - val_loss: 0.3984 - val_accuracy: 0.9177\n",
      "Epoch 11/30\n",
      "1088/1088 [==============================] - 37s 34ms/step - loss: 0.0699 - accuracy: 0.9786 - val_loss: 0.3380 - val_accuracy: 0.9206\n",
      "Epoch 12/30\n",
      "1088/1088 [==============================] - 26s 24ms/step - loss: 0.0709 - accuracy: 0.9775 - val_loss: 0.4869 - val_accuracy: 0.9107\n",
      "Epoch 13/30\n",
      "1088/1088 [==============================] - 36s 33ms/step - loss: 0.0636 - accuracy: 0.9803 - val_loss: 0.2703 - val_accuracy: 0.9311\n",
      "Epoch 14/30\n",
      "1088/1088 [==============================] - 37s 34ms/step - loss: 0.0575 - accuracy: 0.9816 - val_loss: 0.6693 - val_accuracy: 0.8803\n",
      "Epoch 15/30\n",
      "1088/1088 [==============================] - 48s 44ms/step - loss: 0.0606 - accuracy: 0.9824 - val_loss: 0.3492 - val_accuracy: 0.9202\n",
      "Epoch 16/30\n",
      "1088/1088 [==============================] - 45s 41ms/step - loss: 0.0618 - accuracy: 0.9805 - val_loss: 0.4346 - val_accuracy: 0.8914\n",
      "Epoch 17/30\n",
      "1088/1088 [==============================] - 44s 40ms/step - loss: 0.0557 - accuracy: 0.9830 - val_loss: 0.3806 - val_accuracy: 0.9061\n",
      "Epoch 18/30\n",
      "1088/1088 [==============================] - 31s 28ms/step - loss: 0.0507 - accuracy: 0.9841 - val_loss: 0.3297 - val_accuracy: 0.9324\n",
      "Epoch 19/30\n",
      "1088/1088 [==============================] - 24s 22ms/step - loss: 0.0498 - accuracy: 0.9851 - val_loss: 0.4299 - val_accuracy: 0.9113\n",
      "Epoch 20/30\n",
      "1088/1088 [==============================] - 25s 23ms/step - loss: 0.0517 - accuracy: 0.9843 - val_loss: 0.3056 - val_accuracy: 0.9302\n",
      "Epoch 21/30\n",
      "1088/1088 [==============================] - 24s 22ms/step - loss: 0.0373 - accuracy: 0.9885 - val_loss: 0.3561 - val_accuracy: 0.9240\n",
      "Epoch 22/30\n",
      "1088/1088 [==============================] - 24s 22ms/step - loss: 0.0392 - accuracy: 0.9880 - val_loss: 0.3437 - val_accuracy: 0.9222\n",
      "Epoch 23/30\n",
      "1088/1088 [==============================] - 24s 22ms/step - loss: 0.0412 - accuracy: 0.9869 - val_loss: 0.3154 - val_accuracy: 0.9302\n",
      "Epoch 24/30\n",
      "1088/1088 [==============================] - 23s 21ms/step - loss: 0.0437 - accuracy: 0.9872 - val_loss: 0.2998 - val_accuracy: 0.9361\n",
      "Epoch 25/30\n",
      "1088/1088 [==============================] - 23s 21ms/step - loss: 0.0367 - accuracy: 0.9889 - val_loss: 0.3582 - val_accuracy: 0.9283\n",
      "Epoch 26/30\n",
      "1088/1088 [==============================] - 24s 22ms/step - loss: 0.0471 - accuracy: 0.9863 - val_loss: 0.2920 - val_accuracy: 0.9322\n",
      "Epoch 27/30\n",
      "1088/1088 [==============================] - 26s 23ms/step - loss: 0.0388 - accuracy: 0.9884 - val_loss: 0.2827 - val_accuracy: 0.9447\n",
      "Epoch 28/30\n",
      "1088/1088 [==============================] - 24s 22ms/step - loss: 0.0381 - accuracy: 0.9886 - val_loss: 0.2535 - val_accuracy: 0.9420\n",
      "Epoch 29/30\n",
      "1088/1088 [==============================] - 26s 24ms/step - loss: 0.0328 - accuracy: 0.9904 - val_loss: 0.3452 - val_accuracy: 0.9304\n",
      "Epoch 30/30\n",
      "1088/1088 [==============================] - 25s 23ms/step - loss: 0.0420 - accuracy: 0.9876 - val_loss: 0.2714 - val_accuracy: 0.9390\n"
     ]
    }
   ],
   "source": [
    "learning_rate = 0.1\n",
    "#opt = Adam(learning_rate=learning_rate)\n",
    "opt = SGD(learning_rate=learning_rate)\n",
    "cnn_seq_updated = models.Sequential()\n",
    "\n",
    "cnn_seq_updated.add(layers.Conv2D(6, (5,5), activation='relu'))\n",
    "cnn_seq_updated.add(layers.AveragePooling2D())\n",
    "\n",
    "cnn_seq_updated.add(layers.Dropout(0.2))\n",
    "\n",
    "cnn_seq_updated.add(layers.Conv2D(16, (5,5), activation='relu'))\n",
    "cnn_seq_updated.add(layers.AveragePooling2D())\n",
    "\n",
    "cnn_seq_updated.add(layers.Flatten())\n",
    "\n",
    "cnn_seq_updated.add(layers.Dense(120, activation='relu'))\n",
    "cnn_seq_updated.add(layers.Dense(84, activation='relu'))\n",
    "\n",
    "cnn_seq_updated.add(layers.Dense(43, activation='softmax'))\n",
    "\n",
    "cnn_seq_updated.compile(optimizer=opt, loss='sparse_categorical_crossentropy', metrics=['accuracy'])\n",
    "history_updated = cnn_seq_updated.fit(x_train_gray_norm, y_train, batch_size=32, epochs=30, \n",
    "                                      verbose=1, validation_data=(x_val_gray_norm, y_val))\n",
    "#, callbacks=callbacks)"
   ]
  },
  {
   "cell_type": "markdown",
   "id": "c3ad5981",
   "metadata": {},
   "source": [
    "<span style=\"font-family: Trebuchet MS; font-weight:bold;font-size:1.5em;color:#00b3e5;\"> Image Augmentation"
   ]
  },
  {
   "cell_type": "code",
   "execution_count": 500,
   "id": "5cce4fdf",
   "metadata": {},
   "outputs": [],
   "source": [
    "import tensorflow as tf\n",
    "tf.get_logger().setLevel(logging.INFO)\n",
    "from tensorflow.keras.preprocessing.image import ImageDataGenerator"
   ]
  },
  {
   "cell_type": "code",
   "execution_count": 469,
   "id": "62f7550c",
   "metadata": {},
   "outputs": [],
   "source": [
    "data_augmentation = tf.keras.Sequential([\n",
    "    layers.RandomZoom(0.15),\n",
    "    layers.RandomTranslation(0.15, 0.15),\n",
    "    layers.RandomFlip(),\n",
    "    layers.RandomRotation(10, fill_mode='nearest'),\n",
    "])"
   ]
  },
  {
   "cell_type": "code",
   "execution_count": 470,
   "id": "51f8f868",
   "metadata": {},
   "outputs": [
    {
     "name": "stdout",
     "output_type": "stream",
     "text": [
      "WARNING:tensorflow:Using a while_loop for converting RngReadAndSkip cause there is no registered converter for this op.\n"
     ]
    },
    {
     "name": "stderr",
     "output_type": "stream",
     "text": [
      "WARNING:tensorflow:Using a while_loop for converting RngReadAndSkip cause there is no registered converter for this op.\n"
     ]
    },
    {
     "name": "stdout",
     "output_type": "stream",
     "text": [
      "WARNING:tensorflow:Using a while_loop for converting Bitcast cause there is no registered converter for this op.\n"
     ]
    },
    {
     "name": "stderr",
     "output_type": "stream",
     "text": [
      "WARNING:tensorflow:Using a while_loop for converting Bitcast cause there is no registered converter for this op.\n"
     ]
    },
    {
     "name": "stdout",
     "output_type": "stream",
     "text": [
      "WARNING:tensorflow:Using a while_loop for converting Bitcast cause there is no registered converter for this op.\n"
     ]
    },
    {
     "name": "stderr",
     "output_type": "stream",
     "text": [
      "WARNING:tensorflow:Using a while_loop for converting Bitcast cause there is no registered converter for this op.\n"
     ]
    },
    {
     "name": "stdout",
     "output_type": "stream",
     "text": [
      "WARNING:tensorflow:Using a while_loop for converting StatelessRandomUniformV2 cause there is no registered converter for this op.\n"
     ]
    },
    {
     "name": "stderr",
     "output_type": "stream",
     "text": [
      "WARNING:tensorflow:Using a while_loop for converting StatelessRandomUniformV2 cause there is no registered converter for this op.\n"
     ]
    },
    {
     "name": "stdout",
     "output_type": "stream",
     "text": [
      "WARNING:tensorflow:Using a while_loop for converting ImageProjectiveTransformV3 cause there is no registered converter for this op.\n"
     ]
    },
    {
     "name": "stderr",
     "output_type": "stream",
     "text": [
      "WARNING:tensorflow:Using a while_loop for converting ImageProjectiveTransformV3 cause there is no registered converter for this op.\n"
     ]
    },
    {
     "name": "stdout",
     "output_type": "stream",
     "text": [
      "WARNING:tensorflow:Using a while_loop for converting RngReadAndSkip cause there is no registered converter for this op.\n"
     ]
    },
    {
     "name": "stderr",
     "output_type": "stream",
     "text": [
      "WARNING:tensorflow:Using a while_loop for converting RngReadAndSkip cause there is no registered converter for this op.\n"
     ]
    },
    {
     "name": "stdout",
     "output_type": "stream",
     "text": [
      "WARNING:tensorflow:Using a while_loop for converting Bitcast cause there is no registered converter for this op.\n"
     ]
    },
    {
     "name": "stderr",
     "output_type": "stream",
     "text": [
      "WARNING:tensorflow:Using a while_loop for converting Bitcast cause there is no registered converter for this op.\n"
     ]
    },
    {
     "name": "stdout",
     "output_type": "stream",
     "text": [
      "WARNING:tensorflow:Using a while_loop for converting Bitcast cause there is no registered converter for this op.\n"
     ]
    },
    {
     "name": "stderr",
     "output_type": "stream",
     "text": [
      "WARNING:tensorflow:Using a while_loop for converting Bitcast cause there is no registered converter for this op.\n"
     ]
    },
    {
     "name": "stdout",
     "output_type": "stream",
     "text": [
      "WARNING:tensorflow:Using a while_loop for converting StatelessRandomUniformV2 cause there is no registered converter for this op.\n"
     ]
    },
    {
     "name": "stderr",
     "output_type": "stream",
     "text": [
      "WARNING:tensorflow:Using a while_loop for converting StatelessRandomUniformV2 cause there is no registered converter for this op.\n"
     ]
    },
    {
     "name": "stdout",
     "output_type": "stream",
     "text": [
      "WARNING:tensorflow:Using a while_loop for converting RngReadAndSkip cause there is no registered converter for this op.\n"
     ]
    },
    {
     "name": "stderr",
     "output_type": "stream",
     "text": [
      "WARNING:tensorflow:Using a while_loop for converting RngReadAndSkip cause there is no registered converter for this op.\n"
     ]
    },
    {
     "name": "stdout",
     "output_type": "stream",
     "text": [
      "WARNING:tensorflow:Using a while_loop for converting Bitcast cause there is no registered converter for this op.\n"
     ]
    },
    {
     "name": "stderr",
     "output_type": "stream",
     "text": [
      "WARNING:tensorflow:Using a while_loop for converting Bitcast cause there is no registered converter for this op.\n"
     ]
    },
    {
     "name": "stdout",
     "output_type": "stream",
     "text": [
      "WARNING:tensorflow:Using a while_loop for converting Bitcast cause there is no registered converter for this op.\n"
     ]
    },
    {
     "name": "stderr",
     "output_type": "stream",
     "text": [
      "WARNING:tensorflow:Using a while_loop for converting Bitcast cause there is no registered converter for this op.\n"
     ]
    },
    {
     "name": "stdout",
     "output_type": "stream",
     "text": [
      "WARNING:tensorflow:Using a while_loop for converting StatelessRandomUniformV2 cause there is no registered converter for this op.\n"
     ]
    },
    {
     "name": "stderr",
     "output_type": "stream",
     "text": [
      "WARNING:tensorflow:Using a while_loop for converting StatelessRandomUniformV2 cause there is no registered converter for this op.\n"
     ]
    },
    {
     "name": "stdout",
     "output_type": "stream",
     "text": [
      "WARNING:tensorflow:Using a while_loop for converting RngReadAndSkip cause there is no registered converter for this op.\n"
     ]
    },
    {
     "name": "stderr",
     "output_type": "stream",
     "text": [
      "WARNING:tensorflow:Using a while_loop for converting RngReadAndSkip cause there is no registered converter for this op.\n"
     ]
    },
    {
     "name": "stdout",
     "output_type": "stream",
     "text": [
      "WARNING:tensorflow:Using a while_loop for converting Bitcast cause there is no registered converter for this op.\n"
     ]
    },
    {
     "name": "stderr",
     "output_type": "stream",
     "text": [
      "WARNING:tensorflow:Using a while_loop for converting Bitcast cause there is no registered converter for this op.\n"
     ]
    },
    {
     "name": "stdout",
     "output_type": "stream",
     "text": [
      "WARNING:tensorflow:Using a while_loop for converting Bitcast cause there is no registered converter for this op.\n"
     ]
    },
    {
     "name": "stderr",
     "output_type": "stream",
     "text": [
      "WARNING:tensorflow:Using a while_loop for converting Bitcast cause there is no registered converter for this op.\n"
     ]
    },
    {
     "name": "stdout",
     "output_type": "stream",
     "text": [
      "WARNING:tensorflow:Using a while_loop for converting StatelessRandomUniformV2 cause there is no registered converter for this op.\n"
     ]
    },
    {
     "name": "stderr",
     "output_type": "stream",
     "text": [
      "WARNING:tensorflow:Using a while_loop for converting StatelessRandomUniformV2 cause there is no registered converter for this op.\n"
     ]
    },
    {
     "name": "stdout",
     "output_type": "stream",
     "text": [
      "WARNING:tensorflow:Using a while_loop for converting ImageProjectiveTransformV3 cause there is no registered converter for this op.\n"
     ]
    },
    {
     "name": "stderr",
     "output_type": "stream",
     "text": [
      "WARNING:tensorflow:Using a while_loop for converting ImageProjectiveTransformV3 cause there is no registered converter for this op.\n"
     ]
    },
    {
     "name": "stdout",
     "output_type": "stream",
     "text": [
      "WARNING:tensorflow:Using a while_loop for converting RngReadAndSkip cause there is no registered converter for this op.\n"
     ]
    },
    {
     "name": "stderr",
     "output_type": "stream",
     "text": [
      "WARNING:tensorflow:Using a while_loop for converting RngReadAndSkip cause there is no registered converter for this op.\n"
     ]
    },
    {
     "name": "stdout",
     "output_type": "stream",
     "text": [
      "WARNING:tensorflow:Using a while_loop for converting Bitcast cause there is no registered converter for this op.\n"
     ]
    },
    {
     "name": "stderr",
     "output_type": "stream",
     "text": [
      "WARNING:tensorflow:Using a while_loop for converting Bitcast cause there is no registered converter for this op.\n"
     ]
    },
    {
     "name": "stdout",
     "output_type": "stream",
     "text": [
      "WARNING:tensorflow:Using a while_loop for converting Bitcast cause there is no registered converter for this op.\n"
     ]
    },
    {
     "name": "stderr",
     "output_type": "stream",
     "text": [
      "WARNING:tensorflow:Using a while_loop for converting Bitcast cause there is no registered converter for this op.\n"
     ]
    },
    {
     "name": "stdout",
     "output_type": "stream",
     "text": [
      "WARNING:tensorflow:Using a while_loop for converting StatelessRandomUniformV2 cause there is no registered converter for this op.\n"
     ]
    },
    {
     "name": "stderr",
     "output_type": "stream",
     "text": [
      "WARNING:tensorflow:Using a while_loop for converting StatelessRandomUniformV2 cause there is no registered converter for this op.\n"
     ]
    },
    {
     "name": "stdout",
     "output_type": "stream",
     "text": [
      "WARNING:tensorflow:Using a while_loop for converting ImageProjectiveTransformV3 cause there is no registered converter for this op.\n"
     ]
    },
    {
     "name": "stderr",
     "output_type": "stream",
     "text": [
      "WARNING:tensorflow:Using a while_loop for converting ImageProjectiveTransformV3 cause there is no registered converter for this op.\n"
     ]
    },
    {
     "name": "stdout",
     "output_type": "stream",
     "text": [
      "WARNING:tensorflow:Using a while_loop for converting RngReadAndSkip cause there is no registered converter for this op.\n"
     ]
    },
    {
     "name": "stderr",
     "output_type": "stream",
     "text": [
      "WARNING:tensorflow:Using a while_loop for converting RngReadAndSkip cause there is no registered converter for this op.\n"
     ]
    },
    {
     "name": "stdout",
     "output_type": "stream",
     "text": [
      "WARNING:tensorflow:Using a while_loop for converting Bitcast cause there is no registered converter for this op.\n"
     ]
    },
    {
     "name": "stderr",
     "output_type": "stream",
     "text": [
      "WARNING:tensorflow:Using a while_loop for converting Bitcast cause there is no registered converter for this op.\n"
     ]
    },
    {
     "name": "stdout",
     "output_type": "stream",
     "text": [
      "WARNING:tensorflow:Using a while_loop for converting Bitcast cause there is no registered converter for this op.\n"
     ]
    },
    {
     "name": "stderr",
     "output_type": "stream",
     "text": [
      "WARNING:tensorflow:Using a while_loop for converting Bitcast cause there is no registered converter for this op.\n"
     ]
    },
    {
     "name": "stdout",
     "output_type": "stream",
     "text": [
      "WARNING:tensorflow:Using a while_loop for converting StatelessRandomUniformV2 cause there is no registered converter for this op.\n"
     ]
    },
    {
     "name": "stderr",
     "output_type": "stream",
     "text": [
      "WARNING:tensorflow:Using a while_loop for converting StatelessRandomUniformV2 cause there is no registered converter for this op.\n"
     ]
    },
    {
     "name": "stdout",
     "output_type": "stream",
     "text": [
      "WARNING:tensorflow:Using a while_loop for converting RngReadAndSkip cause there is no registered converter for this op.\n"
     ]
    },
    {
     "name": "stderr",
     "output_type": "stream",
     "text": [
      "WARNING:tensorflow:Using a while_loop for converting RngReadAndSkip cause there is no registered converter for this op.\n"
     ]
    },
    {
     "name": "stdout",
     "output_type": "stream",
     "text": [
      "WARNING:tensorflow:Using a while_loop for converting Bitcast cause there is no registered converter for this op.\n"
     ]
    },
    {
     "name": "stderr",
     "output_type": "stream",
     "text": [
      "WARNING:tensorflow:Using a while_loop for converting Bitcast cause there is no registered converter for this op.\n"
     ]
    },
    {
     "name": "stdout",
     "output_type": "stream",
     "text": [
      "WARNING:tensorflow:Using a while_loop for converting Bitcast cause there is no registered converter for this op.\n"
     ]
    },
    {
     "name": "stderr",
     "output_type": "stream",
     "text": [
      "WARNING:tensorflow:Using a while_loop for converting Bitcast cause there is no registered converter for this op.\n"
     ]
    },
    {
     "name": "stdout",
     "output_type": "stream",
     "text": [
      "WARNING:tensorflow:Using a while_loop for converting StatelessRandomUniformV2 cause there is no registered converter for this op.\n"
     ]
    },
    {
     "name": "stderr",
     "output_type": "stream",
     "text": [
      "WARNING:tensorflow:Using a while_loop for converting StatelessRandomUniformV2 cause there is no registered converter for this op.\n"
     ]
    },
    {
     "name": "stdout",
     "output_type": "stream",
     "text": [
      "WARNING:tensorflow:Using a while_loop for converting RngReadAndSkip cause there is no registered converter for this op.\n"
     ]
    },
    {
     "name": "stderr",
     "output_type": "stream",
     "text": [
      "WARNING:tensorflow:Using a while_loop for converting RngReadAndSkip cause there is no registered converter for this op.\n"
     ]
    },
    {
     "name": "stdout",
     "output_type": "stream",
     "text": [
      "WARNING:tensorflow:Using a while_loop for converting Bitcast cause there is no registered converter for this op.\n"
     ]
    },
    {
     "name": "stderr",
     "output_type": "stream",
     "text": [
      "WARNING:tensorflow:Using a while_loop for converting Bitcast cause there is no registered converter for this op.\n"
     ]
    },
    {
     "name": "stdout",
     "output_type": "stream",
     "text": [
      "WARNING:tensorflow:Using a while_loop for converting Bitcast cause there is no registered converter for this op.\n"
     ]
    },
    {
     "name": "stderr",
     "output_type": "stream",
     "text": [
      "WARNING:tensorflow:Using a while_loop for converting Bitcast cause there is no registered converter for this op.\n"
     ]
    },
    {
     "name": "stdout",
     "output_type": "stream",
     "text": [
      "WARNING:tensorflow:Using a while_loop for converting StatelessRandomUniformV2 cause there is no registered converter for this op.\n"
     ]
    },
    {
     "name": "stderr",
     "output_type": "stream",
     "text": [
      "WARNING:tensorflow:Using a while_loop for converting StatelessRandomUniformV2 cause there is no registered converter for this op.\n"
     ]
    },
    {
     "name": "stdout",
     "output_type": "stream",
     "text": [
      "WARNING:tensorflow:Using a while_loop for converting ImageProjectiveTransformV3 cause there is no registered converter for this op.\n"
     ]
    },
    {
     "name": "stderr",
     "output_type": "stream",
     "text": [
      "WARNING:tensorflow:Using a while_loop for converting ImageProjectiveTransformV3 cause there is no registered converter for this op.\n"
     ]
    }
   ],
   "source": [
    "aug_cnn_seq = models.Sequential([\n",
    "    layers.InputLayer(input_shape=(32, 32, 1)),\n",
    "    data_augmentation,  \n",
    "    layers.Conv2D(16, (5,5), activation='relu'),\n",
    "    layers.Conv2D(16, (5,5), activation='relu'),\n",
    "    layers.AveragePooling2D(),\n",
    "    layers.Dropout(0.2),\n",
    "    layers.Conv2D(32, (5,5), activation='relu'),\n",
    "    layers.AveragePooling2D(),    \n",
    "    layers.Flatten(),\n",
    "    layers.Dense(160, activation='relu'),\n",
    "    layers.Dense(120, activation='relu'),\n",
    "    layers.Dense(84, activation='relu'),\n",
    "    layers.Dense(43, activation='softmax')])"
   ]
  },
  {
   "cell_type": "code",
   "execution_count": 471,
   "id": "67e8c5ec",
   "metadata": {},
   "outputs": [
    {
     "name": "stdout",
     "output_type": "stream",
     "text": [
      "Model: \"sequential_132\"\n",
      "_________________________________________________________________\n",
      " Layer (type)                Output Shape              Param #   \n",
      "=================================================================\n",
      " sequential_131 (Sequential)  (None, 32, 32, 1)        0         \n",
      "                                                                 \n",
      " conv2d_180 (Conv2D)         (None, 28, 28, 16)        416       \n",
      "                                                                 \n",
      " conv2d_181 (Conv2D)         (None, 24, 24, 16)        6416      \n",
      "                                                                 \n",
      " average_pooling2d_171 (Aver  (None, 12, 12, 16)       0         \n",
      " agePooling2D)                                                   \n",
      "                                                                 \n",
      " dropout_78 (Dropout)        (None, 12, 12, 16)        0         \n",
      "                                                                 \n",
      " conv2d_182 (Conv2D)         (None, 8, 8, 32)          12832     \n",
      "                                                                 \n",
      " average_pooling2d_172 (Aver  (None, 4, 4, 32)         0         \n",
      " agePooling2D)                                                   \n",
      "                                                                 \n",
      " flatten_76 (Flatten)        (None, 512)               0         \n",
      "                                                                 \n",
      " dense_271 (Dense)           (None, 160)               82080     \n",
      "                                                                 \n",
      " dense_272 (Dense)           (None, 120)               19320     \n",
      "                                                                 \n",
      " dense_273 (Dense)           (None, 84)                10164     \n",
      "                                                                 \n",
      " dense_274 (Dense)           (None, 43)                3655      \n",
      "                                                                 \n",
      "=================================================================\n",
      "Total params: 134,883\n",
      "Trainable params: 134,883\n",
      "Non-trainable params: 0\n",
      "_________________________________________________________________\n"
     ]
    }
   ],
   "source": [
    "aug_cnn_seq.summary()"
   ]
  },
  {
   "cell_type": "code",
   "execution_count": 472,
   "id": "66890ff6",
   "metadata": {},
   "outputs": [],
   "source": [
    "total_epochs = 2\n",
    "learning_rate = 0.001\n",
    "opt = Adam(learning_rate=learning_rate)"
   ]
  },
  {
   "cell_type": "code",
   "execution_count": 473,
   "id": "08637e1a",
   "metadata": {},
   "outputs": [],
   "source": [
    "aug_cnn_seq.compile(optimizer=opt, loss='sparse_categorical_crossentropy', metrics=['accuracy'])"
   ]
  },
  {
   "cell_type": "code",
   "execution_count": 474,
   "id": "20c71160",
   "metadata": {},
   "outputs": [
    {
     "name": "stdout",
     "output_type": "stream",
     "text": [
      "Epoch 1/30\n",
      "WARNING:tensorflow:Using a while_loop for converting RngReadAndSkip cause there is no registered converter for this op.\n"
     ]
    },
    {
     "name": "stderr",
     "output_type": "stream",
     "text": [
      "WARNING:tensorflow:Using a while_loop for converting RngReadAndSkip cause there is no registered converter for this op.\n"
     ]
    },
    {
     "name": "stdout",
     "output_type": "stream",
     "text": [
      "WARNING:tensorflow:Using a while_loop for converting Bitcast cause there is no registered converter for this op.\n"
     ]
    },
    {
     "name": "stderr",
     "output_type": "stream",
     "text": [
      "WARNING:tensorflow:Using a while_loop for converting Bitcast cause there is no registered converter for this op.\n"
     ]
    },
    {
     "name": "stdout",
     "output_type": "stream",
     "text": [
      "WARNING:tensorflow:Using a while_loop for converting Bitcast cause there is no registered converter for this op.\n"
     ]
    },
    {
     "name": "stderr",
     "output_type": "stream",
     "text": [
      "WARNING:tensorflow:Using a while_loop for converting Bitcast cause there is no registered converter for this op.\n"
     ]
    },
    {
     "name": "stdout",
     "output_type": "stream",
     "text": [
      "WARNING:tensorflow:Using a while_loop for converting StatelessRandomUniformV2 cause there is no registered converter for this op.\n"
     ]
    },
    {
     "name": "stderr",
     "output_type": "stream",
     "text": [
      "WARNING:tensorflow:Using a while_loop for converting StatelessRandomUniformV2 cause there is no registered converter for this op.\n"
     ]
    },
    {
     "name": "stdout",
     "output_type": "stream",
     "text": [
      "WARNING:tensorflow:Using a while_loop for converting ImageProjectiveTransformV3 cause there is no registered converter for this op.\n"
     ]
    },
    {
     "name": "stderr",
     "output_type": "stream",
     "text": [
      "WARNING:tensorflow:Using a while_loop for converting ImageProjectiveTransformV3 cause there is no registered converter for this op.\n"
     ]
    },
    {
     "name": "stdout",
     "output_type": "stream",
     "text": [
      "WARNING:tensorflow:Using a while_loop for converting RngReadAndSkip cause there is no registered converter for this op.\n"
     ]
    },
    {
     "name": "stderr",
     "output_type": "stream",
     "text": [
      "WARNING:tensorflow:Using a while_loop for converting RngReadAndSkip cause there is no registered converter for this op.\n"
     ]
    },
    {
     "name": "stdout",
     "output_type": "stream",
     "text": [
      "WARNING:tensorflow:Using a while_loop for converting Bitcast cause there is no registered converter for this op.\n"
     ]
    },
    {
     "name": "stderr",
     "output_type": "stream",
     "text": [
      "WARNING:tensorflow:Using a while_loop for converting Bitcast cause there is no registered converter for this op.\n"
     ]
    },
    {
     "name": "stdout",
     "output_type": "stream",
     "text": [
      "WARNING:tensorflow:Using a while_loop for converting Bitcast cause there is no registered converter for this op.\n"
     ]
    },
    {
     "name": "stderr",
     "output_type": "stream",
     "text": [
      "WARNING:tensorflow:Using a while_loop for converting Bitcast cause there is no registered converter for this op.\n"
     ]
    },
    {
     "name": "stdout",
     "output_type": "stream",
     "text": [
      "WARNING:tensorflow:Using a while_loop for converting StatelessRandomUniformV2 cause there is no registered converter for this op.\n"
     ]
    },
    {
     "name": "stderr",
     "output_type": "stream",
     "text": [
      "WARNING:tensorflow:Using a while_loop for converting StatelessRandomUniformV2 cause there is no registered converter for this op.\n"
     ]
    },
    {
     "name": "stdout",
     "output_type": "stream",
     "text": [
      "WARNING:tensorflow:Using a while_loop for converting RngReadAndSkip cause there is no registered converter for this op.\n"
     ]
    },
    {
     "name": "stderr",
     "output_type": "stream",
     "text": [
      "WARNING:tensorflow:Using a while_loop for converting RngReadAndSkip cause there is no registered converter for this op.\n"
     ]
    },
    {
     "name": "stdout",
     "output_type": "stream",
     "text": [
      "WARNING:tensorflow:Using a while_loop for converting Bitcast cause there is no registered converter for this op.\n"
     ]
    },
    {
     "name": "stderr",
     "output_type": "stream",
     "text": [
      "WARNING:tensorflow:Using a while_loop for converting Bitcast cause there is no registered converter for this op.\n"
     ]
    },
    {
     "name": "stdout",
     "output_type": "stream",
     "text": [
      "WARNING:tensorflow:Using a while_loop for converting Bitcast cause there is no registered converter for this op.\n"
     ]
    },
    {
     "name": "stderr",
     "output_type": "stream",
     "text": [
      "WARNING:tensorflow:Using a while_loop for converting Bitcast cause there is no registered converter for this op.\n"
     ]
    },
    {
     "name": "stdout",
     "output_type": "stream",
     "text": [
      "WARNING:tensorflow:Using a while_loop for converting StatelessRandomUniformV2 cause there is no registered converter for this op.\n"
     ]
    },
    {
     "name": "stderr",
     "output_type": "stream",
     "text": [
      "WARNING:tensorflow:Using a while_loop for converting StatelessRandomUniformV2 cause there is no registered converter for this op.\n"
     ]
    },
    {
     "name": "stdout",
     "output_type": "stream",
     "text": [
      "WARNING:tensorflow:Using a while_loop for converting RngReadAndSkip cause there is no registered converter for this op.\n"
     ]
    },
    {
     "name": "stderr",
     "output_type": "stream",
     "text": [
      "WARNING:tensorflow:Using a while_loop for converting RngReadAndSkip cause there is no registered converter for this op.\n"
     ]
    },
    {
     "name": "stdout",
     "output_type": "stream",
     "text": [
      "WARNING:tensorflow:Using a while_loop for converting Bitcast cause there is no registered converter for this op.\n"
     ]
    },
    {
     "name": "stderr",
     "output_type": "stream",
     "text": [
      "WARNING:tensorflow:Using a while_loop for converting Bitcast cause there is no registered converter for this op.\n"
     ]
    },
    {
     "name": "stdout",
     "output_type": "stream",
     "text": [
      "WARNING:tensorflow:Using a while_loop for converting Bitcast cause there is no registered converter for this op.\n"
     ]
    },
    {
     "name": "stderr",
     "output_type": "stream",
     "text": [
      "WARNING:tensorflow:Using a while_loop for converting Bitcast cause there is no registered converter for this op.\n"
     ]
    },
    {
     "name": "stdout",
     "output_type": "stream",
     "text": [
      "WARNING:tensorflow:Using a while_loop for converting StatelessRandomUniformV2 cause there is no registered converter for this op.\n"
     ]
    },
    {
     "name": "stderr",
     "output_type": "stream",
     "text": [
      "WARNING:tensorflow:Using a while_loop for converting StatelessRandomUniformV2 cause there is no registered converter for this op.\n"
     ]
    },
    {
     "name": "stdout",
     "output_type": "stream",
     "text": [
      "WARNING:tensorflow:Using a while_loop for converting ImageProjectiveTransformV3 cause there is no registered converter for this op.\n"
     ]
    },
    {
     "name": "stderr",
     "output_type": "stream",
     "text": [
      "WARNING:tensorflow:Using a while_loop for converting ImageProjectiveTransformV3 cause there is no registered converter for this op.\n"
     ]
    },
    {
     "name": "stdout",
     "output_type": "stream",
     "text": [
      "WARNING:tensorflow:Using a while_loop for converting RngReadAndSkip cause there is no registered converter for this op.\n"
     ]
    },
    {
     "name": "stderr",
     "output_type": "stream",
     "text": [
      "WARNING:tensorflow:Using a while_loop for converting RngReadAndSkip cause there is no registered converter for this op.\n"
     ]
    },
    {
     "name": "stdout",
     "output_type": "stream",
     "text": [
      "WARNING:tensorflow:Using a while_loop for converting Bitcast cause there is no registered converter for this op.\n"
     ]
    },
    {
     "name": "stderr",
     "output_type": "stream",
     "text": [
      "WARNING:tensorflow:Using a while_loop for converting Bitcast cause there is no registered converter for this op.\n"
     ]
    },
    {
     "name": "stdout",
     "output_type": "stream",
     "text": [
      "WARNING:tensorflow:Using a while_loop for converting Bitcast cause there is no registered converter for this op.\n"
     ]
    },
    {
     "name": "stderr",
     "output_type": "stream",
     "text": [
      "WARNING:tensorflow:Using a while_loop for converting Bitcast cause there is no registered converter for this op.\n"
     ]
    },
    {
     "name": "stdout",
     "output_type": "stream",
     "text": [
      "WARNING:tensorflow:Using a while_loop for converting StatelessRandomUniformV2 cause there is no registered converter for this op.\n"
     ]
    },
    {
     "name": "stderr",
     "output_type": "stream",
     "text": [
      "WARNING:tensorflow:Using a while_loop for converting StatelessRandomUniformV2 cause there is no registered converter for this op.\n"
     ]
    },
    {
     "name": "stdout",
     "output_type": "stream",
     "text": [
      "WARNING:tensorflow:Using a while_loop for converting ImageProjectiveTransformV3 cause there is no registered converter for this op.\n"
     ]
    },
    {
     "name": "stderr",
     "output_type": "stream",
     "text": [
      "WARNING:tensorflow:Using a while_loop for converting ImageProjectiveTransformV3 cause there is no registered converter for this op.\n"
     ]
    },
    {
     "name": "stdout",
     "output_type": "stream",
     "text": [
      "WARNING:tensorflow:Using a while_loop for converting RngReadAndSkip cause there is no registered converter for this op.\n"
     ]
    },
    {
     "name": "stderr",
     "output_type": "stream",
     "text": [
      "WARNING:tensorflow:Using a while_loop for converting RngReadAndSkip cause there is no registered converter for this op.\n"
     ]
    },
    {
     "name": "stdout",
     "output_type": "stream",
     "text": [
      "WARNING:tensorflow:Using a while_loop for converting Bitcast cause there is no registered converter for this op.\n"
     ]
    },
    {
     "name": "stderr",
     "output_type": "stream",
     "text": [
      "WARNING:tensorflow:Using a while_loop for converting Bitcast cause there is no registered converter for this op.\n"
     ]
    },
    {
     "name": "stdout",
     "output_type": "stream",
     "text": [
      "WARNING:tensorflow:Using a while_loop for converting Bitcast cause there is no registered converter for this op.\n"
     ]
    },
    {
     "name": "stderr",
     "output_type": "stream",
     "text": [
      "WARNING:tensorflow:Using a while_loop for converting Bitcast cause there is no registered converter for this op.\n"
     ]
    },
    {
     "name": "stdout",
     "output_type": "stream",
     "text": [
      "WARNING:tensorflow:Using a while_loop for converting StatelessRandomUniformV2 cause there is no registered converter for this op.\n"
     ]
    },
    {
     "name": "stderr",
     "output_type": "stream",
     "text": [
      "WARNING:tensorflow:Using a while_loop for converting StatelessRandomUniformV2 cause there is no registered converter for this op.\n"
     ]
    },
    {
     "name": "stdout",
     "output_type": "stream",
     "text": [
      "WARNING:tensorflow:Using a while_loop for converting RngReadAndSkip cause there is no registered converter for this op.\n"
     ]
    },
    {
     "name": "stderr",
     "output_type": "stream",
     "text": [
      "WARNING:tensorflow:Using a while_loop for converting RngReadAndSkip cause there is no registered converter for this op.\n"
     ]
    },
    {
     "name": "stdout",
     "output_type": "stream",
     "text": [
      "WARNING:tensorflow:Using a while_loop for converting Bitcast cause there is no registered converter for this op.\n"
     ]
    },
    {
     "name": "stderr",
     "output_type": "stream",
     "text": [
      "WARNING:tensorflow:Using a while_loop for converting Bitcast cause there is no registered converter for this op.\n"
     ]
    },
    {
     "name": "stdout",
     "output_type": "stream",
     "text": [
      "WARNING:tensorflow:Using a while_loop for converting Bitcast cause there is no registered converter for this op.\n"
     ]
    },
    {
     "name": "stderr",
     "output_type": "stream",
     "text": [
      "WARNING:tensorflow:Using a while_loop for converting Bitcast cause there is no registered converter for this op.\n"
     ]
    },
    {
     "name": "stdout",
     "output_type": "stream",
     "text": [
      "WARNING:tensorflow:Using a while_loop for converting StatelessRandomUniformV2 cause there is no registered converter for this op.\n"
     ]
    },
    {
     "name": "stderr",
     "output_type": "stream",
     "text": [
      "WARNING:tensorflow:Using a while_loop for converting StatelessRandomUniformV2 cause there is no registered converter for this op.\n"
     ]
    },
    {
     "name": "stdout",
     "output_type": "stream",
     "text": [
      "WARNING:tensorflow:Using a while_loop for converting RngReadAndSkip cause there is no registered converter for this op.\n"
     ]
    },
    {
     "name": "stderr",
     "output_type": "stream",
     "text": [
      "WARNING:tensorflow:Using a while_loop for converting RngReadAndSkip cause there is no registered converter for this op.\n"
     ]
    },
    {
     "name": "stdout",
     "output_type": "stream",
     "text": [
      "WARNING:tensorflow:Using a while_loop for converting Bitcast cause there is no registered converter for this op.\n"
     ]
    },
    {
     "name": "stderr",
     "output_type": "stream",
     "text": [
      "WARNING:tensorflow:Using a while_loop for converting Bitcast cause there is no registered converter for this op.\n"
     ]
    },
    {
     "name": "stdout",
     "output_type": "stream",
     "text": [
      "WARNING:tensorflow:Using a while_loop for converting Bitcast cause there is no registered converter for this op.\n"
     ]
    },
    {
     "name": "stderr",
     "output_type": "stream",
     "text": [
      "WARNING:tensorflow:Using a while_loop for converting Bitcast cause there is no registered converter for this op.\n"
     ]
    },
    {
     "name": "stdout",
     "output_type": "stream",
     "text": [
      "WARNING:tensorflow:Using a while_loop for converting StatelessRandomUniformV2 cause there is no registered converter for this op.\n"
     ]
    },
    {
     "name": "stderr",
     "output_type": "stream",
     "text": [
      "WARNING:tensorflow:Using a while_loop for converting StatelessRandomUniformV2 cause there is no registered converter for this op.\n"
     ]
    },
    {
     "name": "stdout",
     "output_type": "stream",
     "text": [
      "WARNING:tensorflow:Using a while_loop for converting ImageProjectiveTransformV3 cause there is no registered converter for this op.\n"
     ]
    },
    {
     "name": "stderr",
     "output_type": "stream",
     "text": [
      "WARNING:tensorflow:Using a while_loop for converting ImageProjectiveTransformV3 cause there is no registered converter for this op.\n"
     ]
    },
    {
     "name": "stdout",
     "output_type": "stream",
     "text": [
      "1088/1088 [==============================] - 119s 103ms/step - loss: 3.3068 - accuracy: 0.1032 - val_loss: 2.9651 - val_accuracy: 0.1785\n",
      "Epoch 2/30\n",
      "1088/1088 [==============================] - 117s 108ms/step - loss: 2.4182 - accuracy: 0.2845 - val_loss: 2.1775 - val_accuracy: 0.3528\n",
      "Epoch 3/30\n",
      "1088/1088 [==============================] - 119s 109ms/step - loss: 1.7243 - accuracy: 0.4444 - val_loss: 1.7013 - val_accuracy: 0.4746\n",
      "Epoch 4/30\n",
      "1088/1088 [==============================] - 117s 107ms/step - loss: 1.4501 - accuracy: 0.5183 - val_loss: 1.4688 - val_accuracy: 0.5392\n",
      "Epoch 5/30\n",
      "1088/1088 [==============================] - 116s 107ms/step - loss: 1.2958 - accuracy: 0.5637 - val_loss: 1.6476 - val_accuracy: 0.5068\n",
      "Epoch 6/30\n",
      "1088/1088 [==============================] - 118s 108ms/step - loss: 1.1704 - accuracy: 0.6041 - val_loss: 1.2986 - val_accuracy: 0.6288\n",
      "Epoch 7/30\n",
      "1088/1088 [==============================] - 118s 109ms/step - loss: 1.0910 - accuracy: 0.6320 - val_loss: 1.3172 - val_accuracy: 0.6166\n",
      "Epoch 8/30\n",
      "1088/1088 [==============================] - 119s 110ms/step - loss: 1.0224 - accuracy: 0.6517 - val_loss: 1.1408 - val_accuracy: 0.6263\n",
      "Epoch 9/30\n",
      "1088/1088 [==============================] - 120s 110ms/step - loss: 0.9437 - accuracy: 0.6775 - val_loss: 1.1663 - val_accuracy: 0.6610\n",
      "Epoch 10/30\n",
      "1088/1088 [==============================] - 120s 110ms/step - loss: 0.9123 - accuracy: 0.6888 - val_loss: 1.2334 - val_accuracy: 0.6374\n",
      "Epoch 11/30\n",
      "1088/1088 [==============================] - 120s 111ms/step - loss: 0.8564 - accuracy: 0.7088 - val_loss: 1.1623 - val_accuracy: 0.6628\n",
      "Epoch 12/30\n",
      "1088/1088 [==============================] - 121s 111ms/step - loss: 0.8266 - accuracy: 0.7202 - val_loss: 1.2135 - val_accuracy: 0.6351\n",
      "Epoch 13/30\n",
      "1088/1088 [==============================] - 121s 111ms/step - loss: 0.7897 - accuracy: 0.7288 - val_loss: 1.0749 - val_accuracy: 0.6685\n",
      "Epoch 14/30\n",
      "1088/1088 [==============================] - 124s 114ms/step - loss: 0.7608 - accuracy: 0.7408 - val_loss: 1.2680 - val_accuracy: 0.6338\n",
      "Epoch 15/30\n",
      "1088/1088 [==============================] - 124s 114ms/step - loss: 0.7271 - accuracy: 0.7502 - val_loss: 1.2009 - val_accuracy: 0.6628\n",
      "Epoch 16/30\n",
      "1088/1088 [==============================] - 128s 118ms/step - loss: 0.7182 - accuracy: 0.7559 - val_loss: 1.2284 - val_accuracy: 0.6444\n",
      "Epoch 17/30\n",
      "1088/1088 [==============================] - 138s 127ms/step - loss: 0.6864 - accuracy: 0.7647 - val_loss: 1.2611 - val_accuracy: 0.6467\n",
      "Epoch 18/30\n",
      "1088/1088 [==============================] - 160s 147ms/step - loss: 0.6699 - accuracy: 0.7729 - val_loss: 1.3130 - val_accuracy: 0.6397\n",
      "Epoch 19/30\n",
      "1088/1088 [==============================] - 167s 153ms/step - loss: 0.6388 - accuracy: 0.7811 - val_loss: 1.2598 - val_accuracy: 0.6590\n",
      "Epoch 20/30\n",
      "1088/1088 [==============================] - 166s 153ms/step - loss: 0.6257 - accuracy: 0.7850 - val_loss: 1.4167 - val_accuracy: 0.6526\n",
      "Epoch 21/30\n",
      "1088/1088 [==============================] - 167s 154ms/step - loss: 0.6120 - accuracy: 0.7914 - val_loss: 1.3745 - val_accuracy: 0.6737\n",
      "Epoch 22/30\n",
      "1088/1088 [==============================] - 165s 152ms/step - loss: 0.6005 - accuracy: 0.7963 - val_loss: 1.3419 - val_accuracy: 0.6601\n",
      "Epoch 23/30\n",
      "1088/1088 [==============================] - 166s 153ms/step - loss: 0.5853 - accuracy: 0.8004 - val_loss: 1.3356 - val_accuracy: 0.6653\n",
      "Epoch 24/30\n",
      "1088/1088 [==============================] - 166s 153ms/step - loss: 0.5797 - accuracy: 0.8003 - val_loss: 1.5885 - val_accuracy: 0.6229\n",
      "Epoch 25/30\n",
      "1088/1088 [==============================] - 166s 153ms/step - loss: 0.5834 - accuracy: 0.8023 - val_loss: 1.5722 - val_accuracy: 0.6288\n",
      "Epoch 26/30\n",
      "1088/1088 [==============================] - 166s 152ms/step - loss: 0.5561 - accuracy: 0.8099 - val_loss: 1.3372 - val_accuracy: 0.6785\n",
      "Epoch 27/30\n",
      "1088/1088 [==============================] - 167s 154ms/step - loss: 0.5506 - accuracy: 0.8119 - val_loss: 1.5219 - val_accuracy: 0.6719\n",
      "Epoch 28/30\n",
      "1088/1088 [==============================] - 178s 163ms/step - loss: 0.5293 - accuracy: 0.8199 - val_loss: 1.6242 - val_accuracy: 0.6646\n",
      "Epoch 29/30\n",
      "1088/1088 [==============================] - 173s 159ms/step - loss: 0.5337 - accuracy: 0.8187 - val_loss: 1.6127 - val_accuracy: 0.6583\n",
      "Epoch 30/30\n",
      "1088/1088 [==============================] - 179s 165ms/step - loss: 0.5142 - accuracy: 0.8216 - val_loss: 1.4479 - val_accuracy: 0.7088\n"
     ]
    }
   ],
   "source": [
    "history_with_aug = aug_cnn_seq.fit(x_train_gray_norm, y_train, batch_size=32, epochs=30, verbose=1, validation_data=(x_val_gray_norm, y_val))"
   ]
  },
  {
   "cell_type": "code",
   "execution_count": 420,
   "id": "b64dadab",
   "metadata": {},
   "outputs": [],
   "source": [
    "aug = ImageDataGenerator(\n",
    "    rotation_range=10,\n",
    "    zoom_range=0.15,\n",
    "    width_shift_range=0.1,\n",
    "    height_shift_range=0.1,\n",
    "    shear_range=0.15,\n",
    "    horizontal_flip=False,\n",
    "    vertical_flip=False,\n",
    "    fill_mode=\"nearest\")"
   ]
  },
  {
   "cell_type": "code",
   "execution_count": 424,
   "id": "5f6050ce",
   "metadata": {},
   "outputs": [
    {
     "name": "stdout",
     "output_type": "stream",
     "text": [
      "Epoch 1/10\n",
      "1088/1088 [==============================] - 22s 20ms/step - loss: 1.4409 - accuracy: 0.5702 - val_loss: 0.8886 - val_accuracy: 0.7340\n",
      "Epoch 2/10\n",
      "1088/1088 [==============================] - 24s 22ms/step - loss: 1.0076 - accuracy: 0.6953 - val_loss: 0.7338 - val_accuracy: 0.7664\n",
      "Epoch 3/10\n",
      "1088/1088 [==============================] - 24s 22ms/step - loss: 0.7761 - accuracy: 0.7639 - val_loss: 0.6044 - val_accuracy: 0.8177\n",
      "Epoch 4/10\n",
      "1088/1088 [==============================] - 24s 22ms/step - loss: 0.6519 - accuracy: 0.7970 - val_loss: 0.5213 - val_accuracy: 0.8490\n",
      "Epoch 5/10\n",
      "1088/1088 [==============================] - 23s 21ms/step - loss: 0.5615 - accuracy: 0.8258 - val_loss: 0.4214 - val_accuracy: 0.8766\n",
      "Epoch 6/10\n",
      "1088/1088 [==============================] - 24s 22ms/step - loss: 0.5029 - accuracy: 0.8444 - val_loss: 0.4441 - val_accuracy: 0.8819\n",
      "Epoch 7/10\n",
      "1088/1088 [==============================] - 24s 22ms/step - loss: 0.4566 - accuracy: 0.8592 - val_loss: 0.4014 - val_accuracy: 0.8780\n",
      "Epoch 8/10\n",
      "1088/1088 [==============================] - 25s 23ms/step - loss: 0.4116 - accuracy: 0.8730 - val_loss: 0.3581 - val_accuracy: 0.8853\n",
      "Epoch 9/10\n",
      "1088/1088 [==============================] - 24s 22ms/step - loss: 0.3824 - accuracy: 0.8811 - val_loss: 0.3650 - val_accuracy: 0.8948\n",
      "Epoch 10/10\n",
      "1088/1088 [==============================] - 24s 22ms/step - loss: 0.3557 - accuracy: 0.8880 - val_loss: 0.3724 - val_accuracy: 0.9000\n"
     ]
    }
   ],
   "source": [
    "history_with_aug = cnn_seq.fit(aug.flow(x_train_gray_norm, y_train, batch_size=32), epochs=10, validation_data=(x_val_gray_norm, y_val))"
   ]
  },
  {
   "cell_type": "code",
   "execution_count": null,
   "id": "034d385c",
   "metadata": {},
   "outputs": [],
   "source": []
  }
 ],
 "metadata": {
  "kernelspec": {
   "display_name": "Python 3 (ipykernel)",
   "language": "python",
   "name": "python3"
  },
  "language_info": {
   "codemirror_mode": {
    "name": "ipython",
    "version": 3
   },
   "file_extension": ".py",
   "mimetype": "text/x-python",
   "name": "python",
   "nbconvert_exporter": "python",
   "pygments_lexer": "ipython3",
   "version": "3.9.12"
  }
 },
 "nbformat": 4,
 "nbformat_minor": 5
}
